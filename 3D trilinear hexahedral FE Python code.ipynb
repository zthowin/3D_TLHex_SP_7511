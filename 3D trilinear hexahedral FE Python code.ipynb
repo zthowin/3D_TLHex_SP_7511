{
 "cells": [
  {
   "cell_type": "markdown",
   "metadata": {},
   "source": [
    "*This notebook was written by Zachariah Irwin (zachariah.irwin@colorado.edu) of University of Colorado Boulder on October 10, 2022 and last edited on October 11, 2022; please contact for questions on this Python code.*"
   ]
  },
  {
   "cell_type": "markdown",
   "metadata": {},
   "source": [
    "# Introduction\n",
    "The code below demonstrates a 3-D uniaxial strain problem using simple displacement or traction boundary conditions. The location matrix, or element connectivity matrix, is hard-coded for two trilinear hexahedral finite elements (FE), and the application of boundary conditions is similarly inflexible."
   ]
  },
  {
   "cell_type": "markdown",
   "metadata": {},
   "source": [
    "## A primer on `np.einsum`\n",
    "This code makes heavy use of NumPy's `einsum` function. The advantage to using this function is (i) readability (we can use index notation from our notes) and (ii) performance (highly optimized in `c`).\n",
    "\n",
    "We begin with a few examples of how it works. Full documentation can be found at https://numpy.org/doc/stable/reference/generated/numpy.einsum.html."
   ]
  },
  {
   "cell_type": "code",
   "execution_count": 1,
   "metadata": {},
   "outputs": [],
   "source": [
    "import numpy as np"
   ]
  },
  {
   "cell_type": "code",
   "execution_count": 2,
   "metadata": {},
   "outputs": [],
   "source": [
    "np.set_printoptions(precision=5)"
   ]
  },
  {
   "cell_type": "code",
   "execution_count": 3,
   "metadata": {},
   "outputs": [],
   "source": [
    "array_1 = np.random.randn(3,3)"
   ]
  },
  {
   "cell_type": "code",
   "execution_count": 4,
   "metadata": {},
   "outputs": [
    {
     "name": "stdout",
     "output_type": "stream",
     "text": [
      "[[ 0.55932 -0.17941  0.63741]\n",
      " [ 0.23291  1.95067  0.0847 ]\n",
      " [-1.64709 -1.56095 -0.21308]]\n"
     ]
    }
   ],
   "source": [
    "print(array_1)"
   ]
  },
  {
   "cell_type": "markdown",
   "metadata": {},
   "source": [
    "First, take the trace of this array, i.e., $A_{ii}$:"
   ]
  },
  {
   "cell_type": "code",
   "execution_count": 5,
   "metadata": {},
   "outputs": [],
   "source": [
    "def loop_trace(arr):\n",
    "    trace = 0\n",
    "    for i in range(arr.shape[0]):\n",
    "        trace += arr[i,i]\n",
    "    return trace"
   ]
  },
  {
   "cell_type": "code",
   "execution_count": 6,
   "metadata": {},
   "outputs": [],
   "source": [
    "def numpy_trace(arr):\n",
    "    return np.trace(arr)"
   ]
  },
  {
   "cell_type": "code",
   "execution_count": 7,
   "metadata": {},
   "outputs": [],
   "source": [
    "def einsum_trace(arr):\n",
    "    return np.einsum('ii', arr)"
   ]
  },
  {
   "cell_type": "code",
   "execution_count": 8,
   "metadata": {},
   "outputs": [
    {
     "name": "stdout",
     "output_type": "stream",
     "text": [
      "985 ns ± 23.4 ns per loop (mean ± std. dev. of 7 runs, 1000000 loops each)\n",
      "2.97 µs ± 233 ns per loop (mean ± std. dev. of 7 runs, 100000 loops each)\n",
      "1.61 µs ± 22.3 ns per loop (mean ± std. dev. of 7 runs, 1000000 loops each)\n"
     ]
    }
   ],
   "source": [
    "%timeit loop_trace(array_1)\n",
    "%timeit numpy_trace(array_1)\n",
    "%timeit einsum_trace(array_1)"
   ]
  },
  {
   "cell_type": "code",
   "execution_count": 10,
   "metadata": {},
   "outputs": [
    {
     "name": "stdout",
     "output_type": "stream",
     "text": [
      "True\n",
      "True\n"
     ]
    }
   ],
   "source": [
    "print(loop_trace(array_1) == numpy_trace(array_1))\n",
    "print(loop_trace(array_1) == einsum_trace(array_1))"
   ]
  },
  {
   "cell_type": "markdown",
   "metadata": {},
   "source": [
    "Not much difference between these three as far as the timing goes. What about other operations, e.g., $\\mathbf{a}\\otimes\\mathbf{b} = \\mathbf{C}$ or $a_ib_j = C_{ij}$?"
   ]
  },
  {
   "cell_type": "code",
   "execution_count": 11,
   "metadata": {},
   "outputs": [],
   "source": [
    "vec_1   = np.random.randn(3)\n",
    "vec_2   = np.random.randn(2)\n",
    "array_2 = np.random.randn(3,2)"
   ]
  },
  {
   "cell_type": "code",
   "execution_count": 12,
   "metadata": {},
   "outputs": [],
   "source": [
    "def loop_outer(v1, v2):\n",
    "    outer = np.zeros((v1.shape[0], v2.shape[0]))\n",
    "    for i in range(v1.shape[0]):\n",
    "        for j in range(v2.shape[0]):\n",
    "            outer[i,j] = v1[i]*v2[j]\n",
    "    return outer"
   ]
  },
  {
   "cell_type": "code",
   "execution_count": 13,
   "metadata": {},
   "outputs": [],
   "source": [
    "def numpy_outer(v1, v2):\n",
    "    return np.tensordot(v1, v2, axes=0)"
   ]
  },
  {
   "cell_type": "code",
   "execution_count": 14,
   "metadata": {},
   "outputs": [],
   "source": [
    "def einsum_outer(v1, v2):\n",
    "    return np.einsum('i, j -> ij', v1, v2)"
   ]
  },
  {
   "cell_type": "code",
   "execution_count": 15,
   "metadata": {},
   "outputs": [
    {
     "name": "stdout",
     "output_type": "stream",
     "text": [
      "3.25 µs ± 181 ns per loop (mean ± std. dev. of 7 runs, 100000 loops each)\n",
      "11.7 µs ± 168 ns per loop (mean ± std. dev. of 7 runs, 100000 loops each)\n",
      "1.8 µs ± 17.7 ns per loop (mean ± std. dev. of 7 runs, 1000000 loops each)\n"
     ]
    }
   ],
   "source": [
    "%timeit loop_outer(vec_1, vec_2)\n",
    "%timeit numpy_outer(vec_1, vec_2)\n",
    "%timeit einsum_outer(vec_1, vec_2)"
   ]
  },
  {
   "cell_type": "code",
   "execution_count": 16,
   "metadata": {},
   "outputs": [
    {
     "name": "stdout",
     "output_type": "stream",
     "text": [
      "[[ True  True]\n",
      " [ True  True]\n",
      " [ True  True]]\n",
      "[[ True  True]\n",
      " [ True  True]\n",
      " [ True  True]]\n"
     ]
    }
   ],
   "source": [
    "print(loop_outer(vec_1, vec_2) == numpy_outer(vec_1, vec_2))\n",
    "print(loop_outer(vec_1, vec_2) == einsum_outer(vec_1, vec_2))"
   ]
  },
  {
   "cell_type": "markdown",
   "metadata": {},
   "source": [
    "A bit of a performance boost over a for-loop and well beyond `tensordot`.\n",
    "\n",
    "Next, do matrix-vector multiplication, e.g., $\\mathbf{A}\\mathbf{b} = \\mathbf{c}$ or $A_{ij}b_j = c_i$:"
   ]
  },
  {
   "cell_type": "code",
   "execution_count": 17,
   "metadata": {},
   "outputs": [],
   "source": [
    "def loop_matvec(mat, vec):\n",
    "    vector = np.zeros((mat.shape[0]))\n",
    "    for i in range(mat.shape[0]):\n",
    "        for j in range(mat.shape[1]):\n",
    "            vector[i] += mat[i,j]*vec[j]\n",
    "    return vector"
   ]
  },
  {
   "cell_type": "code",
   "execution_count": 18,
   "metadata": {},
   "outputs": [],
   "source": [
    "def numpy_matvec(mat, vec):\n",
    "    return mat@vec.T"
   ]
  },
  {
   "cell_type": "code",
   "execution_count": 19,
   "metadata": {},
   "outputs": [],
   "source": [
    "def numpy_matvec_dot(mat, vec):\n",
    "    return np.dot(mat, vec)"
   ]
  },
  {
   "cell_type": "code",
   "execution_count": 20,
   "metadata": {},
   "outputs": [],
   "source": [
    "def numpy_matvec_tensordot(mat, vec):\n",
    "    return np.tensordot(mat, vec, axes=1)"
   ]
  },
  {
   "cell_type": "code",
   "execution_count": 21,
   "metadata": {},
   "outputs": [],
   "source": [
    "def einsum_matvec(mat, vec):\n",
    "    return np.einsum('ij, j -> i', mat, vec)"
   ]
  },
  {
   "cell_type": "code",
   "execution_count": 22,
   "metadata": {},
   "outputs": [
    {
     "name": "stdout",
     "output_type": "stream",
     "text": [
      "6.31 µs ± 30.1 ns per loop (mean ± std. dev. of 7 runs, 100000 loops each)\n",
      "1.04 µs ± 9.44 ns per loop (mean ± std. dev. of 7 runs, 1000000 loops each)\n",
      "765 ns ± 0.777 ns per loop (mean ± std. dev. of 7 runs, 1000000 loops each)\n",
      "12.9 µs ± 222 ns per loop (mean ± std. dev. of 7 runs, 100000 loops each)\n",
      "1.85 µs ± 14.4 ns per loop (mean ± std. dev. of 7 runs, 1000000 loops each)\n"
     ]
    }
   ],
   "source": [
    "%timeit loop_matvec(array_1, vec_1)\n",
    "%timeit numpy_matvec(array_1, vec_1)\n",
    "%timeit numpy_matvec_dot(array_1, vec_1)\n",
    "%timeit numpy_matvec_tensordot(array_1, vec_1)\n",
    "%timeit einsum_matvec(array_1, vec_1)"
   ]
  },
  {
   "cell_type": "code",
   "execution_count": 23,
   "metadata": {},
   "outputs": [
    {
     "name": "stdout",
     "output_type": "stream",
     "text": [
      "[-0.39744 -1.49005  3.51589]\n",
      "[-0.39744 -1.49005  3.51589]\n",
      "[-0.39744 -1.49005  3.51589]\n",
      "[-0.39744 -1.49005  3.51589]\n",
      "[-0.39744 -1.49005  3.51589]\n"
     ]
    }
   ],
   "source": [
    "print(loop_matvec(array_1, vec_1))\n",
    "print(numpy_matvec(array_1, vec_1))\n",
    "print(numpy_matvec_dot(array_1, vec_1))\n",
    "print(numpy_matvec_tensordot(array_1, vec_1))\n",
    "print(einsum_matvec(array_1, vec_1))"
   ]
  },
  {
   "cell_type": "markdown",
   "metadata": {},
   "source": [
    "We get beat by the traditional `dot` or `@`, which aren't really clear on what the operation taking place under the hood is.\n",
    "\n",
    "Next, do matrix-matrix multiplcation, e.g., $\\mathbf{A}\\mathbf{B} = \\mathbf{C}$ or $A_{ik}B_{kj} = C_{ij}$"
   ]
  },
  {
   "cell_type": "code",
   "execution_count": 24,
   "metadata": {},
   "outputs": [],
   "source": [
    "def loop_matmat(mat1, mat2):\n",
    "    matrix = np.zeros((mat1.shape[0], mat2.shape[1]))\n",
    "    for i in range(mat1.shape[0]):\n",
    "        for j in range(mat2.shape[1]):\n",
    "            for k in range(mat1.shape[1]):\n",
    "                matrix[i,j] += mat1[i,k]*mat2[k,j]\n",
    "    return matrix"
   ]
  },
  {
   "cell_type": "code",
   "execution_count": 25,
   "metadata": {},
   "outputs": [],
   "source": [
    "def numpy_matmat(mat1, mat2):\n",
    "    return mat1@mat2"
   ]
  },
  {
   "cell_type": "code",
   "execution_count": 26,
   "metadata": {},
   "outputs": [],
   "source": [
    "def numpy_matmat_dot(mat1, mat2):\n",
    "    return np.dot(mat1, mat2)"
   ]
  },
  {
   "cell_type": "code",
   "execution_count": 27,
   "metadata": {},
   "outputs": [],
   "source": [
    "def numpy_matmat_tensordot(mat1, mat2):\n",
    "    return np.tensordot(mat1, mat2, axes=1)"
   ]
  },
  {
   "cell_type": "code",
   "execution_count": 28,
   "metadata": {},
   "outputs": [],
   "source": [
    "def einsum_matmat(mat1, mat2):\n",
    "    return np.einsum('ik, kj -> ij', mat1, mat2)"
   ]
  },
  {
   "cell_type": "code",
   "execution_count": 29,
   "metadata": {},
   "outputs": [
    {
     "name": "stdout",
     "output_type": "stream",
     "text": [
      "14 µs ± 72.2 ns per loop (mean ± std. dev. of 7 runs, 100000 loops each)\n",
      "1.07 µs ± 9.8 ns per loop (mean ± std. dev. of 7 runs, 1000000 loops each)\n",
      "913 ns ± 3.47 ns per loop (mean ± std. dev. of 7 runs, 1000000 loops each)\n",
      "13.7 µs ± 898 ns per loop (mean ± std. dev. of 7 runs, 100000 loops each)\n",
      "2.07 µs ± 10.8 ns per loop (mean ± std. dev. of 7 runs, 100000 loops each)\n"
     ]
    }
   ],
   "source": [
    "%timeit loop_matmat(array_1, array_2)\n",
    "%timeit numpy_matmat(array_1, array_2)\n",
    "%timeit numpy_matmat_dot(array_1, array_2)\n",
    "%timeit numpy_matmat_tensordot(array_1, array_2)\n",
    "%timeit einsum_matmat(array_1, array_2)"
   ]
  },
  {
   "cell_type": "code",
   "execution_count": 30,
   "metadata": {},
   "outputs": [
    {
     "name": "stdout",
     "output_type": "stream",
     "text": [
      "[[ 0.45159  0.89922]\n",
      " [-1.3708   1.13891]\n",
      " [ 0.97561 -2.49711]]\n",
      "[[ 0.45159  0.89922]\n",
      " [-1.3708   1.13891]\n",
      " [ 0.97561 -2.49711]]\n",
      "[[ 0.45159  0.89922]\n",
      " [-1.3708   1.13891]\n",
      " [ 0.97561 -2.49711]]\n",
      "[[ 0.45159  0.89922]\n",
      " [-1.3708   1.13891]\n",
      " [ 0.97561 -2.49711]]\n",
      "[[ 0.45159  0.89922]\n",
      " [-1.3708   1.13891]\n",
      " [ 0.97561 -2.49711]]\n"
     ]
    }
   ],
   "source": [
    "print(loop_matmat(array_1, array_2))\n",
    "print(numpy_matmat(array_1, array_2))\n",
    "print(numpy_matmat_dot(array_1, array_2))\n",
    "print(numpy_matmat_tensordot(array_1, array_2))\n",
    "print(einsum_matmat(array_1, array_2))"
   ]
  },
  {
   "cell_type": "markdown",
   "metadata": {},
   "source": [
    "Here we see that `einsum` is much faster than `tensordot` and the for-loop, and still only slightly behind the traditional methods. But what if we have much higher order tensors, e.g., 4th order?"
   ]
  },
  {
   "cell_type": "code",
   "execution_count": 31,
   "metadata": {},
   "outputs": [],
   "source": [
    "fourth_order_tensor = np.random.randn(3,3,3,3)\n",
    "second_order_tensor = np.random.randn(3,3)"
   ]
  },
  {
   "cell_type": "code",
   "execution_count": 32,
   "metadata": {},
   "outputs": [],
   "source": [
    "def loop_matmat_ho(mat1, mat2):\n",
    "    matrix = np.zeros((mat1.shape[0], mat1.shape[1]))\n",
    "    for i in range(mat1.shape[0]):\n",
    "        for j in range(mat1.shape[1]):\n",
    "            for k in range(mat1.shape[2]):\n",
    "                for l in range(mat1.shape[3]):\n",
    "                    matrix[i,j] += mat1[i,j,k,l]*mat2[k,l]\n",
    "    return matrix"
   ]
  },
  {
   "cell_type": "code",
   "execution_count": 33,
   "metadata": {},
   "outputs": [],
   "source": [
    "def numpy_matmat_tensordot_ho(mat1, mat2):\n",
    "    return np.tensordot(mat1, mat2, axes=2)"
   ]
  },
  {
   "cell_type": "code",
   "execution_count": 34,
   "metadata": {},
   "outputs": [],
   "source": [
    "def einsum_matmat_ho(mat1, mat2):\n",
    "    return np.einsum('ijkl, kl -> ij', mat1, mat2)"
   ]
  },
  {
   "cell_type": "code",
   "execution_count": 35,
   "metadata": {
    "scrolled": true
   },
   "outputs": [
    {
     "name": "stdout",
     "output_type": "stream",
     "text": [
      "63.1 µs ± 739 ns per loop (mean ± std. dev. of 7 runs, 10000 loops each)\n",
      "2.53 µs ± 93 ns per loop (mean ± std. dev. of 7 runs, 100000 loops each)\n",
      "2.4 µs ± 20.4 ns per loop (mean ± std. dev. of 7 runs, 100000 loops each)\n",
      "14 µs ± 269 ns per loop (mean ± std. dev. of 7 runs, 100000 loops each)\n",
      "2.12 µs ± 4.12 ns per loop (mean ± std. dev. of 7 runs, 100000 loops each)\n"
     ]
    }
   ],
   "source": [
    "%timeit loop_matmat_ho(fourth_order_tensor, second_order_tensor)\n",
    "%timeit numpy_matmat(fourth_order_tensor, second_order_tensor)\n",
    "%timeit numpy_matmat_dot(fourth_order_tensor, second_order_tensor)\n",
    "%timeit numpy_matmat_tensordot_ho(fourth_order_tensor, second_order_tensor)\n",
    "%timeit einsum_matmat_ho(fourth_order_tensor, second_order_tensor)"
   ]
  },
  {
   "cell_type": "code",
   "execution_count": 36,
   "metadata": {},
   "outputs": [
    {
     "name": "stdout",
     "output_type": "stream",
     "text": [
      "[[ 0.16992  3.39186 -4.57075]\n",
      " [ 3.46187  1.47801  2.98724]\n",
      " [ 2.79166  1.5775  -4.73278]]\n",
      "[[[[ 1.32114 -2.19085  1.51025]\n",
      "   [ 0.09893  5.57596  0.34308]\n",
      "   [-2.51572 -1.07217 -1.83015]]\n",
      "\n",
      "  [[ 1.15565 -3.26338  0.58064]\n",
      "   [ 1.43217  3.7016   2.28801]\n",
      "   [-1.16133  1.06565 -1.13127]]\n",
      "\n",
      "  [[ 2.30167  0.97761  2.39032]\n",
      "   [-1.54273 -1.91437 -1.32527]\n",
      "   [-2.81266 -0.52558 -2.94981]]]\n",
      "\n",
      "\n",
      " [[[-0.1563  -0.34459 -1.18331]\n",
      "   [ 2.06656  0.63531  1.96128]\n",
      "   [-4.54635  0.60361 -5.07979]]\n",
      "\n",
      "  [[ 2.09943 -1.21746  2.23621]\n",
      "   [ 1.34924 -2.77466  0.96935]\n",
      "   [ 0.28579 -4.85441  0.42759]]\n",
      "\n",
      "  [[ 4.10738  4.59573  4.46556]\n",
      "   [ 2.98943  3.18547  3.09894]\n",
      "   [-0.8863  -2.29386 -1.05357]]]\n",
      "\n",
      "\n",
      " [[[-0.51714  1.39541 -0.95388]\n",
      "   [-0.05678  1.25934  0.42957]\n",
      "   [ 0.75615  0.63461  1.13161]]\n",
      "\n",
      "  [[ 1.00798  2.77602  0.76503]\n",
      "   [-3.01567  0.0688  -3.3021 ]\n",
      "   [ 0.32278  6.44464  0.62402]]\n",
      "\n",
      "  [[-0.89437  0.98715 -0.7917 ]\n",
      "   [-0.90681  2.77889 -0.26301]\n",
      "   [-1.11994 -0.88958 -1.66711]]]]\n",
      "[[[[ 1.32114 -2.19085  1.51025]\n",
      "   [ 0.09893  5.57596  0.34308]\n",
      "   [-2.51572 -1.07217 -1.83015]]\n",
      "\n",
      "  [[ 1.15565 -3.26338  0.58064]\n",
      "   [ 1.43217  3.7016   2.28801]\n",
      "   [-1.16133  1.06565 -1.13127]]\n",
      "\n",
      "  [[ 2.30167  0.97761  2.39032]\n",
      "   [-1.54273 -1.91437 -1.32527]\n",
      "   [-2.81266 -0.52558 -2.94981]]]\n",
      "\n",
      "\n",
      " [[[-0.1563  -0.34459 -1.18331]\n",
      "   [ 2.06656  0.63531  1.96128]\n",
      "   [-4.54635  0.60361 -5.07979]]\n",
      "\n",
      "  [[ 2.09943 -1.21746  2.23621]\n",
      "   [ 1.34924 -2.77466  0.96935]\n",
      "   [ 0.28579 -4.85441  0.42759]]\n",
      "\n",
      "  [[ 4.10738  4.59573  4.46556]\n",
      "   [ 2.98943  3.18547  3.09894]\n",
      "   [-0.8863  -2.29386 -1.05357]]]\n",
      "\n",
      "\n",
      " [[[-0.51714  1.39541 -0.95388]\n",
      "   [-0.05678  1.25934  0.42957]\n",
      "   [ 0.75615  0.63461  1.13161]]\n",
      "\n",
      "  [[ 1.00798  2.77602  0.76503]\n",
      "   [-3.01567  0.0688  -3.3021 ]\n",
      "   [ 0.32278  6.44464  0.62402]]\n",
      "\n",
      "  [[-0.89437  0.98715 -0.7917 ]\n",
      "   [-0.90681  2.77889 -0.26301]\n",
      "   [-1.11994 -0.88958 -1.66711]]]]\n",
      "[[ 0.16992  3.39186 -4.57075]\n",
      " [ 3.46187  1.47801  2.98724]\n",
      " [ 2.79166  1.5775  -4.73278]]\n",
      "[[ 0.16992  3.39186 -4.57075]\n",
      " [ 3.46187  1.47801  2.98724]\n",
      " [ 2.79166  1.5775  -4.73278]]\n"
     ]
    }
   ],
   "source": [
    "print(loop_matmat_ho(fourth_order_tensor, second_order_tensor))\n",
    "print(numpy_matmat(fourth_order_tensor, second_order_tensor))\n",
    "print(numpy_matmat_dot(fourth_order_tensor, second_order_tensor))\n",
    "print(numpy_matmat_tensordot_ho(fourth_order_tensor, second_order_tensor))\n",
    "print(einsum_matmat_ho(fourth_order_tensor, second_order_tensor))"
   ]
  },
  {
   "cell_type": "markdown",
   "metadata": {},
   "source": [
    "When we naively used the built-in functions and we got the wrong result. What if we try to catch this?"
   ]
  },
  {
   "cell_type": "code",
   "execution_count": 37,
   "metadata": {},
   "outputs": [
    {
     "name": "stdout",
     "output_type": "stream",
     "text": [
      "[[ 1.24048  4.66774 -5.40083]\n",
      " [-6.04358 -1.47892 18.20879]\n",
      " [ 4.07889  5.69151 -2.76648]]\n",
      "[[ 1.24048  4.66774 -5.40083]\n",
      " [-6.04358 -1.47892 18.20879]\n",
      " [ 4.07889  5.69151 -2.76648]]\n"
     ]
    }
   ],
   "source": [
    "print(np.sum(numpy_matmat(fourth_order_tensor, second_order_tensor), axis=(2,3)))\n",
    "print(np.sum(numpy_matmat_dot(fourth_order_tensor, second_order_tensor), axis=(2,3)))"
   ]
  },
  {
   "cell_type": "markdown",
   "metadata": {},
   "source": [
    "Still wrong! This has to do with how those functions are programmed. From the documentation:\n",
    "    \n",
    "`@`: \"If either argument is N-D, N > 2, it is treated as a stack of matrices residing in the last two indexes and broadcast accordingly.\" https://numpy.org/doc/stable/reference/generated/numpy.matmul.html#numpy.matmul\n",
    "\n",
    "`dot`: \"If a is an N-D array and b is an M-D array (where M>=2), it is a sum product over the last axis of a and the second-to-last axis of b\" https://numpy.org/doc/stable/reference/generated/numpy.dot.html#numpy.dot\n",
    "\n",
    "This is why it is convenient to use `einsum`; not only is the notation clear and simple, but it is faster than the loop and `tensordot`. (You could also do the re-shaping and broadcasting of arrays yourself using combinations of `.newaxis` and `.sum` but this is not trivial to the average engineer!)"
   ]
  },
  {
   "cell_type": "markdown",
   "metadata": {},
   "source": [
    "# The 3-D hexahedral element\n",
    "The methodology of this Python code is to create an object that can be used to represent the finite element.\n",
    "\n",
    "For small problems, this won't really change the performance, but it does matter for larger problems. Defining the element as its own object also makes it easier for the user to parallelize computations on all of the elements (e.g., 100 element problem split up over 10 processors) since element computations are independent of one another. In addition, it makes readability (and debugging) a little easier.\n",
    "\n",
    "First, let us create the coordinates of one trilinear hexahedral element. Here we have a 0.01 x 0.01 x 0.05 meter column."
   ]
  },
  {
   "cell_type": "code",
   "execution_count": 38,
   "metadata": {},
   "outputs": [],
   "source": [
    "numEl    = 1\n",
    "numGauss = 8\n",
    "numDim   = 3\n",
    "\n",
    "coordinates = np.zeros((numEl, numGauss, numDim))\n",
    "coordinates[0,:,:] = np.array([[0.0,  0.0,  0.0],\n",
    "                               [0.01, 0.0,  0.0],\n",
    "                               [0.01, 0.01, 0.0],\n",
    "                               [0.0,  0.01, 0.0],\n",
    "                               [0.0,  0.0,  0.05],\n",
    "                               [0.01, 0.0,  0.05],\n",
    "                               [0.01, 0.01, 0.05],\n",
    "                               [0.0,  0.01, 0.05]])"
   ]
  },
  {
   "cell_type": "markdown",
   "metadata": {},
   "source": [
    "With the coordinates, we can now initialize the element object. The `Parameters` class is created just to avoid having to index an array getting passed into functions (e.g., `Parameters.mu` instead of `mu = Parameters[0]`)."
   ]
  },
  {
   "cell_type": "code",
   "execution_count": 39,
   "metadata": {},
   "outputs": [],
   "source": [
    "class Parameters:\n",
    "    \n",
    "    def __init__(self):\n",
    "        self.float_dtype = np.float64 # argument for precision of NumPy arrays used in element object"
   ]
  },
  {
   "cell_type": "code",
   "execution_count": 40,
   "metadata": {},
   "outputs": [],
   "source": [
    "import classElement"
   ]
  },
  {
   "cell_type": "code",
   "execution_count": 41,
   "metadata": {},
   "outputs": [],
   "source": [
    "params  = Parameters()\n",
    "element = classElement.Element(a_GaussOrder=2, a_ID=0)\n",
    "element.set_Gauss_Points(params)\n",
    "element.set_Gauss_Weights(params)\n",
    "element.set_Coordinates(coordinates[element.ID,:,:])"
   ]
  },
  {
   "cell_type": "code",
   "execution_count": 42,
   "metadata": {},
   "outputs": [
    {
     "name": "stdout",
     "output_type": "stream",
     "text": [
      "[[0.   0.   0.  ]\n",
      " [0.01 0.   0.  ]\n",
      " [0.01 0.01 0.  ]\n",
      " [0.   0.01 0.  ]\n",
      " [0.   0.   0.05]\n",
      " [0.01 0.   0.05]\n",
      " [0.01 0.01 0.05]\n",
      " [0.   0.01 0.05]]\n"
     ]
    }
   ],
   "source": [
    "print(element.coordinates)"
   ]
  },
  {
   "cell_type": "markdown",
   "metadata": {},
   "source": [
    "Next, we can initialize the shape functions. The displacement shape functions are constant, i.e., we only need to define them once because the local coordinates are not changing. However, the strain-displacement shape functions are not constant because they depend on some deformation at time $t_n$.\n",
    "\n",
    "Here, we introduce the concept of broadcasting. Broadcasting is an efficient method to perform calculations on large datasets. In this example, our \"large\" dataset is the 8 Gauss points. Even though that is relatively small, remember from the introduction that Python does not perform well when using loops. If we were to use higher-order interpolations, looping over the Gauss points to reinitialize the shape functions in memory would become prohibitively expensive.\n",
    "\n",
    "So the leading dimension of all element-related quantities, whether they be interpolation functions or stress measures (e.g., $\\boldsymbol{\\sigma}^e$), represents the Gauss point, and trailing dimensions represent the physical interpreation."
   ]
  },
  {
   "cell_type": "code",
   "execution_count": 43,
   "metadata": {
    "scrolled": false
   },
   "outputs": [
    {
     "name": "stdout",
     "output_type": "stream",
     "text": [
      "[[-0.57735 -0.57735 -0.57735]\n",
      " [ 0.57735 -0.57735 -0.57735]\n",
      " [ 0.57735  0.57735 -0.57735]\n",
      " [-0.57735  0.57735 -0.57735]\n",
      " [-0.57735 -0.57735  0.57735]\n",
      " [ 0.57735 -0.57735  0.57735]\n",
      " [ 0.57735  0.57735  0.57735]\n",
      " [-0.57735  0.57735  0.57735]]\n",
      "(8, 3)\n"
     ]
    }
   ],
   "source": [
    "print(element.points)\n",
    "print(element.points.shape)"
   ]
  },
  {
   "cell_type": "markdown",
   "metadata": {},
   "source": [
    "$\\boldsymbol{\\xi}^e = [\\xi \\quad \\eta \\quad \\zeta]^e$ has shape 8x3 (8 Gauss points, 3 dimensions xyz) "
   ]
  },
  {
   "cell_type": "code",
   "execution_count": 44,
   "metadata": {},
   "outputs": [],
   "source": [
    "element.evaluate_Shape_Functions(params)"
   ]
  },
  {
   "cell_type": "code",
   "execution_count": 45,
   "metadata": {},
   "outputs": [
    {
     "name": "stdout",
     "output_type": "stream",
     "text": [
      "[-0.57735  0.57735  0.57735 -0.57735 -0.57735  0.57735  0.57735 -0.57735]\n",
      "(8,)\n",
      "[-0.57735 -0.57735  0.57735  0.57735 -0.57735 -0.57735  0.57735  0.57735]\n",
      "(8,)\n",
      "[-0.57735 -0.57735 -0.57735 -0.57735  0.57735  0.57735  0.57735  0.57735]\n",
      "(8,)\n"
     ]
    }
   ],
   "source": [
    "print(element.xi); print(element.xi.shape)\n",
    "print(element.eta); print(element.eta.shape)\n",
    "print(element.zeta); print(element.zeta.shape)"
   ]
  },
  {
   "cell_type": "markdown",
   "metadata": {},
   "source": [
    "Here, `Nu` is an 8x3x24, i.e.,\n",
    "\n",
    "$\\mathbf{N}^{u,e} := \\sum_{a=1}^8 \\underbrace{N^u_a(\\boldsymbol{\\xi})}_{n_{dim}\\times(n_{dim}\\times n_{Gauss})} = \\sum_{a=1}^8 \\underbrace{N_a(\\boldsymbol{\\xi})}_{3\\times 24}$"
   ]
  },
  {
   "cell_type": "code",
   "execution_count": 46,
   "metadata": {},
   "outputs": [
    {
     "name": "stdout",
     "output_type": "stream",
     "text": [
      "(8, 3, 24)\n"
     ]
    }
   ],
   "source": [
    "print(element.Nu.shape)"
   ]
  },
  {
   "cell_type": "markdown",
   "metadata": {},
   "source": [
    "```python\n",
    "def evaluate_Shape_Functions(self, Parameters):\n",
    "        # Initialize the shape functions used for interpolation.        \n",
    "        #--------------------------------\n",
    "        # Grab local element coordinates.\n",
    "        #--------------------------------\n",
    "        self.xi   = self.points[:,0]\n",
    "        self.eta  = self.points[:,1]\n",
    "        self.zeta = self.points[:,2]\n",
    "        #---------\n",
    "        # Set N_a.\n",
    "        #---------\n",
    "        self.N1 = (1 - self.xi)*(1 - self.eta)*(1 - self.zeta)/8\n",
    "        self.N2 = (1 + self.xi)*(1 - self.eta)*(1 - self.zeta)/8\n",
    "        self.N3 = (1 + self.xi)*(1 + self.eta)*(1 - self.zeta)/8\n",
    "        self.N4 = (1 - self.xi)*(1 + self.eta)*(1 - self.zeta)/8\n",
    "        self.N5 = (1 - self.xi)*(1 - self.eta)*(1 + self.zeta)/8\n",
    "        self.N6 = (1 + self.xi)*(1 - self.eta)*(1 + self.zeta)/8\n",
    "        self.N7 = (1 + self.xi)*(1 + self.eta)*(1 + self.zeta)/8\n",
    "        self.N8 = (1 - self.xi)*(1 + self.eta)*(1 + self.zeta)/8\n",
    "        #-----------------------------\n",
    "        # Build shape function matrix.\n",
    "        #-----------------------------\n",
    "        self.Nu = np.zeros((8, 3, 24), dtype=Parameters.float_dtype)\n",
    "        for i in range(3):\n",
    "            self.Nu[:, i, 0 + i]  = self.N1\n",
    "            self.Nu[:, i, 3 + i]  = self.N2\n",
    "            self.Nu[:, i, 6 + i]  = self.N3\n",
    "            self.Nu[:, i, 9 + i]  = self.N4\n",
    "            self.Nu[:, i, 12 + i] = self.N5\n",
    "            self.Nu[:, i, 15 + i] = self.N6\n",
    "            self.Nu[:, i, 18 + i] = self.N7\n",
    "            self.Nu[:, i, 21 + i] = self.N8\n",
    "```"
   ]
  },
  {
   "cell_type": "markdown",
   "metadata": {},
   "source": [
    "In the above `self` refers to the element object (i.e., referencing itself)."
   ]
  },
  {
   "cell_type": "code",
   "execution_count": 47,
   "metadata": {},
   "outputs": [
    {
     "name": "stdout",
     "output_type": "stream",
     "text": [
      "[[0.49056 0.      0.      0.13145 0.      0.      0.03522 0.      0.\n",
      "  0.13145 0.      0.      0.13145 0.      0.      0.03522 0.      0.\n",
      "  0.00944 0.      0.      0.03522 0.      0.     ]\n",
      " [0.      0.49056 0.      0.      0.13145 0.      0.      0.03522 0.\n",
      "  0.      0.13145 0.      0.      0.13145 0.      0.      0.03522 0.\n",
      "  0.      0.00944 0.      0.      0.03522 0.     ]\n",
      " [0.      0.      0.49056 0.      0.      0.13145 0.      0.      0.03522\n",
      "  0.      0.      0.13145 0.      0.      0.13145 0.      0.      0.03522\n",
      "  0.      0.      0.00944 0.      0.      0.03522]]\n"
     ]
    }
   ],
   "source": [
    "print(element.Nu[0,:,:])"
   ]
  },
  {
   "cell_type": "markdown",
   "metadata": {},
   "source": [
    "Recall the strain displacement matrix,\n",
    "\n",
    "$$\n",
    "B^{u,e} :=  \\sum_{a=1}^8 \\underbrace{B^u_a(\\boldsymbol{\\xi})}_{(n_{dim}\\times n_{dim})\\times(n_{dim}\\times n_{Gauss})} = \\sum_{a=1}^8 \\underbrace{B^u_a(\\boldsymbol{\\xi})}_{9\\times 24} = \\sum_{a=1}^8 \\frac{\\partial\\mathbf{N}_a^u}{\\partial\\boldsymbol{X}}\n",
    " = \\sum_{a=1}^8 \\frac{\\partial\\mathbf{N}_a^u}{\\partial\\boldsymbol{\\xi}}\\frac{\\partial\\boldsymbol{\\xi}}{\\partial\\mathbf{X}}\n",
    "$$"
   ]
  },
  {
   "cell_type": "code",
   "execution_count": 48,
   "metadata": {},
   "outputs": [
    {
     "name": "stdout",
     "output_type": "stream",
     "text": [
      "(8, 9, 24)\n"
     ]
    }
   ],
   "source": [
    "print(element.Bu.shape)"
   ]
  },
  {
   "cell_type": "markdown",
   "metadata": {},
   "source": [
    "This next portion of the code calculates $\\dfrac{\\partial\\mathbf{N}_a^u}{\\partial\\boldsymbol{\\xi}}$"
   ]
  },
  {
   "cell_type": "markdown",
   "metadata": {},
   "source": [
    "```python\n",
    "#----------------------------------\n",
    "# Calculate derivatives w.r.t. \\xi.\n",
    "#----------------------------------\n",
    "self.dN1_dxi = -(1/8)*(1 - self.eta)*(1 - self.zeta)\n",
    "self.dN2_dxi = -self.dN1_dxi\n",
    "self.dN3_dxi = (1/8)*(1 + self.eta)*(1 - self.zeta)\n",
    "self.dN4_dxi = -self.dN3_dxi\n",
    "self.dN5_dxi = -(1/8)*(1 - self.eta)*(1 + self.zeta)\n",
    "self.dN6_dxi = -self.dN5_dxi\n",
    "self.dN7_dxi = (1/8)*(1 + self.eta)*(1 + self.zeta)\n",
    "self.dN8_dxi = -self.dN7_dxi\n",
    "\n",
    "self.dN_dxi      = np.zeros((8,8), dtype=Parameters.float_dtype)\n",
    "self.dN_dxi[:,0] = self.dN1_dxi\n",
    "self.dN_dxi[:,1] = self.dN2_dxi\n",
    "self.dN_dxi[:,2] = self.dN3_dxi\n",
    "self.dN_dxi[:,3] = self.dN4_dxi\n",
    "self.dN_dxi[:,4] = self.dN5_dxi\n",
    "self.dN_dxi[:,5] = self.dN6_dxi\n",
    "self.dN_dxi[:,6] = self.dN7_dxi\n",
    "self.dN_dxi[:,7] = self.dN8_dxi\n",
    "#-----------------------------------\n",
    "# Calculate derivatives w.r.t. \\eta.\n",
    "#-----------------------------------\n",
    "self.dN1_deta = -(1/8)*(1 - self.xi)*(1 - self.zeta)\n",
    "self.dN2_deta = -(1/8)*(1 + self.xi)*(1 - self.zeta)\n",
    "self.dN3_deta = -self.dN2_deta\n",
    "self.dN4_deta = -self.dN1_deta\n",
    "self.dN5_deta = -(1/8)*(1 - self.xi)*(1 + self.zeta)\n",
    "self.dN6_deta = -(1/8)*(1 + self.xi)*(1 + self.zeta)\n",
    "self.dN7_deta = -self.dN6_deta\n",
    "self.dN8_deta = -self.dN5_deta\n",
    "\n",
    "self.dN_deta      = np.zeros((8,8), dtype=Parameters.float_dtype)\n",
    "self.dN_deta[:,0] = self.dN1_deta\n",
    "self.dN_deta[:,1] = self.dN2_deta\n",
    "self.dN_deta[:,2] = self.dN3_deta\n",
    "self.dN_deta[:,3] = self.dN4_deta\n",
    "self.dN_deta[:,4] = self.dN5_deta\n",
    "self.dN_deta[:,5] = self.dN6_deta\n",
    "self.dN_deta[:,6] = self.dN7_deta\n",
    "self.dN_deta[:,7] = self.dN8_deta\n",
    "#------------------------------------\n",
    "# Calculate derivatives w.r.t. \\zeta.\n",
    "#------------------------------------\n",
    "self.dN1_dzeta = -(1/8)*(1 - self.xi)*(1 - self.eta)\n",
    "self.dN2_dzeta = -(1/8)*(1 + self.xi)*(1 - self.eta)\n",
    "self.dN3_dzeta = -(1/8)*(1 + self.xi)*(1 + self.eta)\n",
    "self.dN4_dzeta = -(1/8)*(1 - self.xi)*(1 + self.eta)\n",
    "self.dN5_dzeta = -self.dN1_dzeta\n",
    "self.dN6_dzeta = -self.dN2_dzeta\n",
    "self.dN7_dzeta = -self.dN3_dzeta\n",
    "self.dN8_dzeta = -self.dN4_dzeta\n",
    "\n",
    "self.dN_dzeta      = np.zeros((8,8), dtype=Parameters.float_dtype)\n",
    "self.dN_dzeta[:,0] = self.dN1_dzeta\n",
    "self.dN_dzeta[:,1] = self.dN2_dzeta\n",
    "self.dN_dzeta[:,2] = self.dN3_dzeta\n",
    "self.dN_dzeta[:,3] = self.dN4_dzeta\n",
    "self.dN_dzeta[:,4] = self.dN5_dzeta\n",
    "self.dN_dzeta[:,5] = self.dN6_dzeta\n",
    "self.dN_dzeta[:,6] = self.dN7_dzeta\n",
    "self.dN_dzeta[:,7] = self.dN8_dzeta\n",
    "#-------------------\n",
    "# Compute jacobians.\n",
    "#-------------------\n",
    "self.get_Jacobian(Parameters)\n",
    "```"
   ]
  },
  {
   "cell_type": "markdown",
   "metadata": {},
   "source": [
    "This section of the code calculates $\\dfrac{\\partial\\boldsymbol{X}}{\\partial\\boldsymbol{\\xi}} = J^e$ or $\\dfrac{\\partial X_I}{\\partial\\xi_b} = J^e_{Ib}$, $\\dfrac{\\partial\\boldsymbol{\\xi}}{\\partial\\mathbf{X}} = (J^e)^{-1}$ or $\\dfrac{\\partial\\xi_b}{\\partial X_I} = J^e_{bI}$ (mapping of gradient) and $j^e = \\det{J^e}$ (deformation mapping of element volume).\n",
    "\n",
    "The ellipses, `...`, are an indicator to `np.einsum` that we do not want it to perform a summation over that axes, which is the axes of the 8 Gauss points. The first line means of the function below means compute $\\dfrac{\\partial x}{\\partial\\xi} = \\dfrac{\\partial N_a}{\\partial\\xi}x$ for all 8 Gauss points. And similarly the second line means compute $\\dfrac{\\partial x}{\\partial\\eta} = \\dfrac{\\partial N_a}{\\partial\\eta}x$ for all 8 Gauss points."
   ]
  },
  {
   "cell_type": "markdown",
   "metadata": {},
   "source": [
    "```python\n",
    "def get_Jacobian(self, Parameters):\n",
    "    # Compute the element Jacobian.\n",
    "    self.dx_dxi   = np.einsum('...i, i -> ...', self.dN_dxi,   self.coordinates[:,0])\n",
    "    self.dx_deta  = np.einsum('...i, i -> ...', self.dN_deta,  self.coordinates[:,0])\n",
    "    self.dx_dzeta = np.einsum('...i, i -> ...', self.dN_dzeta, self.coordinates[:,0])\n",
    "\n",
    "    self.dy_dxi   = np.einsum('...i, i -> ...', self.dN_dxi,   self.coordinates[:,1])\n",
    "    self.dy_deta  = np.einsum('...i, i -> ...', self.dN_deta,  self.coordinates[:,1])\n",
    "    self.dy_dzeta = np.einsum('...i, i -> ...', self.dN_dzeta, self.coordinates[:,1])\n",
    "\n",
    "    self.dz_dxi   = np.einsum('...i, i -> ...', self.dN_dxi,   self.coordinates[:,2])\n",
    "    self.dz_deta  = np.einsum('...i, i -> ...', self.dN_deta,  self.coordinates[:,2])\n",
    "    self.dz_dzeta = np.einsum('...i, i -> ...', self.dN_dzeta, self.coordinates[:,2])\n",
    "\n",
    "    self.Je        = np.zeros((8,3,3), dtype=Parameters.float_dtype)\n",
    "    self.Je[:,0,0] = self.dx_dxi\n",
    "    self.Je[:,0,1] = self.dx_deta\n",
    "    self.Je[:,0,2] = self.dx_dzeta\n",
    "    self.Je[:,1,0] = self.dy_dxi\n",
    "    self.Je[:,1,1] = self.dy_deta\n",
    "    self.Je[:,1,2] = self.dy_dzeta\n",
    "    self.Je[:,2,0] = self.dz_dxi\n",
    "    self.Je[:,2,1] = self.dz_deta\n",
    "    self.Je[:,2,2] = self.dz_dzeta\n",
    "\n",
    "    self.j     = np.zeros(8, dtype=Parameters.float_dtype)\n",
    "    self.Jeinv = np.zeros((8,3,3), dtype=Parameters.float_dtype)\n",
    "\n",
    "    for i in range(8):\n",
    "        self.j[i]          = np.linalg.det(self.Je[i,:,:])\n",
    "        self.Jeinv[i,:,:,] = np.linalg.inv(self.Je[i,:,:])\n",
    "\n",
    "    return\n",
    "```"
   ]
  },
  {
   "cell_type": "markdown",
   "metadata": {},
   "source": [
    "Now that we have the gradient mapping, we can construct the strain displacement matrix as follows, where the first few lines are the operation $\\dfrac{\\partial\\mathbf{N}_a^u}{\\partial\\boldsymbol{\\xi}}\\dfrac{\\partial\\boldsymbol{\\xi}}{\\partial\\mathbf{X}}$, or, $\\dfrac{\\partial N_a^u}{\\partial\\xi_b}\\dfrac{\\partial\\xi_b}{\\partial X_I} = \\dfrac{\\partial N_a^u}{\\partial X_I}$.\n",
    "\n",
    "Again, the ellipses tell `np.einsum` not to sum over the 8 Gauss points."
   ]
  },
  {
   "cell_type": "markdown",
   "metadata": {},
   "source": [
    "```python\n",
    "# Continued evaluate_Shape_Functions from above...\n",
    "#----------------------------------\n",
    "# Compute shape function gradients.\n",
    "#----------------------------------\n",
    "self.dN1_dx = np.einsum('...bI, ...b -> ...I', self.Jeinv, np.array([self.dN1_dxi, self.dN1_deta, self.dN1_dzeta]).T)\n",
    "self.dN2_dx = np.einsum('...bI, ...b -> ...I', self.Jeinv, np.array([self.dN2_dxi, self.dN2_deta, self.dN2_dzeta]).T)\n",
    "self.dN3_dx = np.einsum('...bI, ...b -> ...I', self.Jeinv, np.array([self.dN3_dxi, self.dN3_deta, self.dN3_dzeta]).T)\n",
    "self.dN4_dx = np.einsum('...bI, ...b -> ...I', self.Jeinv, np.array([self.dN4_dxi, self.dN4_deta, self.dN4_dzeta]).T)\n",
    "self.dN5_dx = np.einsum('...bI, ...b -> ...I', self.Jeinv, np.array([self.dN5_dxi, self.dN5_deta, self.dN5_dzeta]).T)\n",
    "self.dN6_dx = np.einsum('...bI, ...b -> ...I', self.Jeinv, np.array([self.dN6_dxi, self.dN6_deta, self.dN6_dzeta]).T)\n",
    "self.dN7_dx = np.einsum('...bI, ...b -> ...I', self.Jeinv, np.array([self.dN7_dxi, self.dN7_deta, self.dN7_dzeta]).T)\n",
    "self.dN8_dx = np.einsum('...bI, ...b -> ...I', self.Jeinv, np.array([self.dN8_dxi, self.dN8_deta, self.dN8_dzeta]).T)\n",
    "#--------------------------------------\n",
    "# Construct strain-displacement matrix.\n",
    "#--------------------------------------\n",
    "self.Bu = np.zeros((8, 9, 24), dtype=Parameters.float_dtype)\n",
    "# These for-loops just stagger where the gradients are put in the rows of Bu.\n",
    "# Refer to MATLAB code which allows array definition with better visualization\n",
    "# than Python.\n",
    "for i in range(3):\n",
    "    self.Bu[:, i, 0]  = self.dN1_dx[:,i]\n",
    "    self.Bu[:, i, 3]  = self.dN2_dx[:,i]\n",
    "    self.Bu[:, i, 6]  = self.dN3_dx[:,i]\n",
    "    self.Bu[:, i, 9]  = self.dN4_dx[:,i]\n",
    "    self.Bu[:, i, 12] = self.dN5_dx[:,i]\n",
    "    self.Bu[:, i, 15] = self.dN6_dx[:,i]\n",
    "    self.Bu[:, i, 18] = self.dN7_dx[:,i]\n",
    "    self.Bu[:, i, 21] = self.dN8_dx[:,i]\n",
    "\n",
    "for i in range(3,6):\n",
    "    self.Bu[:, i, 1]  = self.dN1_dx[:,i-3]\n",
    "    self.Bu[:, i, 4]  = self.dN2_dx[:,i-3]\n",
    "    self.Bu[:, i, 7]  = self.dN3_dx[:,i-3]\n",
    "    self.Bu[:, i, 10] = self.dN4_dx[:,i-3]\n",
    "    self.Bu[:, i, 13] = self.dN5_dx[:,i-3]\n",
    "    self.Bu[:, i, 16] = self.dN6_dx[:,i-3]\n",
    "    self.Bu[:, i, 19] = self.dN7_dx[:,i-3]\n",
    "    self.Bu[:, i, 22] = self.dN8_dx[:,i-3]\n",
    "\n",
    "for i in range(6,9):\n",
    "    self.Bu[:, i, 2]  = self.dN1_dx[:,i-6]\n",
    "    self.Bu[:, i, 5]  = self.dN2_dx[:,i-6]\n",
    "    self.Bu[:, i, 8]  = self.dN3_dx[:,i-6]\n",
    "    self.Bu[:, i, 11] = self.dN4_dx[:,i-6]\n",
    "    self.Bu[:, i, 14] = self.dN5_dx[:,i-6]\n",
    "    self.Bu[:, i, 17] = self.dN6_dx[:,i-6]\n",
    "    self.Bu[:, i, 20] = self.dN7_dx[:,i-6]\n",
    "    self.Bu[:, i, 23] = self.dN8_dx[:,i-6]\n",
    "\n",
    "return\n",
    "```"
   ]
  },
  {
   "cell_type": "markdown",
   "metadata": {},
   "source": [
    "Now that we have our interpolation functions, we can compute the local strains and stresses, e.g.,\n",
    "\n",
    "(`@register_method` is a wrapper function that allows us to access object methods from other files so that we do not have to define all of the class methods in one file; these methods are defined in `_ElementVariables.py` and not in `classElement.py`)"
   ]
  },
  {
   "cell_type": "markdown",
   "metadata": {},
   "source": [
    "```python\n",
    "@register_method\n",
    "def get_dudX(self, Parameters):\n",
    "    # Compute solid displacement gradient.\n",
    "    self.dudX = np.einsum('...ij, j -> ...i', self.Bu, self.u_global, dtype=Parameters.float_dtype)\n",
    "    return\n",
    "    \n",
    "@register_method\n",
    "def get_F(self, Parameters):\n",
    "    # Compute deformation gradient.\n",
    "    #----------------------------------------------------\n",
    "    # Reshape the identity matrix for all 8 Gauss points.\n",
    "    #----------------------------------------------------\n",
    "    self.identity = np.zeros((8,3,3), dtype=Parameters.float_dtype)\n",
    "    np.einsum('ijj -> ij', self.identity)[:] = 1\n",
    "    #-------------------------------------------------------\n",
    "    # Create the 3x3 deformation matrix from the 9x1 vector.\n",
    "    #-------------------------------------------------------\n",
    "    self.dudX_mat = np.zeros((8,3,3), dtype=Parameters.float_dtype)\n",
    "    for i in range(9):\n",
    "        if i == 0:\n",
    "            alpha = 0\n",
    "            beta  = 0\n",
    "        elif i == 1:\n",
    "            alpha = 0\n",
    "            beta  = 1\n",
    "        elif i == 2:\n",
    "            alpha = 0\n",
    "            beta  = 2\n",
    "        elif i == 3:\n",
    "            alpha = 1\n",
    "            beta  = 0\n",
    "        elif i == 4:\n",
    "            alpha = 1\n",
    "            beta  = 1\n",
    "        elif i == 5:\n",
    "            alpha = 1\n",
    "            beta  = 2\n",
    "        elif i == 6:\n",
    "            alpha = 2\n",
    "            beta  = 0\n",
    "        elif i == 7:\n",
    "            alpha = 2\n",
    "            beta  = 1\n",
    "        elif i == 8:\n",
    "            alpha = 2\n",
    "            beta  = 2\n",
    "        self.dudX_mat[:,alpha,beta] = self.dudX[:,i]\n",
    "\n",
    "    self.F = self.identity + self.dudX_mat\n",
    "    return\n",
    "\n",
    "@register_method\n",
    "def get_F_inv(self):\n",
    "    # Compute inverse of deformation gradient.\n",
    "    self.F_inv = np.linalg.inv(self.F)\n",
    "    return\n",
    "\n",
    "@register_method\n",
    "def get_J(self):\n",
    "    # Compute Jacobian of deformation.\n",
    "    self.J = np.linalg.det(self.F)\n",
    "    return\n",
    "\n",
    "@register_method\n",
    "def get_C(self, Parameters):\n",
    "    # Compute right Cauchy-Green tensor.\n",
    "    self.C = np.einsum('...iI, ...iJ -> ...IJ', self.F, self.F, dtype=Parameters.float_dtype)\n",
    "    return\n",
    "\n",
    "@register_method\n",
    "def get_C_inv(self):\n",
    "    # Compute inverse of right Cauchy-Green tensor.\n",
    "    self.C_inv = np.linalg.inv(self.C)\n",
    "    return\n",
    "\n",
    "@register_method\n",
    "def get_SPK(self, Parameters):\n",
    "    # Compute second Piola-Kirchoff stress tensor.\n",
    "    self.SPK = Parameters.mu*self.identity + np.einsum('..., ...IJ -> ...IJ',\\\n",
    "                                                        Parameters.lambd*np.log(self.J) - Parameters.mu,\\\n",
    "                                                        self.C_inv, dtype=Parameters.float_dtype)\n",
    "    return\n",
    "\n",
    "@register_method\n",
    "def get_FPK(self, Parameters):\n",
    "    # Compute first Piola-Kirchoff stress tensor.\n",
    "    self.FPK = np.einsum('...iI, ...IJ -> ...iI', self.F, self.SPK, dtype=Parameters.float_dtype)\n",
    "    return\n",
    "```"
   ]
  },
  {
   "cell_type": "markdown",
   "metadata": {},
   "source": [
    "Below are the internal and external force vectors $\\mathcal{G}_1^{\\text{INT},h^e}$, $\\mathcal{G}_2^{\\text{INT},h^e}$ and $\\mathcal{G}^{\\text{EXT},h^e}$. Here there is an explicit summation over the axis that represents the 8 Gauss points, i.e., a sum over the Gauss point index $k$ (to perform the Gauss integration over the element)."
   ]
  },
  {
   "cell_type": "markdown",
   "metadata": {},
   "source": [
    "$\\underbrace{\\mathcal{G}_1^{\\text{INT},h^e}}_{24\\times 1} = \\int\\limits_{B_0^e}\\underbrace{\\begin{bmatrix}\\mathbf{B}^{u,e}\\end{bmatrix}^T}_{24\\times 9}\\underbrace{\\begin{Bmatrix}\\mathbf{P}^{h^e}\\end{Bmatrix}}_{9\\times 1}dV$\n",
    "\n",
    "where $\\mathbf{P}^{h^e}$ is expressed in Voigt notation $\\underbrace{P_\\alpha^{h^e}}_{9\\times 1}$ from $\\underbrace{P_{iI}^{h^e}}_{3\\times 3}$ (remember Python is 0-based indexing, so 00 means 11 if we were to translate to handwritten matrix notation, and similarly 02 means 13)."
   ]
  },
  {
   "cell_type": "markdown",
   "metadata": {},
   "source": [
    "```python\n",
    "@register_method\n",
    "def get_G1(self, Parameters):\n",
    "    # Compute G_1^INT.\n",
    "    self.FPK_voigt = np.zeros((8,9), dtype=Parameters.float_dtype)\n",
    "    for alpha in range(9):\n",
    "        if alpha == 0:\n",
    "            i = 0\n",
    "            I = 0\n",
    "        elif alpha == 1:\n",
    "            i = 0\n",
    "            I = 1\n",
    "        elif alpha == 2:\n",
    "            i = 0\n",
    "            I = 2\n",
    "        elif alpha == 3:\n",
    "            i = 1\n",
    "            I = 0\n",
    "        elif alpha == 4:\n",
    "            i = 1\n",
    "            I = 1\n",
    "        elif alpha == 5:\n",
    "            i = 1\n",
    "            I = 2\n",
    "        elif alpha == 6:\n",
    "            i = 2\n",
    "            I = 0\n",
    "        elif alpha == 7:\n",
    "            i = 2\n",
    "            I = 1\n",
    "        elif alpha == 8:\n",
    "            i = 2\n",
    "            I = 2\n",
    "        self.FPK_voigt[:,alpha] = self.FPK[:,i,I]\n",
    "\n",
    "    self.G_1 = np.einsum('kij, ki, k -> j', self.Bu, self.FPK_voigt, self.weights*self.j)\n",
    "    return\n",
    "```"
   ]
  },
  {
   "cell_type": "markdown",
   "metadata": {},
   "source": [
    "$\\underbrace{\\mathcal{G}_2^{\\text{INT},h^e}}_{24\\times 1} = -\\int\\limits_{B_0^e}\\underbrace{\\begin{bmatrix}\\mathbf{N}^{u,e}\\end{bmatrix}^T}_{24\\times 3}\\underbrace{\\begin{Bmatrix}\\rho^{h^e}\\mathbf{g}\\end{Bmatrix}}_{3\\times 1}dV$"
   ]
  },
  {
   "cell_type": "markdown",
   "metadata": {},
   "source": [
    "```python\n",
    "@register_method\n",
    "def get_G2(self, Parameters):\n",
    "    # Compute G_2^INT.\n",
    "    self.grav_body       = np.zeros((8,3), dtype=Parameters.float_dtype)\n",
    "    self.grav_body[:,2]  = -Parameters.grav\n",
    "    \n",
    "    self.G_2 = np.einsum('kij, ki, k -> j', -self.Nu, self.rho_0*self.grav_body, self.weights*self.j)\n",
    "    return\n",
    "```"
   ]
  },
  {
   "cell_type": "markdown",
   "metadata": {},
   "source": [
    "$\\underbrace{\\mathcal{G}^{\\text{EXT},h^e}}_{24\\times 1} = \\int\\limits_{\\Gamma_0^e}\\underbrace{\\begin{bmatrix}\\mathbf{N}^{u,e}\\end{bmatrix}^T}_{24\\times 3}\\underbrace{\\begin{Bmatrix}\\mathbf{t}^\\sigma\\end{Bmatrix}}_{3\\times 1}dA$"
   ]
  },
  {
   "cell_type": "markdown",
   "metadata": {},
   "source": [
    "```python\n",
    "@register_method\n",
    "def get_GEXT(self, Parameters):\n",
    "    # Compute G^EXT (for topmost element only).\n",
    "    if self.ID == (Parameters.numEl - 1) and Parameters.tractionProblem:\n",
    "        self.traction      = np.zeros((4,3), dtype=Parameters.float_dtype)\n",
    "        self.traction[:,2] = -Parameters.traction\n",
    "    \n",
    "        self.evaluate_Shape_Functions_2D(Parameters)\n",
    "        self.G_EXT = np.einsum('kij, ki, k -> j', self.Nu_2D, self.traction, self.weights[4:8]*self.j_2D)\n",
    "    else:\n",
    "        self.G_EXT = np.zeros((24), dtype=Parameters.float_dtype)\n",
    "    return\n",
    "```"
   ]
  },
  {
   "cell_type": "markdown",
   "metadata": {},
   "source": [
    "Note in the last function that the traction can only be applied to the top element, and that we need to compute the interpolation related to the plane-element (the element boundary at the top surface). Thus in the below function, the shape functions are only evaluated for $\\zeta = 1$ and thus $N_1, N_2, N_3, N_4 = 0$."
   ]
  },
  {
   "cell_type": "markdown",
   "metadata": {},
   "source": [
    "```python\n",
    "def evaluate_Shape_Functions_2D(self, Parameters):\n",
    "    # Create a 2D planar element for traction boundary condition.\n",
    "    #---------\n",
    "    # Set N_a.\n",
    "    #---------\n",
    "    self.N5_2D = (1 - self.xi[4:8])*(1 - self.eta[4:8])/4\n",
    "    self.N6_2D = (1 + self.xi[4:8])*(1 - self.eta[4:8])/4\n",
    "    self.N7_2D = (1 + self.xi[4:8])*(1 + self.eta[4:8])/4\n",
    "    self.N8_2D = (1 - self.xi[4:8])*(1 + self.eta[4:8])/4\n",
    "    #-----------------------------\n",
    "    # Build shape function matrix.\n",
    "    #-----------------------------\n",
    "    self.Nu_2D = np.zeros((4, 3, 24), dtype=Parameters.float_dtype)\n",
    "    for i in range(3):\n",
    "        self.Nu_2D[:, i, 12 + i] = self.N5_2D\n",
    "        self.Nu_2D[:, i, 15 + i] = self.N6_2D\n",
    "        self.Nu_2D[:, i, 18 + i] = self.N7_2D\n",
    "        self.Nu_2D[:, i, 21 + i] = self.N8_2D\n",
    "    #----------------------------------\n",
    "    # Calculate derivatives w.r.t. \\xi.\n",
    "    #----------------------------------\n",
    "    self.dN5_dxi_2D = -(1/4)*(1 - self.eta[4:8])\n",
    "    self.dN6_dxi_2D = -self.dN5_dxi_2D\n",
    "    self.dN7_dxi_2D = (1/4)*(1 + self.eta[4:8])\n",
    "    self.dN8_dxi_2D = -self.dN7_dxi_2D\n",
    "\n",
    "    self.dN_dxi_2D      = np.zeros((4,4), dtype=Parameters.float_dtype)\n",
    "    self.dN_dxi_2D[:,0] = self.dN5_dxi_2D\n",
    "    self.dN_dxi_2D[:,1] = self.dN6_dxi_2D\n",
    "    self.dN_dxi_2D[:,2] = self.dN7_dxi_2D\n",
    "    self.dN_dxi_2D[:,3] = self.dN8_dxi_2D\n",
    "    #-----------------------------------\n",
    "    # Calculate derivatives w.r.t. \\eta.\n",
    "    #-----------------------------------\n",
    "    self.dN5_deta_2D = -(1/4)*(1 - self.xi[4:8])\n",
    "    self.dN6_deta_2D = -(1/4)*(1 + self.xi[4:8])\n",
    "    self.dN7_deta_2D = -self.dN6_deta_2D\n",
    "    self.dN8_deta_2D = -self.dN5_deta_2D\n",
    "\n",
    "    self.dN_deta_2D      = np.zeros((4,4), dtype=Parameters.float_dtype)\n",
    "    self.dN_deta_2D[:,0] = self.dN5_deta_2D\n",
    "    self.dN_deta_2D[:,1] = self.dN6_deta_2D\n",
    "    self.dN_deta_2D[:,2] = self.dN7_deta_2D\n",
    "    self.dN_deta_2D[:,3] = self.dN8_deta_2D\n",
    "    #------------------------\n",
    "    # Calculate the jacobian.\n",
    "    #------------------------\n",
    "    self.get_Jacobian_2D(Parameters)\n",
    "\n",
    "    return\n",
    "\n",
    "def get_Jacobian_2D(self, Parameters):\n",
    "    # Compute the 2D element Jacobian.\n",
    "    self.dx_dxi_2D  = np.einsum('...i, i -> ...', self.dN_dxi_2D,   self.coordinates[4:8,0])\n",
    "    self.dx_deta_2D = np.einsum('...i, i -> ...', self.dN_deta_2D,  self.coordinates[4:8,0])\n",
    "\n",
    "    self.dy_dxi_2D  = np.einsum('...i, i -> ...', self.dN_dxi_2D,   self.coordinates[4:8,1])\n",
    "    self.dy_deta_2D = np.einsum('...i, i -> ...', self.dN_deta_2D,  self.coordinates[4:8,1])\n",
    "\n",
    "    self.Je_2D        = np.zeros((4,2,2), dtype=Parameters.float_dtype)\n",
    "    self.Je_2D[:,0,0] = self.dx_dxi_2D\n",
    "    self.Je_2D[:,0,1] = self.dx_deta_2D\n",
    "    self.Je_2D[:,1,0] = self.dy_dxi_2D\n",
    "    self.Je_2D[:,1,1] = self.dy_deta_2D\n",
    "\n",
    "    self.j_2D = np.zeros(4, dtype=Parameters.float_dtype)\n",
    "\n",
    "    for i in range(4):\n",
    "        self.j_2D[i] = np.linalg.det(self.Je_2D[i,:,:])\n",
    "\n",
    "    return\n",
    "```"
   ]
  },
  {
   "cell_type": "markdown",
   "metadata": {},
   "source": [
    "We also need the consistent tangent $\\mathcal{G}_{u,u}^{h^e}$, defined below. Recall,\n",
    "\n",
    "$$\n",
    "\\delta\\mathcal{G}^{h}_1 = \\mathop{\\lower 5.5pt \\hbox{A}}_{e}^{n_e}\\int\\limits_{B_0^e}\\underbrace{\\Bigg[\\frac{\\partial w_i^{h^e}}{\\partial X_I}\\Bigg]}_{\\underbrace{\\begin{Bmatrix}\\mathbf{c}^e\\end{Bmatrix}^T}_{1\\times 24}\\underbrace{\\begin{bmatrix}\\mathbf{B}^{u,e}\\end{bmatrix}^T}_{24\\times 9}}\\underbrace{\\Bigg[\\frac{\\partial P_{iI}}{\\partial F_{aA}}\\Bigg]^{h^e}}_{\\underbrace{\\begin{bmatrix}\\mathbf{D}^e\\end{bmatrix}}_{9\\times 9}}\\underbrace{\\Bigg[\\frac{\\partial(\\delta u_a^{h^e})}{\\partial X_A}\\Bigg]}_{\\underbrace{\\begin{bmatrix}\\mathbf{N}^{u,e}\\end{bmatrix}}_{24\\times 3}\\underbrace{\\begin{bmatrix}\\delta\\mathbf{d}^e\\end{bmatrix}}_{3\\times 24}}dV\n",
    "$$\n",
    "\n",
    "Note that,\n",
    "\n",
    "$$\n",
    "\\dfrac{\\partial P_{iI}}{\\partial F_{aA}} = \\delta_{ai}S_{AI} + \\lambda F_{Aa}^{-1}F_{Ii}^{-1} - (\\lambda\\log(J) - \\mu)(F_{Ai}^{-1}F_{Ia}^{-1} + \\delta_{ai}C_{AI}^{-1})\n",
    "$$\n",
    "\n",
    "which is a 3x3x3x3 (or 8x3x3x3x3 in the code, for the 8 Gauss points).\n",
    "\n",
    "In order to correctly compute the tangent, we must transform this to a 9x9 (or 8x9x9 in the code, for the 8 Gauss points) using Voigt notation, i.e.,\n",
    "\n",
    "$$\n",
    "\\dfrac{\\partial P_{iI}}{\\partial F_{aA}} \\rightarrow D_{\\alpha,\\beta}\n",
    "$$ "
   ]
  },
  {
   "cell_type": "markdown",
   "metadata": {},
   "source": [
    "```python\n",
    "@register_method\n",
    "def get_G_uu_1(self, Parameters):\n",
    "    # Compute G_uu_1.\n",
    "    self.dPdF = np.einsum('...ai, ...AI -> ...iIaA', self.identity, self.SPK)\\\n",
    "                    + Parameters.lambd*np.einsum('...Aa, ...Ii -> ...iIaA', self.F_inv, self.F_inv)\\\n",
    "                    - np.einsum('..., ...iIaA -> ...iIaA', Parameters.lambd*np.log(self.J) - Parameters.mu,\\\n",
    "                                (np.einsum('...Ai, ...Ia -> ...iIaA', self.F_inv, self.F_inv)\\\n",
    "                                + np.einsum('...ai, ...AI -> ...iIaA', self.identity, self.C_inv)))\n",
    "\n",
    "    self.dPdF_voigt = np.zeros((8,9,9), dtype=Parameters.float_dtype)\n",
    "    for alpha in range(9):\n",
    "        if alpha == 0:\n",
    "            i = 0\n",
    "            I = 0\n",
    "        elif alpha == 1:\n",
    "            i = 0\n",
    "            I = 1\n",
    "        elif alpha == 2:\n",
    "            i = 0\n",
    "            I = 2\n",
    "        elif alpha == 3:\n",
    "            i = 1\n",
    "            I = 0\n",
    "        elif alpha == 4:\n",
    "            i = 1\n",
    "            I = 1\n",
    "        elif alpha == 5:\n",
    "            i = 1\n",
    "            I = 2\n",
    "        elif alpha == 6:\n",
    "            i = 2\n",
    "            I = 0\n",
    "        elif alpha == 7:\n",
    "            i = 2\n",
    "            I = 1\n",
    "        elif alpha == 8:\n",
    "            i = 2\n",
    "            I = 2\n",
    "        for beta in range(9):\n",
    "            if beta == 0:\n",
    "                a = 0\n",
    "                A = 0\n",
    "            elif beta == 1:\n",
    "                a = 0\n",
    "                A = 1\n",
    "            elif beta == 2:\n",
    "                a = 0\n",
    "                A = 2\n",
    "            elif beta == 3:\n",
    "                a = 1\n",
    "                A = 0\n",
    "            elif beta == 4:\n",
    "                a = 1\n",
    "                A = 1\n",
    "            elif beta == 5:\n",
    "                a = 1\n",
    "                A = 2\n",
    "            elif beta == 6:\n",
    "                a = 2\n",
    "                A = 0\n",
    "            elif beta == 7:\n",
    "                a = 2\n",
    "                A = 1\n",
    "            elif beta == 8:\n",
    "                a = 2\n",
    "                A = 2\n",
    "\n",
    "            self.dPdF_voigt[:,alpha,beta] = self.dPdF[:,i,I,a,A]\n",
    "\n",
    "    self.G_uu_1 = np.einsum('kiI, kij, kjJ, k -> IJ', self.Bu, self.dPdF_voigt, self.Bu, self.weights*self.j)\n",
    "    return\n",
    "```"
   ]
  },
  {
   "cell_type": "markdown",
   "metadata": {},
   "source": [
    "# Assembling the finite element equations\n",
    "\n",
    "Next, we briefly show how the matrix forms of the finite element equations are assembled."
   ]
  },
  {
   "cell_type": "markdown",
   "metadata": {},
   "source": [
    "First, we'll assume uniaxial strain for a 2-element mesh."
   ]
  },
  {
   "cell_type": "markdown",
   "metadata": {},
   "source": [
    "![title](mesh.png)"
   ]
  },
  {
   "cell_type": "markdown",
   "metadata": {},
   "source": [
    "In the above schematic, a vertical displacement boundary condition is applied evenly to the top four nodes, thus, there are only four degrees of freedom. The location matrix is thus:"
   ]
  },
  {
   "cell_type": "markdown",
   "metadata": {},
   "source": [
    "This block of code sets up the element (similar to what has been shown so far).\n",
    "\n",
    "```python\n",
    "for element_ID in range(Parameters.numEl):\n",
    "    #------------------------\n",
    "    # Initialize the element.\n",
    "    #------------------------\n",
    "    element = classElement.Element(a_GaussOrder=Parameters.GaussOrder, a_ID=element_ID)\n",
    "    element.set_Gauss_Points(Parameters)\n",
    "    element.set_Gauss_Weights(Parameters)\n",
    "    element.set_Coordinates(coordinates[element.ID,:,:])\n",
    "    element.evaluate_Shape_Functions(Parameters)\n",
    "    element.get_Global_DOF(LM)\n",
    "    element.set_Global_Solutions(D)\n",
    "    element.apply_Local_BC(g)\n",
    "```\n",
    "The method `get_Global_DOF` gets the global degrees of freedom and applies them to the element,\n",
    "```python\n",
    "def get_Global_DOF(self, a_LM):\n",
    "    # Set the global degrees of freedom of this element.\n",
    "    self.DOF    = a_LM[:,self.ID]\n",
    "    self.numDOF = self.DOF.shape[0]\n",
    "    return\n",
    "```\n",
    "The method `set_Global_Solutions` gets the global displacement degrees of freedom and applies them to the element,\n",
    "```python\n",
    "def set_Global_Solutions(self, a_D):\n",
    "    # Set the local solution variables at the current time step.\n",
    "    self.set_u_global(a_D[self.DOF[0:self.numDOF]])\n",
    "    return\n",
    "def set_u_global(self, a_D):\n",
    "    # Initialize the global solid displacement (at element level).\n",
    "    self.u_global = a_D\n",
    "    return\n",
    "```\n",
    "The method `apply_Local_BC` applies displacement-type boundary conditions to the element,\n",
    "```python\n",
    "def apply_Local_BC(self, a_g):\n",
    "    # Apply boundary conditions at the element scale.\n",
    "    if np.any(self.DOF < 0):\n",
    "        idxs = np.where((self.DOF == -1))[0]\n",
    "        for idx in idxs:\n",
    "            self.u_global[idx] = a_g[idx, self.ID]\n",
    "    return\n",
    "```\n",
    "The first line checks to see where we have no degrees of freedom (i.e., a boundary condition); the second line finds the indices/locations in the list of the element's global degrees of freedom where we want to apply a boundary condition; and the third and fourth lines loop over these indices to apply the boundary conditions."
   ]
  },
  {
   "cell_type": "markdown",
   "metadata": {},
   "source": [
    "Next, we calculate strains, stresses, internal force vectors and tangents for the element.\n",
    "```python\n",
    "#------------------------------\n",
    "# Compute stresses and strains.\n",
    "#------------------------------\n",
    "element.compute_variables(Parameters)\n",
    "#---------------------------\n",
    "# Save stresses and strains.\n",
    "#---------------------------\n",
    "stress_solve[Parameters.n,element.ID,:,:,:,0] = element.SPK\n",
    "stress_solve[Parameters.n,element.ID,:,:,:,1] = element.FPK\n",
    "stress_solve[Parameters.n,element.ID,:,:,:,2] = element.sigma\n",
    "stress_solve[Parameters.n,element.ID,:,:,:,3] = element.E\n",
    "stress_solve[Parameters.n,element.ID,:,:,:,4] = element.e\n",
    "stress_solve[Parameters.n,element.ID,:,:,:,5] = element.Hencky\n",
    "\n",
    "isv_solve[Parameters.n,element.ID,:,0] = element.sigma_mean\n",
    "isv_solve[Parameters.n,element.ID,:,1] = element.von_mises\n",
    "#--------------------------------\n",
    "# Compute internal force vectors.\n",
    "#--------------------------------\n",
    "element.compute_forces(Parameters)\n",
    "#-----------------------------------\n",
    "# Compute the consistent tangent(s).\n",
    "#-----------------------------------\n",
    "element.compute_tangents(Parameters)\n",
    "```"
   ]
  },
  {
   "cell_type": "markdown",
   "metadata": {},
   "source": [
    "Afterwards the element's contributions are added to the global residual and tangent (the assembly step)\n",
    "```python\n",
    "#--------------------------\n",
    "# Perform element assembly.\n",
    "#--------------------------\n",
    "for i in range(element.numDOF):\n",
    "    I = element.DOF[i]\n",
    "\n",
    "    if I > -1:\n",
    "        R[I] += element.G_int[i]\n",
    "\n",
    "        for j in range(element.numDOF):\n",
    "            J = element.DOF[j]\n",
    "\n",
    "            if J > -1:\n",
    "                dR[I,J] += element.G_Mtx[i,j]\n",
    "```"
   ]
  },
  {
   "cell_type": "markdown",
   "metadata": {},
   "source": [
    "After we have assembled the equations, we check for convergence:\n",
    "```python\n",
    "if k == 1:\n",
    "    R0 = R\n",
    "\n",
    "Rtol  = np.linalg.norm(R)/np.linalg.norm(R0)\n",
    "normR = np.linalg.norm(R)\n",
    "\n",
    "if k > Parameters.kmax:\n",
    "    print(\"Relative tolerance = \", Rtol)\n",
    "    print(\"Norm of tolerance = \", normR)\n",
    "    sys.exit(\"ERROR. Reached max number of iterations.\")\n",
    "```"
   ]
  },
  {
   "cell_type": "markdown",
   "metadata": {},
   "source": [
    "(`np.linalg.norm` defaults to the 2-norm; other options can be found in the documentation here: https://numpy.org/doc/stable/reference/generated/numpy.linalg.norm.html)"
   ]
  },
  {
   "cell_type": "markdown",
   "metadata": {},
   "source": [
    "# Applied displacement example"
   ]
  },
  {
   "cell_type": "code",
   "execution_count": 55,
   "metadata": {},
   "outputs": [
    {
     "name": "stdout",
     "output_type": "stream",
     "text": [
      "Once deleted, variables cannot be recovered. Proceed (y/[n])? y\n"
     ]
    }
   ],
   "source": [
    "%reset"
   ]
  },
  {
   "cell_type": "markdown",
   "metadata": {},
   "source": [
    "First, create our parameters."
   ]
  },
  {
   "cell_type": "code",
   "execution_count": 58,
   "metadata": {},
   "outputs": [],
   "source": [
    "import numpy as np\n",
    "\n",
    "class Parameters:\n",
    "\n",
    "    def __init__(self):\n",
    "        self.float_dtype = np.float64 # single-precision float32 can lead to issues\n",
    "        #-------------------------\n",
    "        # Set material parameters.\n",
    "        #-------------------------\n",
    "        self.lambd = 2885\n",
    "        self.mu    = 1923\n",
    "\n",
    "        self.ns     = 0.01\n",
    "        self.rhoS_0 = 1000\n",
    "        self.rho_0  = self.ns*self.rhoS_0\n",
    "\n",
    "        self.grav = 9.81\n",
    "        #------------------------\n",
    "        # Set constitutive model.\n",
    "        #------------------------\n",
    "        # self.constitutive_model = 'Saint Venant-Kirchhoff'\n",
    "        self.constitutive_model = 'neo-Hookean'\n",
    "        #-----------------------------------\n",
    "        # Set boundary condition parameters.\n",
    "        #-----------------------------------\n",
    "        self.g_displ      = -0.05\n",
    "        self.tractionLoad = 1e4\n",
    "        self.t_ramp       = 1.0\n",
    "        #---------------------------------\n",
    "        # Set time integration parameters.\n",
    "        #---------------------------------\n",
    "        self.TStart   = 0.0\n",
    "        self.TStop    = 1.0\n",
    "        self.numSteps = 10 # set to low value for stability reasons\n",
    "        self.dt       = (self.TStop - self.TStart)/self.numSteps\n",
    "        self.t        = self.TStart\n",
    "        self.n        = 0\n",
    "        #-------------------------------\n",
    "        # Set Newton-Raphson parameters.\n",
    "        # - Note: loose tolerances gives\n",
    "        #         better performance.\n",
    "        #-------------------------------\n",
    "        self.tolr = 1e-6\n",
    "        self.tola = 1e-8\n",
    "        self.kmax = 5\n",
    "        #------------------------\n",
    "        # Set element properties.\n",
    "        #------------------------\n",
    "        self.GaussOrder = 2\n",
    "        self.numGauss   = 8\n",
    "        self.numDim     = 3\n",
    "        self.numElDOF   = 24"
   ]
  },
  {
   "cell_type": "code",
   "execution_count": 60,
   "metadata": {},
   "outputs": [],
   "source": [
    "params = Parameters()\n",
    "params.displacementProblem = True"
   ]
  },
  {
   "cell_type": "code",
   "execution_count": null,
   "metadata": {},
   "outputs": [],
   "source": [
    "import solver_u\n",
    "solver_u.main(param)"
   ]
  }
 ],
 "metadata": {
  "kernelspec": {
   "display_name": "Python 3",
   "language": "python",
   "name": "python3"
  },
  "language_info": {
   "codemirror_mode": {
    "name": "ipython",
    "version": 3
   },
   "file_extension": ".py",
   "mimetype": "text/x-python",
   "name": "python",
   "nbconvert_exporter": "python",
   "pygments_lexer": "ipython3",
   "version": "3.8.10"
  }
 },
 "nbformat": 4,
 "nbformat_minor": 4
}
