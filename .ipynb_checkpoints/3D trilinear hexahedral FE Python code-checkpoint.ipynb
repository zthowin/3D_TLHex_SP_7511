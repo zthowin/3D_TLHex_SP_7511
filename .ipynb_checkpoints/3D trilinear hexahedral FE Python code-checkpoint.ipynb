{
 "cells": [
  {
   "cell_type": "markdown",
   "metadata": {},
   "source": [
    "# Introduction\n",
    "The code below demonstrates a 3-D uniaxial strain problem using simple displacement or traction boundary conditions. The location matrix, or element connectivity matrix, is hard-coded for two trilinear hexahedral finite elements (FE), and the application of boundary conditions is similarly inflexible."
   ]
  },
  {
   "cell_type": "markdown",
   "metadata": {},
   "source": [
    "## A primer on `np.einsum`\n",
    "This code makes heavy use of NumPy's `einsum` function. The advantage to using this function is (i) readability (we can use index notation from our notes) and (ii) performance (highly optimized in `c`).\n",
    "\n",
    "We begin with a few examples of how it works. Full documentation can be found at https://numpy.org/doc/stable/reference/generated/numpy.einsum.html."
   ]
  },
  {
   "cell_type": "code",
   "execution_count": 1,
   "metadata": {},
   "outputs": [],
   "source": [
    "import numpy as np"
   ]
  },
  {
   "cell_type": "code",
   "execution_count": 2,
   "metadata": {},
   "outputs": [],
   "source": [
    "np.set_printoptions(precision=5)"
   ]
  },
  {
   "cell_type": "code",
   "execution_count": 3,
   "metadata": {},
   "outputs": [],
   "source": [
    "array_1 = np.random.randn(3,3)"
   ]
  },
  {
   "cell_type": "code",
   "execution_count": 4,
   "metadata": {},
   "outputs": [
    {
     "name": "stdout",
     "output_type": "stream",
     "text": [
      "[[-0.61616  0.74639  0.84084]\n",
      " [-0.47052  0.12218 -0.1582 ]\n",
      " [-1.72667  0.35648 -2.18752]]\n"
     ]
    }
   ],
   "source": [
    "print(array_1)"
   ]
  },
  {
   "cell_type": "markdown",
   "metadata": {},
   "source": [
    "First, take the trace of this array, i.e., $A_{ii}$:"
   ]
  },
  {
   "cell_type": "code",
   "execution_count": 5,
   "metadata": {},
   "outputs": [],
   "source": [
    "def loop_trace(arr):\n",
    "    trace = 0\n",
    "    for i in range(arr.shape[0]):\n",
    "        trace += arr[i,i]\n",
    "    return trace"
   ]
  },
  {
   "cell_type": "code",
   "execution_count": 6,
   "metadata": {},
   "outputs": [],
   "source": [
    "def numpy_trace(arr):\n",
    "    return np.trace(arr)"
   ]
  },
  {
   "cell_type": "code",
   "execution_count": 7,
   "metadata": {},
   "outputs": [],
   "source": [
    "def einsum_trace(arr):\n",
    "    return np.einsum('ii', arr)"
   ]
  },
  {
   "cell_type": "code",
   "execution_count": 8,
   "metadata": {},
   "outputs": [
    {
     "name": "stdout",
     "output_type": "stream",
     "text": [
      "1.15 µs ± 37.2 ns per loop (mean ± std. dev. of 7 runs, 1000000 loops each)\n",
      "3.41 µs ± 123 ns per loop (mean ± std. dev. of 7 runs, 100000 loops each)\n",
      "2.05 µs ± 53.4 ns per loop (mean ± std. dev. of 7 runs, 100000 loops each)\n"
     ]
    }
   ],
   "source": [
    "%timeit loop_trace(array_1)\n",
    "%timeit numpy_trace(array_1)\n",
    "%timeit einsum_trace(array_1)"
   ]
  },
  {
   "cell_type": "code",
   "execution_count": 9,
   "metadata": {},
   "outputs": [
    {
     "name": "stdout",
     "output_type": "stream",
     "text": [
      "True\n",
      "True\n"
     ]
    }
   ],
   "source": [
    "print(loop_trace(array_1) == numpy_trace(array_1))\n",
    "print(loop_trace(array_1) == einsum_trace(array_1))"
   ]
  },
  {
   "cell_type": "markdown",
   "metadata": {},
   "source": [
    "Not much difference between these three as far as the timing goes. What about other operations, e.g., $\\mathbf{a}\\otimes\\mathbf{b} = \\mathbf{C}$ or $a_ib_j = C_{ij}$?"
   ]
  },
  {
   "cell_type": "code",
   "execution_count": 51,
   "metadata": {},
   "outputs": [],
   "source": [
    "vec_1   = np.random.randn(3)\n",
    "vec_2   = np.random.randn(2)\n",
    "array_2 = np.random.randn(3,2)"
   ]
  },
  {
   "cell_type": "code",
   "execution_count": 52,
   "metadata": {},
   "outputs": [],
   "source": [
    "def loop_outer(v1, v2):\n",
    "    outer = np.zeros((v1.shape[0], v2.shape[0]))\n",
    "    for i in range(v1.shape[0]):\n",
    "        for j in range(v2.shape[0]):\n",
    "            outer[i,j] = v1[i]*v2[j]\n",
    "    return outer"
   ]
  },
  {
   "cell_type": "code",
   "execution_count": 53,
   "metadata": {},
   "outputs": [],
   "source": [
    "def numpy_outer(v1, v2):\n",
    "    return np.tensordot(v1, v2, axes=0)"
   ]
  },
  {
   "cell_type": "code",
   "execution_count": 54,
   "metadata": {},
   "outputs": [],
   "source": [
    "def einsum_outer(v1, v2):\n",
    "    return np.einsum('i, j -> ij', v1, v2)"
   ]
  },
  {
   "cell_type": "code",
   "execution_count": 55,
   "metadata": {},
   "outputs": [
    {
     "name": "stdout",
     "output_type": "stream",
     "text": [
      "3.32 µs ± 73 ns per loop (mean ± std. dev. of 7 runs, 100000 loops each)\n",
      "12.2 µs ± 910 ns per loop (mean ± std. dev. of 7 runs, 100000 loops each)\n",
      "1.82 µs ± 19.7 ns per loop (mean ± std. dev. of 7 runs, 1000000 loops each)\n"
     ]
    }
   ],
   "source": [
    "%timeit loop_outer(vec_1, vec_2)\n",
    "%timeit numpy_outer(vec_1, vec_2)\n",
    "%timeit einsum_outer(vec_1, vec_2)"
   ]
  },
  {
   "cell_type": "code",
   "execution_count": 15,
   "metadata": {},
   "outputs": [
    {
     "name": "stdout",
     "output_type": "stream",
     "text": [
      "[[ True  True]\n",
      " [ True  True]\n",
      " [ True  True]]\n",
      "[[ True  True]\n",
      " [ True  True]\n",
      " [ True  True]]\n"
     ]
    }
   ],
   "source": [
    "print(loop_outer(vec_1, vec_2) == numpy_outer(vec_1, vec_2))\n",
    "print(loop_outer(vec_1, vec_2) == einsum_outer(vec_1, vec_2))"
   ]
  },
  {
   "cell_type": "markdown",
   "metadata": {},
   "source": [
    "A bit of a performance boost over a for-loop and well beyond `tensordot`.\n",
    "\n",
    "Next, do matrix-vector multiplication, e.g., $\\mathbf{A}\\mathbf{b} = \\mathbf{c}$ or $A_{ij}b_j = c_i$:"
   ]
  },
  {
   "cell_type": "code",
   "execution_count": 56,
   "metadata": {},
   "outputs": [],
   "source": [
    "def loop_matvec(mat, vec):\n",
    "    vector = np.zeros((mat.shape[0]))\n",
    "    for i in range(mat.shape[0]):\n",
    "        for j in range(mat.shape[1]):\n",
    "            vector[i] += mat[i,j]*vec[j]\n",
    "    return vector"
   ]
  },
  {
   "cell_type": "code",
   "execution_count": 57,
   "metadata": {},
   "outputs": [],
   "source": [
    "def numpy_matvec(mat, vec):\n",
    "    return mat@vec.T"
   ]
  },
  {
   "cell_type": "code",
   "execution_count": 58,
   "metadata": {},
   "outputs": [],
   "source": [
    "def numpy_matvec_dot(mat, vec):\n",
    "    return np.dot(mat, vec)"
   ]
  },
  {
   "cell_type": "code",
   "execution_count": 59,
   "metadata": {},
   "outputs": [],
   "source": [
    "def numpy_matvec_tensordot(mat, vec):\n",
    "    return np.tensordot(mat, vec, axes=1)"
   ]
  },
  {
   "cell_type": "code",
   "execution_count": 60,
   "metadata": {},
   "outputs": [],
   "source": [
    "def einsum_matvec(mat, vec):\n",
    "    return np.einsum('ij, j -> i', mat, vec)"
   ]
  },
  {
   "cell_type": "code",
   "execution_count": 61,
   "metadata": {},
   "outputs": [
    {
     "name": "stdout",
     "output_type": "stream",
     "text": [
      "5.72 µs ± 135 ns per loop (mean ± std. dev. of 7 runs, 100000 loops each)\n",
      "936 ns ± 10.5 ns per loop (mean ± std. dev. of 7 runs, 1000000 loops each)\n",
      "742 ns ± 16.6 ns per loop (mean ± std. dev. of 7 runs, 1000000 loops each)\n",
      "13.5 µs ± 827 ns per loop (mean ± std. dev. of 7 runs, 10000 loops each)\n",
      "1.87 µs ± 17.3 ns per loop (mean ± std. dev. of 7 runs, 1000000 loops each)\n"
     ]
    }
   ],
   "source": [
    "%timeit loop_matvec(array_1, vec_1)\n",
    "%timeit numpy_matvec(array_1, vec_1)\n",
    "%timeit numpy_matvec_dot(array_1, vec_1)\n",
    "%timeit numpy_matvec_tensordot(array_1, vec_1)\n",
    "%timeit einsum_matvec(array_1, vec_1)"
   ]
  },
  {
   "cell_type": "code",
   "execution_count": 22,
   "metadata": {},
   "outputs": [
    {
     "name": "stdout",
     "output_type": "stream",
     "text": [
      "[-0.77695  0.2813   3.21222]\n",
      "[-0.77695  0.2813   3.21222]\n",
      "[-0.77695  0.2813   3.21222]\n",
      "[-0.77695  0.2813   3.21222]\n",
      "[-0.77695  0.2813   3.21222]\n"
     ]
    }
   ],
   "source": [
    "print(loop_matvec(array_1, vec_1))\n",
    "print(numpy_matvec(array_1, vec_1))\n",
    "print(numpy_matvec_dot(array_1, vec_1))\n",
    "print(numpy_matvec_tensordot(array_1, vec_1))\n",
    "print(einsum_matvec(array_1, vec_1))"
   ]
  },
  {
   "cell_type": "markdown",
   "metadata": {},
   "source": [
    "We get beat by the traditional `dot` or `@`, which aren't really clear on what the operation taking place under the hood is.\n",
    "\n",
    "Next, do matrix-matrix multiplcation, e.g., $\\mathbf{A}\\mathbf{B} = \\mathbf{C}$ or $A_{ik}B_{kj} = C_{ij}$"
   ]
  },
  {
   "cell_type": "code",
   "execution_count": 23,
   "metadata": {},
   "outputs": [],
   "source": [
    "def loop_matmat(mat1, mat2):\n",
    "    matrix = np.zeros((mat1.shape[0], mat2.shape[1]))\n",
    "    for i in range(mat1.shape[0]):\n",
    "        for j in range(mat2.shape[1]):\n",
    "            for k in range(mat1.shape[1]):\n",
    "                matrix[i,j] += mat1[i,k]*mat2[k,j]\n",
    "    return matrix"
   ]
  },
  {
   "cell_type": "code",
   "execution_count": 24,
   "metadata": {},
   "outputs": [],
   "source": [
    "def numpy_matmat(mat1, mat2):\n",
    "    return mat1@mat2"
   ]
  },
  {
   "cell_type": "code",
   "execution_count": 25,
   "metadata": {},
   "outputs": [],
   "source": [
    "def numpy_matmat_dot(mat1, mat2):\n",
    "    return np.dot(mat1, mat2)"
   ]
  },
  {
   "cell_type": "code",
   "execution_count": 26,
   "metadata": {},
   "outputs": [],
   "source": [
    "def numpy_matmat_tensordot(mat1, mat2):\n",
    "    return np.tensordot(mat1, mat2, axes=1)"
   ]
  },
  {
   "cell_type": "code",
   "execution_count": 27,
   "metadata": {},
   "outputs": [],
   "source": [
    "def einsum_matmat(mat1, mat2):\n",
    "    return np.einsum('ik, kj -> ij', mat1, mat2)"
   ]
  },
  {
   "cell_type": "code",
   "execution_count": 28,
   "metadata": {},
   "outputs": [
    {
     "name": "stdout",
     "output_type": "stream",
     "text": [
      "16.8 µs ± 402 ns per loop (mean ± std. dev. of 7 runs, 100000 loops each)\n",
      "1.18 µs ± 12.8 ns per loop (mean ± std. dev. of 7 runs, 1000000 loops each)\n",
      "1.03 µs ± 11.2 ns per loop (mean ± std. dev. of 7 runs, 1000000 loops each)\n",
      "15.6 µs ± 353 ns per loop (mean ± std. dev. of 7 runs, 100000 loops each)\n",
      "2.38 µs ± 74.7 ns per loop (mean ± std. dev. of 7 runs, 100000 loops each)\n"
     ]
    }
   ],
   "source": [
    "%timeit loop_matmat(array_1, array_2)\n",
    "%timeit numpy_matmat(array_1, array_2)\n",
    "%timeit numpy_matmat_dot(array_1, array_2)\n",
    "%timeit numpy_matmat_tensordot(array_1, array_2)\n",
    "%timeit einsum_matmat(array_1, array_2)"
   ]
  },
  {
   "cell_type": "code",
   "execution_count": 29,
   "metadata": {},
   "outputs": [
    {
     "name": "stdout",
     "output_type": "stream",
     "text": [
      "[[ 0.53027 -0.00642]\n",
      " [-0.11208  0.17214]\n",
      " [-2.02117  1.25003]]\n",
      "[[ 0.53027 -0.00642]\n",
      " [-0.11208  0.17214]\n",
      " [-2.02117  1.25003]]\n",
      "[[ 0.53027 -0.00642]\n",
      " [-0.11208  0.17214]\n",
      " [-2.02117  1.25003]]\n",
      "[[ 0.53027 -0.00642]\n",
      " [-0.11208  0.17214]\n",
      " [-2.02117  1.25003]]\n",
      "[[ 0.53027 -0.00642]\n",
      " [-0.11208  0.17214]\n",
      " [-2.02117  1.25003]]\n"
     ]
    }
   ],
   "source": [
    "print(loop_matmat(array_1, array_2))\n",
    "print(numpy_matmat(array_1, array_2))\n",
    "print(numpy_matmat_dot(array_1, array_2))\n",
    "print(numpy_matmat_tensordot(array_1, array_2))\n",
    "print(einsum_matmat(array_1, array_2))"
   ]
  },
  {
   "cell_type": "markdown",
   "metadata": {},
   "source": [
    "Here we see that `einsum` is much faster than `tensordot` and the for-loop, and still only slightly behind the traditional methods. But what if we have much higher order tensors, e.g., 4th order?"
   ]
  },
  {
   "cell_type": "code",
   "execution_count": 66,
   "metadata": {},
   "outputs": [],
   "source": [
    "fourth_order_tensor = np.random.randn(3,3,3,3)\n",
    "second_order_tensor = np.random.randn(3,3)"
   ]
  },
  {
   "cell_type": "code",
   "execution_count": 67,
   "metadata": {},
   "outputs": [],
   "source": [
    "def loop_matmat_ho(mat1, mat2):\n",
    "    matrix = np.zeros((mat1.shape[0], mat1.shape[1]))\n",
    "    for i in range(mat1.shape[0]):\n",
    "        for j in range(mat1.shape[1]):\n",
    "            for k in range(mat1.shape[2]):\n",
    "                for l in range(mat1.shape[3]):\n",
    "                    matrix[i,j] += mat1[i,j,k,l]*mat2[k,l]\n",
    "    return matrix"
   ]
  },
  {
   "cell_type": "code",
   "execution_count": 76,
   "metadata": {},
   "outputs": [],
   "source": [
    "def numpy_matmat_tensordot_ho(mat1, mat2):\n",
    "    return np.tensordot(mat1, mat2, axes=2)"
   ]
  },
  {
   "cell_type": "code",
   "execution_count": 77,
   "metadata": {},
   "outputs": [],
   "source": [
    "def einsum_matmat_ho(mat1, mat2):\n",
    "    return np.einsum('ijkl, kl -> ij', mat1, mat2)"
   ]
  },
  {
   "cell_type": "code",
   "execution_count": 80,
   "metadata": {
    "scrolled": true
   },
   "outputs": [
    {
     "name": "stdout",
     "output_type": "stream",
     "text": [
      "57.9 µs ± 1.96 µs per loop (mean ± std. dev. of 7 runs, 10000 loops each)\n"
     ]
    },
    {
     "ename": "TypeError",
     "evalue": "_sum() got an unexpected keyword argument 'axes'",
     "output_type": "error",
     "traceback": [
      "\u001b[0;31m---------------------------------------------------------------------------\u001b[0m",
      "\u001b[0;31mTypeError\u001b[0m                                 Traceback (most recent call last)",
      "\u001b[0;32m<ipython-input-80-504bfb0b3737>\u001b[0m in \u001b[0;36m<module>\u001b[0;34m\u001b[0m\n\u001b[1;32m      1\u001b[0m \u001b[0mget_ipython\u001b[0m\u001b[0;34m(\u001b[0m\u001b[0;34m)\u001b[0m\u001b[0;34m.\u001b[0m\u001b[0mrun_line_magic\u001b[0m\u001b[0;34m(\u001b[0m\u001b[0;34m'timeit'\u001b[0m\u001b[0;34m,\u001b[0m \u001b[0;34m'loop_matmat_ho(fourth_order_tensor, second_order_tensor)'\u001b[0m\u001b[0;34m)\u001b[0m\u001b[0;34m\u001b[0m\u001b[0;34m\u001b[0m\u001b[0m\n\u001b[0;32m----> 2\u001b[0;31m \u001b[0mget_ipython\u001b[0m\u001b[0;34m(\u001b[0m\u001b[0;34m)\u001b[0m\u001b[0;34m.\u001b[0m\u001b[0mrun_line_magic\u001b[0m\u001b[0;34m(\u001b[0m\u001b[0;34m'timeit'\u001b[0m\u001b[0;34m,\u001b[0m \u001b[0;34m'numpy_matmat(fourth_order_tensor, second_order_tensor).sum(axes=(1,2))'\u001b[0m\u001b[0;34m)\u001b[0m\u001b[0;34m\u001b[0m\u001b[0;34m\u001b[0m\u001b[0m\n\u001b[0m\u001b[1;32m      3\u001b[0m \u001b[0mget_ipython\u001b[0m\u001b[0;34m(\u001b[0m\u001b[0;34m)\u001b[0m\u001b[0;34m.\u001b[0m\u001b[0mrun_line_magic\u001b[0m\u001b[0;34m(\u001b[0m\u001b[0;34m'timeit'\u001b[0m\u001b[0;34m,\u001b[0m \u001b[0;34m'numpy_matmat_dot(fourth_order_tensor, second_order_tensor)'\u001b[0m\u001b[0;34m)\u001b[0m\u001b[0;34m\u001b[0m\u001b[0;34m\u001b[0m\u001b[0m\n\u001b[1;32m      4\u001b[0m \u001b[0mget_ipython\u001b[0m\u001b[0;34m(\u001b[0m\u001b[0;34m)\u001b[0m\u001b[0;34m.\u001b[0m\u001b[0mrun_line_magic\u001b[0m\u001b[0;34m(\u001b[0m\u001b[0;34m'timeit'\u001b[0m\u001b[0;34m,\u001b[0m \u001b[0;34m'numpy_matmat_tensordot_ho(fourth_order_tensor, second_order_tensor)'\u001b[0m\u001b[0;34m)\u001b[0m\u001b[0;34m\u001b[0m\u001b[0;34m\u001b[0m\u001b[0m\n\u001b[1;32m      5\u001b[0m \u001b[0mget_ipython\u001b[0m\u001b[0;34m(\u001b[0m\u001b[0;34m)\u001b[0m\u001b[0;34m.\u001b[0m\u001b[0mrun_line_magic\u001b[0m\u001b[0;34m(\u001b[0m\u001b[0;34m'timeit'\u001b[0m\u001b[0;34m,\u001b[0m \u001b[0;34m'einsum_matmat_ho(fourth_order_tensor, second_order_tensor)'\u001b[0m\u001b[0;34m)\u001b[0m\u001b[0;34m\u001b[0m\u001b[0;34m\u001b[0m\u001b[0m\n",
      "\u001b[0;32m~/.local/lib/python3.8/site-packages/IPython/core/interactiveshell.py\u001b[0m in \u001b[0;36mrun_line_magic\u001b[0;34m(self, magic_name, line, _stack_depth)\u001b[0m\n\u001b[1;32m   2325\u001b[0m                 \u001b[0mkwargs\u001b[0m\u001b[0;34m[\u001b[0m\u001b[0;34m'local_ns'\u001b[0m\u001b[0;34m]\u001b[0m \u001b[0;34m=\u001b[0m \u001b[0mself\u001b[0m\u001b[0;34m.\u001b[0m\u001b[0mget_local_scope\u001b[0m\u001b[0;34m(\u001b[0m\u001b[0mstack_depth\u001b[0m\u001b[0;34m)\u001b[0m\u001b[0;34m\u001b[0m\u001b[0;34m\u001b[0m\u001b[0m\n\u001b[1;32m   2326\u001b[0m             \u001b[0;32mwith\u001b[0m \u001b[0mself\u001b[0m\u001b[0;34m.\u001b[0m\u001b[0mbuiltin_trap\u001b[0m\u001b[0;34m:\u001b[0m\u001b[0;34m\u001b[0m\u001b[0;34m\u001b[0m\u001b[0m\n\u001b[0;32m-> 2327\u001b[0;31m                 \u001b[0mresult\u001b[0m \u001b[0;34m=\u001b[0m \u001b[0mfn\u001b[0m\u001b[0;34m(\u001b[0m\u001b[0;34m*\u001b[0m\u001b[0margs\u001b[0m\u001b[0;34m,\u001b[0m \u001b[0;34m**\u001b[0m\u001b[0mkwargs\u001b[0m\u001b[0;34m)\u001b[0m\u001b[0;34m\u001b[0m\u001b[0;34m\u001b[0m\u001b[0m\n\u001b[0m\u001b[1;32m   2328\u001b[0m             \u001b[0;32mreturn\u001b[0m \u001b[0mresult\u001b[0m\u001b[0;34m\u001b[0m\u001b[0;34m\u001b[0m\u001b[0m\n\u001b[1;32m   2329\u001b[0m \u001b[0;34m\u001b[0m\u001b[0m\n",
      "\u001b[0;32m<decorator-gen-60>\u001b[0m in \u001b[0;36mtimeit\u001b[0;34m(self, line, cell, local_ns)\u001b[0m\n",
      "\u001b[0;32m~/.local/lib/python3.8/site-packages/IPython/core/magic.py\u001b[0m in \u001b[0;36m<lambda>\u001b[0;34m(f, *a, **k)\u001b[0m\n\u001b[1;32m    185\u001b[0m     \u001b[0;31m# but it's overkill for just that one bit of state.\u001b[0m\u001b[0;34m\u001b[0m\u001b[0;34m\u001b[0m\u001b[0;34m\u001b[0m\u001b[0m\n\u001b[1;32m    186\u001b[0m     \u001b[0;32mdef\u001b[0m \u001b[0mmagic_deco\u001b[0m\u001b[0;34m(\u001b[0m\u001b[0marg\u001b[0m\u001b[0;34m)\u001b[0m\u001b[0;34m:\u001b[0m\u001b[0;34m\u001b[0m\u001b[0;34m\u001b[0m\u001b[0m\n\u001b[0;32m--> 187\u001b[0;31m         \u001b[0mcall\u001b[0m \u001b[0;34m=\u001b[0m \u001b[0;32mlambda\u001b[0m \u001b[0mf\u001b[0m\u001b[0;34m,\u001b[0m \u001b[0;34m*\u001b[0m\u001b[0ma\u001b[0m\u001b[0;34m,\u001b[0m \u001b[0;34m**\u001b[0m\u001b[0mk\u001b[0m\u001b[0;34m:\u001b[0m \u001b[0mf\u001b[0m\u001b[0;34m(\u001b[0m\u001b[0;34m*\u001b[0m\u001b[0ma\u001b[0m\u001b[0;34m,\u001b[0m \u001b[0;34m**\u001b[0m\u001b[0mk\u001b[0m\u001b[0;34m)\u001b[0m\u001b[0;34m\u001b[0m\u001b[0;34m\u001b[0m\u001b[0m\n\u001b[0m\u001b[1;32m    188\u001b[0m \u001b[0;34m\u001b[0m\u001b[0m\n\u001b[1;32m    189\u001b[0m         \u001b[0;32mif\u001b[0m \u001b[0mcallable\u001b[0m\u001b[0;34m(\u001b[0m\u001b[0marg\u001b[0m\u001b[0;34m)\u001b[0m\u001b[0;34m:\u001b[0m\u001b[0;34m\u001b[0m\u001b[0;34m\u001b[0m\u001b[0m\n",
      "\u001b[0;32m~/.local/lib/python3.8/site-packages/IPython/core/magics/execution.py\u001b[0m in \u001b[0;36mtimeit\u001b[0;34m(self, line, cell, local_ns)\u001b[0m\n\u001b[1;32m   1167\u001b[0m             \u001b[0;32mfor\u001b[0m \u001b[0mindex\u001b[0m \u001b[0;32min\u001b[0m \u001b[0mrange\u001b[0m\u001b[0;34m(\u001b[0m\u001b[0;36m0\u001b[0m\u001b[0;34m,\u001b[0m \u001b[0;36m10\u001b[0m\u001b[0;34m)\u001b[0m\u001b[0;34m:\u001b[0m\u001b[0;34m\u001b[0m\u001b[0;34m\u001b[0m\u001b[0m\n\u001b[1;32m   1168\u001b[0m                 \u001b[0mnumber\u001b[0m \u001b[0;34m=\u001b[0m \u001b[0;36m10\u001b[0m \u001b[0;34m**\u001b[0m \u001b[0mindex\u001b[0m\u001b[0;34m\u001b[0m\u001b[0;34m\u001b[0m\u001b[0m\n\u001b[0;32m-> 1169\u001b[0;31m                 \u001b[0mtime_number\u001b[0m \u001b[0;34m=\u001b[0m \u001b[0mtimer\u001b[0m\u001b[0;34m.\u001b[0m\u001b[0mtimeit\u001b[0m\u001b[0;34m(\u001b[0m\u001b[0mnumber\u001b[0m\u001b[0;34m)\u001b[0m\u001b[0;34m\u001b[0m\u001b[0;34m\u001b[0m\u001b[0m\n\u001b[0m\u001b[1;32m   1170\u001b[0m                 \u001b[0;32mif\u001b[0m \u001b[0mtime_number\u001b[0m \u001b[0;34m>=\u001b[0m \u001b[0;36m0.2\u001b[0m\u001b[0;34m:\u001b[0m\u001b[0;34m\u001b[0m\u001b[0;34m\u001b[0m\u001b[0m\n\u001b[1;32m   1171\u001b[0m                     \u001b[0;32mbreak\u001b[0m\u001b[0;34m\u001b[0m\u001b[0;34m\u001b[0m\u001b[0m\n",
      "\u001b[0;32m~/.local/lib/python3.8/site-packages/IPython/core/magics/execution.py\u001b[0m in \u001b[0;36mtimeit\u001b[0;34m(self, number)\u001b[0m\n\u001b[1;32m    167\u001b[0m         \u001b[0mgc\u001b[0m\u001b[0;34m.\u001b[0m\u001b[0mdisable\u001b[0m\u001b[0;34m(\u001b[0m\u001b[0;34m)\u001b[0m\u001b[0;34m\u001b[0m\u001b[0;34m\u001b[0m\u001b[0m\n\u001b[1;32m    168\u001b[0m         \u001b[0;32mtry\u001b[0m\u001b[0;34m:\u001b[0m\u001b[0;34m\u001b[0m\u001b[0;34m\u001b[0m\u001b[0m\n\u001b[0;32m--> 169\u001b[0;31m             \u001b[0mtiming\u001b[0m \u001b[0;34m=\u001b[0m \u001b[0mself\u001b[0m\u001b[0;34m.\u001b[0m\u001b[0minner\u001b[0m\u001b[0;34m(\u001b[0m\u001b[0mit\u001b[0m\u001b[0;34m,\u001b[0m \u001b[0mself\u001b[0m\u001b[0;34m.\u001b[0m\u001b[0mtimer\u001b[0m\u001b[0;34m)\u001b[0m\u001b[0;34m\u001b[0m\u001b[0;34m\u001b[0m\u001b[0m\n\u001b[0m\u001b[1;32m    170\u001b[0m         \u001b[0;32mfinally\u001b[0m\u001b[0;34m:\u001b[0m\u001b[0;34m\u001b[0m\u001b[0;34m\u001b[0m\u001b[0m\n\u001b[1;32m    171\u001b[0m             \u001b[0;32mif\u001b[0m \u001b[0mgcold\u001b[0m\u001b[0;34m:\u001b[0m\u001b[0;34m\u001b[0m\u001b[0;34m\u001b[0m\u001b[0m\n",
      "\u001b[0;32m<magic-timeit>\u001b[0m in \u001b[0;36minner\u001b[0;34m(_it, _timer)\u001b[0m\n",
      "\u001b[0;31mTypeError\u001b[0m: _sum() got an unexpected keyword argument 'axes'"
     ]
    }
   ],
   "source": [
    "%timeit loop_matmat_ho(fourth_order_tensor, second_order_tensor)\n",
    "%timeit numpy_matmat(fourth_order_tensor, second_order_tensor)\n",
    "%timeit numpy_matmat_dot(fourth_order_tensor, second_order_tensor)\n",
    "%timeit numpy_matmat_tensordot_ho(fourth_order_tensor, second_order_tensor)\n",
    "%timeit einsum_matmat_ho(fourth_order_tensor, second_order_tensor)"
   ]
  },
  {
   "cell_type": "code",
   "execution_count": 78,
   "metadata": {},
   "outputs": [
    {
     "name": "stdout",
     "output_type": "stream",
     "text": [
      "[[-0.49064 -0.92841 -0.6752 ]\n",
      " [ 0.05969 -2.0381  -1.26636]\n",
      " [ 1.25196  2.25958  3.13605]]\n",
      "[[[[-1.68004e+00 -1.11987e+00 -5.99472e-01]\n",
      "   [ 2.14177e+00  1.42352e+00  6.36986e-01]\n",
      "   [ 1.21567e+00  1.06600e+00  2.94696e-01]]\n",
      "\n",
      "  [[ 2.20018e+00  2.61847e+00  6.73414e-01]\n",
      "   [ 6.27217e-04  3.61013e-01 -1.05371e-01]\n",
      "   [ 4.52854e-02  6.53617e-01 -4.76358e-02]]\n",
      "\n",
      "  [[ 3.51408e-01  7.78784e-01  8.90111e-02]\n",
      "   [-2.03832e+00 -9.98640e-01 -5.99839e-01]\n",
      "   [-3.46411e-01 -8.35794e-01 -8.72074e-02]]]\n",
      "\n",
      "\n",
      " [[[ 1.23130e+00  3.34061e-01  2.85493e-01]\n",
      "   [ 1.01805e+00  5.68650e-01  3.62853e-01]\n",
      "   [-1.28428e+00 -8.55233e-02 -3.78561e-01]]\n",
      "\n",
      "  [[-4.93035e+00 -5.25141e+00 -1.22678e+00]\n",
      "   [ 8.91887e-01  3.91188e-01  1.31335e-01]\n",
      "   [ 4.15474e-01  1.09895e+00  1.29021e-01]]\n",
      "\n",
      "  [[ 7.73294e-01 -2.19560e-01  3.31158e-02]\n",
      "   [-1.73852e+00 -1.15922e+00 -6.08298e-01]\n",
      "   [ 1.85055e-01  1.13555e-01 -4.61360e-02]]]\n",
      "\n",
      "\n",
      " [[[-1.46453e+00 -4.76118e-01 -3.46122e-01]\n",
      "   [-3.28298e+00 -3.04976e+00 -9.89260e-01]\n",
      "   [ 2.48065e+00  1.36570e+00  8.10612e-01]]\n",
      "\n",
      "  [[ 1.84578e+00  2.35122e+00  5.78462e-01]\n",
      "   [ 4.95788e+00  2.88561e+00  1.44379e+00]\n",
      "   [ 9.48972e-02  3.37269e-01  2.84504e-02]]\n",
      "\n",
      "  [[-5.68245e-01 -2.01889e+00 -1.11576e-01]\n",
      "   [ 1.74560e+00  1.26871e+00  4.92698e-01]\n",
      "   [ 1.33208e+00 -1.96516e-01  3.74079e-01]]]]\n",
      "[[[[-1.68004e+00 -1.11987e+00 -5.99472e-01]\n",
      "   [ 2.14177e+00  1.42352e+00  6.36986e-01]\n",
      "   [ 1.21567e+00  1.06600e+00  2.94696e-01]]\n",
      "\n",
      "  [[ 2.20018e+00  2.61847e+00  6.73414e-01]\n",
      "   [ 6.27217e-04  3.61013e-01 -1.05371e-01]\n",
      "   [ 4.52854e-02  6.53617e-01 -4.76358e-02]]\n",
      "\n",
      "  [[ 3.51408e-01  7.78784e-01  8.90111e-02]\n",
      "   [-2.03832e+00 -9.98640e-01 -5.99839e-01]\n",
      "   [-3.46411e-01 -8.35794e-01 -8.72074e-02]]]\n",
      "\n",
      "\n",
      " [[[ 1.23130e+00  3.34061e-01  2.85493e-01]\n",
      "   [ 1.01805e+00  5.68650e-01  3.62853e-01]\n",
      "   [-1.28428e+00 -8.55233e-02 -3.78561e-01]]\n",
      "\n",
      "  [[-4.93035e+00 -5.25141e+00 -1.22678e+00]\n",
      "   [ 8.91887e-01  3.91188e-01  1.31335e-01]\n",
      "   [ 4.15474e-01  1.09895e+00  1.29021e-01]]\n",
      "\n",
      "  [[ 7.73294e-01 -2.19560e-01  3.31158e-02]\n",
      "   [-1.73852e+00 -1.15922e+00 -6.08298e-01]\n",
      "   [ 1.85055e-01  1.13555e-01 -4.61360e-02]]]\n",
      "\n",
      "\n",
      " [[[-1.46453e+00 -4.76118e-01 -3.46122e-01]\n",
      "   [-3.28298e+00 -3.04976e+00 -9.89260e-01]\n",
      "   [ 2.48065e+00  1.36570e+00  8.10612e-01]]\n",
      "\n",
      "  [[ 1.84578e+00  2.35122e+00  5.78462e-01]\n",
      "   [ 4.95788e+00  2.88561e+00  1.44379e+00]\n",
      "   [ 9.48972e-02  3.37269e-01  2.84504e-02]]\n",
      "\n",
      "  [[-5.68245e-01 -2.01889e+00 -1.11576e-01]\n",
      "   [ 1.74560e+00  1.26871e+00  4.92698e-01]\n",
      "   [ 1.33208e+00 -1.96516e-01  3.74079e-01]]]]\n",
      "[[-0.49064 -0.92841 -0.6752 ]\n",
      " [ 0.05969 -2.0381  -1.26636]\n",
      " [ 1.25196  2.25958  3.13605]]\n",
      "[[-0.49064 -0.92841 -0.6752 ]\n",
      " [ 0.05969 -2.0381  -1.26636]\n",
      " [ 1.25196  2.25958  3.13605]]\n"
     ]
    }
   ],
   "source": [
    "print(loop_matmat_ho(fourth_order_tensor, second_order_tensor))\n",
    "print(numpy_matmat(fourth_order_tensor, second_order_tensor))\n",
    "print(numpy_matmat_dot(fourth_order_tensor, second_order_tensor))\n",
    "print(numpy_matmat_tensordot_ho(fourth_order_tensor, second_order_tensor))\n",
    "print(einsum_matmat_ho(fourth_order_tensor, second_order_tensor))"
   ]
  },
  {
   "cell_type": "markdown",
   "metadata": {},
   "source": [
    "When we naively used the built-in functions and we got the wrong result. What if we catch this?"
   ]
  },
  {
   "cell_type": "code",
   "execution_count": 86,
   "metadata": {},
   "outputs": [
    {
     "name": "stdout",
     "output_type": "stream",
     "text": [
      "[[ 3.37924  6.3996  -3.68701]\n",
      " [ 2.05204 -8.35068 -2.66671]\n",
      " [-4.9518  14.52335  2.31794]]\n",
      "[[ 3.37924  6.3996  -3.68701]\n",
      " [ 2.05204 -8.35068 -2.66671]\n",
      " [-4.9518  14.52335  2.31794]]\n"
     ]
    }
   ],
   "source": [
    "print(np.sum(numpy_matmat(fourth_order_tensor, second_order_tensor), axis=(2,3)))\n",
    "print(np.sum(numpy_matmat_dot(fourth_order_tensor, second_order_tensor), axis=(2,3)))"
   ]
  },
  {
   "cell_type": "markdown",
   "metadata": {},
   "source": [
    "# 3-D Hexahedral Elements\n",
    "The methodology of the Python code is to create an object that can be used to represent the finite element.\n",
    "\n",
    "First, let us create the coordinates of one trilinear hexahedral element:"
   ]
  },
  {
   "cell_type": "code",
   "execution_count": 30,
   "metadata": {},
   "outputs": [],
   "source": [
    "numEl    = 1\n",
    "numGauss = 8\n",
    "numDim   = 3\n",
    "\n",
    "coordinates = np.zeros((numEl, numGauss, numDim))\n",
    "coordinates[0,:,:] = np.array([[0.0,  0.0,  0.0],\n",
    "                               [0.01, 0.0,  0.0],\n",
    "                               [0.01, 0.01, 0.0],\n",
    "                               [0.0,  0.01, 0.0],\n",
    "                               [0.0,  0.0,  0.05],\n",
    "                               [0.01, 0.0,  0.05],\n",
    "                               [0.01, 0.01, 0.05],\n",
    "                               [0.0,  0.01, 0.05]])"
   ]
  },
  {
   "cell_type": "markdown",
   "metadata": {},
   "source": [
    "With the coordinates, we can now initialize the element object."
   ]
  },
  {
   "cell_type": "code",
   "execution_count": 31,
   "metadata": {},
   "outputs": [],
   "source": [
    "class Parameters:\n",
    "    \n",
    "    def __init__(self):\n",
    "        self.float_dtype = np.float64 # argument for precision of NumPy arrays used in element object"
   ]
  },
  {
   "cell_type": "code",
   "execution_count": 32,
   "metadata": {},
   "outputs": [],
   "source": [
    "import classElement"
   ]
  },
  {
   "cell_type": "code",
   "execution_count": 33,
   "metadata": {},
   "outputs": [],
   "source": [
    "params  = Parameters()\n",
    "element = classElement.Element(a_GaussOrder=2, a_ID=0)\n",
    "element.set_Gauss_Points(params)\n",
    "element.set_Gauss_Weights(params)\n",
    "element.set_Coordinates(coordinates[element.ID,:,:])"
   ]
  },
  {
   "cell_type": "code",
   "execution_count": 34,
   "metadata": {},
   "outputs": [
    {
     "name": "stdout",
     "output_type": "stream",
     "text": [
      "[[0.   0.   0.  ]\n",
      " [0.01 0.   0.  ]\n",
      " [0.01 0.01 0.  ]\n",
      " [0.   0.01 0.  ]\n",
      " [0.   0.   0.05]\n",
      " [0.01 0.   0.05]\n",
      " [0.01 0.01 0.05]\n",
      " [0.   0.01 0.05]]\n"
     ]
    }
   ],
   "source": [
    "print(element.coordinates)"
   ]
  },
  {
   "cell_type": "markdown",
   "metadata": {},
   "source": [
    "Next, we can initialize the shape functions. The displacement shape functions are constant, i.e., we only need to define them once because the local coordinates are not changing. However, the strain-displacement shape functions are not constant because they depend on some deformation at time $t_n$.\n",
    "\n",
    "Here, we introduce the concept of broadcasting. Broadcasting is an efficient method to perform calculations on large datasets. In this example, our \"large\" dataset is the 8 Gauss points. Even though that is relatively small, remember that Python does not perform well when using loops. If we were to use higher-order interpolations, looping over the Gauss points to reinitialize the shape functions in memory would become prohibitively expensive.\n",
    "\n",
    "So the leading dimension of all element-related quantities, whether they be interpolation functions or stress measures (e.g., $\\boldsymbol{\\sigma}^e$), represents the Gauss point, and trailing dimensions represent the physical interpreation."
   ]
  },
  {
   "cell_type": "code",
   "execution_count": 35,
   "metadata": {
    "scrolled": false
   },
   "outputs": [
    {
     "name": "stdout",
     "output_type": "stream",
     "text": [
      "[[-0.57735 -0.57735 -0.57735]\n",
      " [ 0.57735 -0.57735 -0.57735]\n",
      " [ 0.57735  0.57735 -0.57735]\n",
      " [-0.57735  0.57735 -0.57735]\n",
      " [-0.57735 -0.57735  0.57735]\n",
      " [ 0.57735 -0.57735  0.57735]\n",
      " [ 0.57735  0.57735  0.57735]\n",
      " [-0.57735  0.57735  0.57735]]\n",
      "(8, 3)\n"
     ]
    }
   ],
   "source": [
    "print(element.points)\n",
    "print(element.points.shape)"
   ]
  },
  {
   "cell_type": "markdown",
   "metadata": {},
   "source": [
    "$\\boldsymbol{\\xi}^e = [\\xi \\quad \\eta \\quad \\zeta]^e$ has shape 8x3 (8 Gauss points, 3 dimensions xyz) "
   ]
  },
  {
   "cell_type": "code",
   "execution_count": 43,
   "metadata": {},
   "outputs": [],
   "source": [
    "element.evaluate_Shape_Functions(params)"
   ]
  },
  {
   "cell_type": "code",
   "execution_count": 42,
   "metadata": {},
   "outputs": [
    {
     "name": "stdout",
     "output_type": "stream",
     "text": [
      "[-0.57735  0.57735  0.57735 -0.57735 -0.57735  0.57735  0.57735 -0.57735]\n",
      "(8,)\n",
      "[-0.57735 -0.57735  0.57735  0.57735 -0.57735 -0.57735  0.57735  0.57735]\n",
      "(8,)\n",
      "[-0.57735 -0.57735 -0.57735 -0.57735  0.57735  0.57735  0.57735  0.57735]\n",
      "(8,)\n"
     ]
    }
   ],
   "source": [
    "print(element.xi); print(element.xi.shape)\n",
    "print(element.eta); print(element.eta.shape)\n",
    "print(element.zeta); print(element.zeta.shape)"
   ]
  },
  {
   "cell_type": "markdown",
   "metadata": {},
   "source": [
    "Here, `Nu` is an 8x3x24, i.e.,\n",
    "\n",
    "$\\mathbf{N}^{u,e} := \\sum_{a=1}^8 \\underbrace{N^u_a(\\boldsymbol{\\xi})}_{n_{dim}\\times(n_{dim}\\times n_{Gauss})} = \\sum_{a=1}^8 \\underbrace{N_a(\\boldsymbol{\\xi})}_{3\\times 24}$"
   ]
  },
  {
   "cell_type": "code",
   "execution_count": 45,
   "metadata": {},
   "outputs": [
    {
     "name": "stdout",
     "output_type": "stream",
     "text": [
      "(8, 3, 24)\n"
     ]
    }
   ],
   "source": [
    "print(element.Nu.shape)"
   ]
  },
  {
   "cell_type": "markdown",
   "metadata": {},
   "source": [
    "```python\n",
    "def evaluate_Shape_Functions(self, Parameters):\n",
    "        # Initialize the shape functions used for interpolation.        \n",
    "        #--------------------------------\n",
    "        # Grab local element coordinates.\n",
    "        #--------------------------------\n",
    "        self.xi   = self.points[:,0]\n",
    "        self.eta  = self.points[:,1]\n",
    "        self.zeta = self.points[:,2]\n",
    "        #---------\n",
    "        # Set N_a.\n",
    "        #---------\n",
    "        self.N1 = (1 - self.xi)*(1 - self.eta)*(1 - self.zeta)/8\n",
    "        self.N2 = (1 + self.xi)*(1 - self.eta)*(1 - self.zeta)/8\n",
    "        self.N3 = (1 + self.xi)*(1 + self.eta)*(1 - self.zeta)/8\n",
    "        self.N4 = (1 - self.xi)*(1 + self.eta)*(1 - self.zeta)/8\n",
    "        self.N5 = (1 - self.xi)*(1 - self.eta)*(1 + self.zeta)/8\n",
    "        self.N6 = (1 + self.xi)*(1 - self.eta)*(1 + self.zeta)/8\n",
    "        self.N7 = (1 + self.xi)*(1 + self.eta)*(1 + self.zeta)/8\n",
    "        self.N8 = (1 - self.xi)*(1 + self.eta)*(1 + self.zeta)/8\n",
    "        #-----------------------------\n",
    "        # Build shape function matrix.\n",
    "        #-----------------------------\n",
    "        self.Nu = np.zeros((8, 3, 24), dtype=Parameters.float_dtype)\n",
    "        for i in range(3):\n",
    "            self.Nu[:, i, 0 + i]  = self.N1\n",
    "            self.Nu[:, i, 3 + i]  = self.N2\n",
    "            self.Nu[:, i, 6 + i]  = self.N3\n",
    "            self.Nu[:, i, 9 + i]  = self.N4\n",
    "            self.Nu[:, i, 12 + i] = self.N5\n",
    "            self.Nu[:, i, 15 + i] = self.N6\n",
    "            self.Nu[:, i, 18 + i] = self.N7\n",
    "            self.Nu[:, i, 21 + i] = self.N8\n",
    "```"
   ]
  },
  {
   "cell_type": "markdown",
   "metadata": {},
   "source": [
    "In the above `self` refers to the element object (i.e., referencing itself)."
   ]
  },
  {
   "cell_type": "code",
   "execution_count": 44,
   "metadata": {},
   "outputs": [
    {
     "name": "stdout",
     "output_type": "stream",
     "text": [
      "[[0.49056 0.      0.      0.13145 0.      0.      0.03522 0.      0.\n",
      "  0.13145 0.      0.      0.13145 0.      0.      0.03522 0.      0.\n",
      "  0.00944 0.      0.      0.03522 0.      0.     ]\n",
      " [0.      0.49056 0.      0.      0.13145 0.      0.      0.03522 0.\n",
      "  0.      0.13145 0.      0.      0.13145 0.      0.      0.03522 0.\n",
      "  0.      0.00944 0.      0.      0.03522 0.     ]\n",
      " [0.      0.      0.49056 0.      0.      0.13145 0.      0.      0.03522\n",
      "  0.      0.      0.13145 0.      0.      0.13145 0.      0.      0.03522\n",
      "  0.      0.      0.00944 0.      0.      0.03522]]\n"
     ]
    }
   ],
   "source": [
    "print(element.Nu[0,:,:])"
   ]
  },
  {
   "cell_type": "markdown",
   "metadata": {},
   "source": [
    "Recall the strain displacement matrix,\n",
    "\n",
    "$$\n",
    "B^{u,e} :=  \\sum_{a=1}^8 \\underbrace{B^u_a(\\boldsymbol{\\xi})}_{(n_{dim}\\times n_{dim})\\times(n_{dim}\\times n_{Gauss})} = \\sum_{a=1}^8 \\underbrace{B^u_a(\\boldsymbol{\\xi})}_{9\\times 24} = \\sum_{a=1}^8 \\frac{\\partial\\mathbf{N}_a^u}{\\partial\\boldsymbol{X}}\n",
    " = \\sum_{a=1}^8 \\frac{\\partial\\mathbf{N}_a^u}{\\partial\\boldsymbol{\\xi}}\\frac{\\partial\\boldsymbol{\\xi}}{\\partial\\mathbf{X}}\n",
    "$$"
   ]
  },
  {
   "cell_type": "code",
   "execution_count": 49,
   "metadata": {},
   "outputs": [
    {
     "name": "stdout",
     "output_type": "stream",
     "text": [
      "(8, 9, 24)\n"
     ]
    }
   ],
   "source": [
    "print(element.Bu.shape)"
   ]
  },
  {
   "cell_type": "markdown",
   "metadata": {},
   "source": [
    "This portion of the code calculates $\\dfrac{\\partial\\mathbf{N}_a^u}{\\partial\\boldsymbol{\\xi}}$"
   ]
  },
  {
   "cell_type": "markdown",
   "metadata": {},
   "source": [
    "```python\n",
    "#----------------------------------\n",
    "# Calculate derivatives w.r.t. \\xi.\n",
    "#----------------------------------\n",
    "self.dN1_dxi = -(1/8)*(1 - self.eta)*(1 - self.zeta)\n",
    "self.dN2_dxi = -self.dN1_dxi\n",
    "self.dN3_dxi = (1/8)*(1 + self.eta)*(1 - self.zeta)\n",
    "self.dN4_dxi = -self.dN3_dxi\n",
    "self.dN5_dxi = -(1/8)*(1 - self.eta)*(1 + self.zeta)\n",
    "self.dN6_dxi = -self.dN5_dxi\n",
    "self.dN7_dxi = (1/8)*(1 + self.eta)*(1 + self.zeta)\n",
    "self.dN8_dxi = -self.dN7_dxi\n",
    "\n",
    "self.dN_dxi      = np.zeros((8,8), dtype=Parameters.float_dtype)\n",
    "self.dN_dxi[:,0] = self.dN1_dxi\n",
    "self.dN_dxi[:,1] = self.dN2_dxi\n",
    "self.dN_dxi[:,2] = self.dN3_dxi\n",
    "self.dN_dxi[:,3] = self.dN4_dxi\n",
    "self.dN_dxi[:,4] = self.dN5_dxi\n",
    "self.dN_dxi[:,5] = self.dN6_dxi\n",
    "self.dN_dxi[:,6] = self.dN7_dxi\n",
    "self.dN_dxi[:,7] = self.dN8_dxi\n",
    "#-----------------------------------\n",
    "# Calculate derivatives w.r.t. \\eta.\n",
    "#-----------------------------------\n",
    "self.dN1_deta = -(1/8)*(1 - self.xi)*(1 - self.zeta)\n",
    "self.dN2_deta = -(1/8)*(1 + self.xi)*(1 - self.zeta)\n",
    "self.dN3_deta = -self.dN2_deta\n",
    "self.dN4_deta = -self.dN1_deta\n",
    "self.dN5_deta = -(1/8)*(1 - self.xi)*(1 + self.zeta)\n",
    "self.dN6_deta = -(1/8)*(1 + self.xi)*(1 + self.zeta)\n",
    "self.dN7_deta = -self.dN6_deta\n",
    "self.dN8_deta = -self.dN5_deta\n",
    "\n",
    "self.dN_deta      = np.zeros((8,8), dtype=Parameters.float_dtype)\n",
    "self.dN_deta[:,0] = self.dN1_deta\n",
    "self.dN_deta[:,1] = self.dN2_deta\n",
    "self.dN_deta[:,2] = self.dN3_deta\n",
    "self.dN_deta[:,3] = self.dN4_deta\n",
    "self.dN_deta[:,4] = self.dN5_deta\n",
    "self.dN_deta[:,5] = self.dN6_deta\n",
    "self.dN_deta[:,6] = self.dN7_deta\n",
    "self.dN_deta[:,7] = self.dN8_deta\n",
    "#------------------------------------\n",
    "# Calculate derivatives w.r.t. \\zeta.\n",
    "#------------------------------------\n",
    "self.dN1_dzeta = -(1/8)*(1 - self.xi)*(1 - self.eta)\n",
    "self.dN2_dzeta = -(1/8)*(1 + self.xi)*(1 - self.eta)\n",
    "self.dN3_dzeta = -(1/8)*(1 + self.xi)*(1 + self.eta)\n",
    "self.dN4_dzeta = -(1/8)*(1 - self.xi)*(1 + self.eta)\n",
    "self.dN5_dzeta = -self.dN1_dzeta\n",
    "self.dN6_dzeta = -self.dN2_dzeta\n",
    "self.dN7_dzeta = -self.dN3_dzeta\n",
    "self.dN8_dzeta = -self.dN4_dzeta\n",
    "\n",
    "self.dN_dzeta      = np.zeros((8,8), dtype=Parameters.float_dtype)\n",
    "self.dN_dzeta[:,0] = self.dN1_dzeta\n",
    "self.dN_dzeta[:,1] = self.dN2_dzeta\n",
    "self.dN_dzeta[:,2] = self.dN3_dzeta\n",
    "self.dN_dzeta[:,3] = self.dN4_dzeta\n",
    "self.dN_dzeta[:,4] = self.dN5_dzeta\n",
    "self.dN_dzeta[:,5] = self.dN6_dzeta\n",
    "self.dN_dzeta[:,6] = self.dN7_dzeta\n",
    "self.dN_dzeta[:,7] = self.dN8_dzeta\n",
    "#-------------------\n",
    "# Compute jacobians.\n",
    "#-------------------\n",
    "self.get_Jacobian(Parameters)\n",
    "```"
   ]
  },
  {
   "cell_type": "markdown",
   "metadata": {},
   "source": [
    "This section of the code calculates $\\dfrac{\\partial\\boldsymbol{X}}{\\partial\\boldsymbol{\\xi}} = J^e$ or $\\dfrac{\\partial X_I}{\\partial\\xi_b} = J^e_{Ib}$, $\\dfrac{\\partial\\boldsymbol{\\xi}}{\\partial\\mathbf{X}} = (J^e)^{-1}$ or $\\dfrac{\\partial\\xi_b}{\\partial X_I} = J^e_{bI}$ (mapping of gradient) and $j^e = \\det{J^e}$ (deformation mapping of element volume).\n",
    "\n",
    "The ellipses, `...`, are an indicator to `np.einsum` that we do not want it to perform a summation over that axes, which is the axes of the 8 Gauss points. The first line means of the function below means compute $\\dfrac{\\partial x}{\\partial\\xi} = \\dfrac{\\partial N_a}{\\partial\\xi}x$ for all 8 Gauss points. And similarly the second line means compute $\\dfrac{\\partial x}{\\partial\\eta} = \\dfrac{\\partial N_a}{\\partial\\eta}x$ for all 8 Gauss points."
   ]
  },
  {
   "cell_type": "markdown",
   "metadata": {},
   "source": [
    "```python\n",
    "def get_Jacobian(self, Parameters):\n",
    "    # Compute the element Jacobian.\n",
    "    self.dx_dxi   = np.einsum('...i, i -> ...', self.dN_dxi,   self.coordinates[:,0])\n",
    "    self.dx_deta  = np.einsum('...i, i -> ...', self.dN_deta,  self.coordinates[:,0])\n",
    "    self.dx_dzeta = np.einsum('...i, i -> ...', self.dN_dzeta, self.coordinates[:,0])\n",
    "\n",
    "    self.dy_dxi   = np.einsum('...i, i -> ...', self.dN_dxi,   self.coordinates[:,1])\n",
    "    self.dy_deta  = np.einsum('...i, i -> ...', self.dN_deta,  self.coordinates[:,1])\n",
    "    self.dy_dzeta = np.einsum('...i, i -> ...', self.dN_dzeta, self.coordinates[:,1])\n",
    "\n",
    "    self.dz_dxi   = np.einsum('...i, i -> ...', self.dN_dxi,   self.coordinates[:,2])\n",
    "    self.dz_deta  = np.einsum('...i, i -> ...', self.dN_deta,  self.coordinates[:,2])\n",
    "    self.dz_dzeta = np.einsum('...i, i -> ...', self.dN_dzeta, self.coordinates[:,2])\n",
    "\n",
    "    self.Je        = np.zeros((8,3,3), dtype=Parameters.float_dtype)\n",
    "    self.Je[:,0,0] = self.dx_dxi\n",
    "    self.Je[:,0,1] = self.dx_deta\n",
    "    self.Je[:,0,2] = self.dx_dzeta\n",
    "    self.Je[:,1,0] = self.dy_dxi\n",
    "    self.Je[:,1,1] = self.dy_deta\n",
    "    self.Je[:,1,2] = self.dy_dzeta\n",
    "    self.Je[:,2,0] = self.dz_dxi\n",
    "    self.Je[:,2,1] = self.dz_deta\n",
    "    self.Je[:,2,2] = self.dz_dzeta\n",
    "\n",
    "    self.j     = np.zeros(8, dtype=Parameters.float_dtype)\n",
    "    self.Jeinv = np.zeros((8,3,3), dtype=Parameters.float_dtype)\n",
    "\n",
    "    for i in range(8):\n",
    "        self.j[i]          = np.linalg.det(self.Je[i,:,:])\n",
    "        self.Jeinv[i,:,:,] = np.linalg.inv(self.Je[i,:,:])\n",
    "\n",
    "    return\n",
    "```"
   ]
  },
  {
   "cell_type": "markdown",
   "metadata": {},
   "source": [
    "Now that we have the gradient mapping, we can construct the strain displacement matrix as follows, where the first few lines are the operation $\\dfrac{\\partial\\mathbf{N}_a^u}{\\partial\\boldsymbol{\\xi}}\\dfrac{\\partial\\boldsymbol{\\xi}}{\\partial\\mathbf{X}}$, or, $\\dfrac{\\partial N_a^u}{\\partial\\xi_b}\\dfrac{\\partial\\xi_b}{\\partial X_I} = \\dfrac{\\partial N_a^u}{\\partial X_I}$.\n",
    "\n",
    "Again, the ellipses tell `np.einsum` not to sum over the 8 Gauss points."
   ]
  },
  {
   "cell_type": "markdown",
   "metadata": {},
   "source": [
    "```python\n",
    "# Continued evaluate_Shape_Functions from above...\n",
    "#----------------------------------\n",
    "# Compute shape function gradients.\n",
    "#----------------------------------\n",
    "self.dN1_dx = np.einsum('...bI, ...b -> ...I', self.Jeinv, np.array([self.dN1_dxi, self.dN1_deta, self.dN1_dzeta]).T)\n",
    "self.dN2_dx = np.einsum('...bI, ...b -> ...I', self.Jeinv, np.array([self.dN2_dxi, self.dN2_deta, self.dN2_dzeta]).T)\n",
    "self.dN3_dx = np.einsum('...bI, ...b -> ...I', self.Jeinv, np.array([self.dN3_dxi, self.dN3_deta, self.dN3_dzeta]).T)\n",
    "self.dN4_dx = np.einsum('...bI, ...b -> ...I', self.Jeinv, np.array([self.dN4_dxi, self.dN4_deta, self.dN4_dzeta]).T)\n",
    "self.dN5_dx = np.einsum('...bI, ...b -> ...I', self.Jeinv, np.array([self.dN5_dxi, self.dN5_deta, self.dN5_dzeta]).T)\n",
    "self.dN6_dx = np.einsum('...bI, ...b -> ...I', self.Jeinv, np.array([self.dN6_dxi, self.dN6_deta, self.dN6_dzeta]).T)\n",
    "self.dN7_dx = np.einsum('...bI, ...b -> ...I', self.Jeinv, np.array([self.dN7_dxi, self.dN7_deta, self.dN7_dzeta]).T)\n",
    "self.dN8_dx = np.einsum('...bI, ...b -> ...I', self.Jeinv, np.array([self.dN8_dxi, self.dN8_deta, self.dN8_dzeta]).T)\n",
    "#--------------------------------------\n",
    "# Construct strain-displacement matrix.\n",
    "#--------------------------------------\n",
    "self.Bu = np.zeros((8, 9, 24), dtype=Parameters.float_dtype)\n",
    "# These for-loops just stagger where the gradients are put in the rows of Bu.\n",
    "# Refer to MATLAB code which allows array definition with better visualization\n",
    "# than Python.\n",
    "for i in range(3):\n",
    "    self.Bu[:, i, 0]  = self.dN1_dx[:,i]\n",
    "    self.Bu[:, i, 3]  = self.dN2_dx[:,i]\n",
    "    self.Bu[:, i, 6]  = self.dN3_dx[:,i]\n",
    "    self.Bu[:, i, 9]  = self.dN4_dx[:,i]\n",
    "    self.Bu[:, i, 12] = self.dN5_dx[:,i]\n",
    "    self.Bu[:, i, 15] = self.dN6_dx[:,i]\n",
    "    self.Bu[:, i, 18] = self.dN7_dx[:,i]\n",
    "    self.Bu[:, i, 21] = self.dN8_dx[:,i]\n",
    "\n",
    "for i in range(3,6):\n",
    "    self.Bu[:, i, 1]  = self.dN1_dx[:,i-3]\n",
    "    self.Bu[:, i, 4]  = self.dN2_dx[:,i-3]\n",
    "    self.Bu[:, i, 7]  = self.dN3_dx[:,i-3]\n",
    "    self.Bu[:, i, 10] = self.dN4_dx[:,i-3]\n",
    "    self.Bu[:, i, 13] = self.dN5_dx[:,i-3]\n",
    "    self.Bu[:, i, 16] = self.dN6_dx[:,i-3]\n",
    "    self.Bu[:, i, 19] = self.dN7_dx[:,i-3]\n",
    "    self.Bu[:, i, 22] = self.dN8_dx[:,i-3]\n",
    "\n",
    "for i in range(6,9):\n",
    "    self.Bu[:, i, 2]  = self.dN1_dx[:,i-6]\n",
    "    self.Bu[:, i, 5]  = self.dN2_dx[:,i-6]\n",
    "    self.Bu[:, i, 8]  = self.dN3_dx[:,i-6]\n",
    "    self.Bu[:, i, 11] = self.dN4_dx[:,i-6]\n",
    "    self.Bu[:, i, 14] = self.dN5_dx[:,i-6]\n",
    "    self.Bu[:, i, 17] = self.dN6_dx[:,i-6]\n",
    "    self.Bu[:, i, 20] = self.dN7_dx[:,i-6]\n",
    "    self.Bu[:, i, 23] = self.dN8_dx[:,i-6]\n",
    "\n",
    "return\n",
    "```"
   ]
  },
  {
   "cell_type": "markdown",
   "metadata": {},
   "source": [
    "Now that we have our interpolation functions, we can compute the local strains and stresses, e.g.,\n",
    "\n",
    "(`@register_method` is a wrapper function that allows us to access object methods from other files so that we do not have to define all of the class methods in one file; these methods are defined in `_ElementVariables.py` and not in `classElement.py`)"
   ]
  },
  {
   "cell_type": "markdown",
   "metadata": {},
   "source": [
    "```python\n",
    "@register_method\n",
    "def get_dudX(self, Parameters):\n",
    "    # Compute solid displacement gradient.\n",
    "    self.dudX = np.einsum('...ij, j -> ...i', self.Bu, self.u_global, dtype=Parameters.float_dtype)\n",
    "    return\n",
    "    \n",
    "@register_method\n",
    "def get_F(self, Parameters):\n",
    "    # Compute deformation gradient.\n",
    "    #----------------------------------------------------\n",
    "    # Reshape the identity matrix for all 8 Gauss points.\n",
    "    #----------------------------------------------------\n",
    "    self.identity = np.zeros((8,3,3), dtype=Parameters.float_dtype)\n",
    "    np.einsum('ijj -> ij', self.identity)[:] = 1\n",
    "    #-------------------------------------------------------\n",
    "    # Create the 3x3 deformation matrix from the 9x1 vector.\n",
    "    #-------------------------------------------------------\n",
    "    self.dudX_mat = np.zeros((8,3,3), dtype=Parameters.float_dtype)\n",
    "    for i in range(9):\n",
    "        if i == 0:\n",
    "            alpha = 0\n",
    "            beta  = 0\n",
    "        elif i == 1:\n",
    "            alpha = 0\n",
    "            beta  = 1\n",
    "        elif i == 2:\n",
    "            alpha = 0\n",
    "            beta  = 2\n",
    "        elif i == 3:\n",
    "            alpha = 1\n",
    "            beta  = 0\n",
    "        elif i == 4:\n",
    "            alpha = 1\n",
    "            beta  = 1\n",
    "        elif i == 5:\n",
    "            alpha = 1\n",
    "            beta  = 2\n",
    "        elif i == 6:\n",
    "            alpha = 2\n",
    "            beta  = 0\n",
    "        elif i == 7:\n",
    "            alpha = 2\n",
    "            beta  = 1\n",
    "        elif i == 8:\n",
    "            alpha = 2\n",
    "            beta  = 2\n",
    "        self.dudX_mat[:,alpha,beta] = self.dudX[:,i]\n",
    "\n",
    "    self.F = self.identity + self.dudX_mat\n",
    "    return\n",
    "\n",
    "@register_method\n",
    "def get_F_inv(self):\n",
    "    # Compute inverse of deformation gradient.\n",
    "    self.F_inv = np.linalg.inv(self.F)\n",
    "    return\n",
    "\n",
    "@register_method\n",
    "def get_J(self):\n",
    "    # Compute Jacobian of deformation.\n",
    "    self.J = np.linalg.det(self.F)\n",
    "    return\n",
    "\n",
    "@register_method\n",
    "def get_C(self, Parameters):\n",
    "    # Compute right Cauchy-Green tensor.\n",
    "    self.C = np.einsum('...iI, ...iJ -> ...IJ', self.F, self.F, dtype=Parameters.float_dtype)\n",
    "    return\n",
    "\n",
    "@register_method\n",
    "def get_C_inv(self):\n",
    "    # Compute inverse of right Cauchy-Green tensor.\n",
    "    self.C_inv = np.linalg.inv(self.C)\n",
    "    return\n",
    "\n",
    "@register_method\n",
    "def get_SPK(self, Parameters):\n",
    "    # Compute second Piola-Kirchoff stress tensor.\n",
    "    self.SPK = Parameters.mu*self.identity + np.einsum('..., ...IJ -> ...IJ',\\\n",
    "                                                        Parameters.lambd*np.log(self.J) - Parameters.mu,\\\n",
    "                                                        self.C_inv, dtype=Parameters.float_dtype)\n",
    "    return\n",
    "\n",
    "@register_method\n",
    "def get_FPK(self, Parameters):\n",
    "    # Compute first Piola-Kirchoff stress tensor.\n",
    "    self.FPK = np.einsum('...iI, ...IJ -> ...iI', self.F, self.SPK, dtype=Parameters.float_dtype)\n",
    "    return\n",
    "```"
   ]
  },
  {
   "cell_type": "markdown",
   "metadata": {},
   "source": [
    "Below are the internal and external force vectors $\\mathcal{G}_1^{\\text{INT},h^e}$, $\\mathcal{G}_2^{\\text{INT},h^e}$ and $\\mathcal{G}^{\\text{EXT},h^e}$. Here there is an explicit summation over the axis that represents the 8 Gauss points, i.e., a sum over the Gauss point index $k$."
   ]
  },
  {
   "cell_type": "markdown",
   "metadata": {},
   "source": [
    "$\\underbrace{\\mathcal{G}_1^{\\text{INT},h^e}}_{24\\times 1} = \\int\\limits_{B_0^e}\\underbrace{\\mathbf{B}^{e^T}}_{24\\times 9}\\underbrace{\\mathbf{P}^{h^e}}_{9\\times 1}dV$\n",
    "\n",
    "where $\\mathbf{P}^{h^e}$ is expressed in Voigt notation $\\underbrace{P_\\alpha^{h^e}}_{9\\times 1}$ from $\\underbrace{P_{iI}^{h^e}}_{3\\times 3}$ (remember Python is 0-based indexing, so 00 means 11 if we were to translate to handwritten matrix notation, and similarly 02 means 13)."
   ]
  },
  {
   "cell_type": "markdown",
   "metadata": {},
   "source": [
    "```python\n",
    "@register_method\n",
    "def get_G1(self, Parameters):\n",
    "    # Compute G_1^INT.\n",
    "    self.FPK_voigt = np.zeros((8,9), dtype=Parameters.float_dtype)\n",
    "    for alpha in range(9):\n",
    "        if alpha == 0:\n",
    "            i = 0\n",
    "            I = 0\n",
    "        elif alpha == 1:\n",
    "            i = 0\n",
    "            I = 1\n",
    "        elif alpha == 2:\n",
    "            i = 0\n",
    "            I = 2\n",
    "        elif alpha == 3:\n",
    "            i = 1\n",
    "            I = 0\n",
    "        elif alpha == 4:\n",
    "            i = 1\n",
    "            I = 1\n",
    "        elif alpha == 5:\n",
    "            i = 1\n",
    "            I = 2\n",
    "        elif alpha == 6:\n",
    "            i = 2\n",
    "            I = 0\n",
    "        elif alpha == 7:\n",
    "            i = 2\n",
    "            I = 1\n",
    "        elif alpha == 8:\n",
    "            i = 2\n",
    "            I = 2\n",
    "        self.FPK_voigt[:,alpha] = self.FPK[:,i,I]\n",
    "\n",
    "    self.G_1 = np.einsum('kij, ki, k -> j', self.Bu, self.FPK_voigt, self.weights*self.j)\n",
    "    return\n",
    "```"
   ]
  },
  {
   "cell_type": "markdown",
   "metadata": {},
   "source": [
    "$\\underbrace{\\mathcal{G}_2^{\\text{INT},h^e}}_{24\\times 1} = -\\int\\limits_{B_0^e}\\cdot\\underbrace{\\mathbf{N}^{e^T}}_{24\\times 3}\\underbrace{\\rho\\mathbf{g}}_{3\\times 1}dV$"
   ]
  },
  {
   "cell_type": "markdown",
   "metadata": {},
   "source": [
    "```python\n",
    "@register_method\n",
    "def get_G2(self, Parameters):\n",
    "    # Compute G_2^INT.\n",
    "    self.grav_body       = np.zeros((8,3), dtype=Parameters.float_dtype)\n",
    "    self.grav_body[:,2]  = -Parameters.grav\n",
    "    \n",
    "    self.G_2 = np.einsum('kij, ki, k -> j', -self.Nu, self.rho_0*self.grav_body, self.weights*self.j)\n",
    "    return\n",
    "```"
   ]
  },
  {
   "cell_type": "markdown",
   "metadata": {},
   "source": [
    "$\\underbrace{\\mathcal{G}^{\\text{EXT},h^e}}_{24\\times 1} = \\int\\limits_{\\Gamma_0^e}\\underbrace{\\mathbf{N}^{e^T}}_{24\\times 3}\\underbrace{\\mathbf{t}^\\sigma}_{3\\times 1}dA$"
   ]
  },
  {
   "cell_type": "markdown",
   "metadata": {},
   "source": [
    "```python\n",
    "@register_method\n",
    "def get_GEXT(self, Parameters):\n",
    "    # Compute G^EXT (for topmost element only).\n",
    "    if self.ID == (Parameters.numEl - 1) and Parameters.tractionProblem:\n",
    "        self.traction      = np.zeros((4,3), dtype=Parameters.float_dtype)\n",
    "        self.traction[:,2] = -Parameters.traction\n",
    "    \n",
    "        self.evaluate_Shape_Functions_2D(Parameters)\n",
    "        self.G_EXT = np.einsum('kij, ki, k -> j', self.Nu_2D, self.traction, self.weights[4:8]*self.j_2D)\n",
    "    else:\n",
    "        self.G_EXT = np.zeros((24), dtype=Parameters.float_dtype)\n",
    "    return\n",
    "```"
   ]
  },
  {
   "cell_type": "markdown",
   "metadata": {},
   "source": [
    "Note in the last function that the traction can only be applied to the top element, and that we need to compute the interpolation related to the plane-element (the element boundary at the top surface). Thus in the below function, the shape functions are only evaluated for $\\zeta = 1$ and thus $N_1, N_2, N_3, N_4 = 0$."
   ]
  },
  {
   "cell_type": "markdown",
   "metadata": {},
   "source": [
    "```python\n",
    "def evaluate_Shape_Functions_2D(self, Parameters):\n",
    "    # Create a 2D planar element for traction boundary condition.\n",
    "    #---------\n",
    "    # Set N_a.\n",
    "    #---------\n",
    "    self.N5_2D = (1 - self.xi[4:8])*(1 - self.eta[4:8])/4\n",
    "    self.N6_2D = (1 + self.xi[4:8])*(1 - self.eta[4:8])/4\n",
    "    self.N7_2D = (1 + self.xi[4:8])*(1 + self.eta[4:8])/4\n",
    "    self.N8_2D = (1 - self.xi[4:8])*(1 + self.eta[4:8])/4\n",
    "    #-----------------------------\n",
    "    # Build shape function matrix.\n",
    "    #-----------------------------\n",
    "    self.Nu_2D = np.zeros((4, 3, 24), dtype=Parameters.float_dtype)\n",
    "    for i in range(3):\n",
    "        self.Nu_2D[:, i, 12 + i] = self.N5_2D\n",
    "        self.Nu_2D[:, i, 15 + i] = self.N6_2D\n",
    "        self.Nu_2D[:, i, 18 + i] = self.N7_2D\n",
    "        self.Nu_2D[:, i, 21 + i] = self.N8_2D\n",
    "    #----------------------------------\n",
    "    # Calculate derivatives w.r.t. \\xi.\n",
    "    #----------------------------------\n",
    "    self.dN5_dxi_2D = -(1/4)*(1 - self.eta[4:8])\n",
    "    self.dN6_dxi_2D = -self.dN5_dxi_2D\n",
    "    self.dN7_dxi_2D = (1/4)*(1 + self.eta[4:8])\n",
    "    self.dN8_dxi_2D = -self.dN7_dxi_2D\n",
    "\n",
    "    self.dN_dxi_2D      = np.zeros((4,4), dtype=Parameters.float_dtype)\n",
    "    self.dN_dxi_2D[:,0] = self.dN5_dxi_2D\n",
    "    self.dN_dxi_2D[:,1] = self.dN6_dxi_2D\n",
    "    self.dN_dxi_2D[:,2] = self.dN7_dxi_2D\n",
    "    self.dN_dxi_2D[:,3] = self.dN8_dxi_2D\n",
    "    #-----------------------------------\n",
    "    # Calculate derivatives w.r.t. \\eta.\n",
    "    #-----------------------------------\n",
    "    self.dN5_deta_2D = -(1/4)*(1 - self.xi[4:8])\n",
    "    self.dN6_deta_2D = -(1/4)*(1 + self.xi[4:8])\n",
    "    self.dN7_deta_2D = -self.dN6_deta_2D\n",
    "    self.dN8_deta_2D = -self.dN5_deta_2D\n",
    "\n",
    "    self.dN_deta_2D      = np.zeros((4,4), dtype=Parameters.float_dtype)\n",
    "    self.dN_deta_2D[:,0] = self.dN5_deta_2D\n",
    "    self.dN_deta_2D[:,1] = self.dN6_deta_2D\n",
    "    self.dN_deta_2D[:,2] = self.dN7_deta_2D\n",
    "    self.dN_deta_2D[:,3] = self.dN8_deta_2D\n",
    "    #------------------------\n",
    "    # Calculate the jacobian.\n",
    "    #------------------------\n",
    "    self.get_Jacobian_2D(Parameters)\n",
    "\n",
    "    return\n",
    "\n",
    "def get_Jacobian_2D(self, Parameters):\n",
    "    # Compute the 2D element Jacobian.\n",
    "    self.dx_dxi_2D  = np.einsum('...i, i -> ...', self.dN_dxi_2D,   self.coordinates[4:8,0])\n",
    "    self.dx_deta_2D = np.einsum('...i, i -> ...', self.dN_deta_2D,  self.coordinates[4:8,0])\n",
    "\n",
    "    self.dy_dxi_2D  = np.einsum('...i, i -> ...', self.dN_dxi_2D,   self.coordinates[4:8,1])\n",
    "    self.dy_deta_2D = np.einsum('...i, i -> ...', self.dN_deta_2D,  self.coordinates[4:8,1])\n",
    "\n",
    "    self.Je_2D        = np.zeros((4,2,2), dtype=Parameters.float_dtype)\n",
    "    self.Je_2D[:,0,0] = self.dx_dxi_2D\n",
    "    self.Je_2D[:,0,1] = self.dx_deta_2D\n",
    "    self.Je_2D[:,1,0] = self.dy_dxi_2D\n",
    "    self.Je_2D[:,1,1] = self.dy_deta_2D\n",
    "\n",
    "    self.j_2D = np.zeros(4, dtype=Parameters.float_dtype)\n",
    "\n",
    "    for i in range(4):\n",
    "        self.j_2D[i] = np.linalg.det(self.Je_2D[i,:,:])\n",
    "\n",
    "    return\n",
    "```"
   ]
  },
  {
   "cell_type": "markdown",
   "metadata": {},
   "source": [
    "We also need the consistent tangent $\\mathcal{G}_{u,u}^{h^e}$, defined below.\n",
    "\n",
    "$$\n",
    "\\delta\\mathcal{G}^{h^e}_1 = \\int\\limits_{B_0^e}\\Bigg[\\frac{\\partial w_i^{h^e}}{\\partial X_I}\\Bigg]\\Bigg[\\frac{\\partial P_{iI}}{\\partial F_{aA}}\\Bigg]^{h^e}\\Bigg[\\frac{\\partial(\\delta u_a^{h^e})}{\\partial X_A}\\Bigg]dV\n",
    "$$\n",
    "\n",
    "Note the indices matching with the mathematical formulation,\n",
    "\n",
    "$$\n",
    "\\dfrac{\\partial P_{iI}}{\\partial F_{aA}} = \\delta_{ai}S_{AI} + \\lambda F_{Aa}^{-1}F_{Ii}^{-1} - (\\lambda\\log(J) - \\mu)(F_{Ai}^{-1}F_{Ia}^{-1} + \\delta_{ai}C_{AI}^{-1})\n",
    "$$\n",
    "\n",
    "which is a 3x3x3x3 (or 8x3x3x3x3 in the code, for the 8 Gauss points). In order to correctly compute the tangent, we must transform this to a 9x9 (or 8x9x9 in the code, for the 8 Gauss points) using Voigt notation, i.e.,\n",
    "\n",
    "$$\n",
    "\\dfrac{\\partial P_{iI}}{\\partial F_{aA}} \\rightarrow D_{\\alpha,\\beta}\n",
    "$$ "
   ]
  },
  {
   "cell_type": "markdown",
   "metadata": {},
   "source": [
    "```python\n",
    "@register_method\n",
    "def get_G_uu_1(self, Parameters):\n",
    "    # Compute G_uu_1.\n",
    "    self.dPdF = np.einsum('...ai, ...AI -> ...iIaA', self.identity, self.SPK)\\\n",
    "                    + Parameters.lambd*np.einsum('...Aa, ...Ii -> ...iIaA', self.F_inv, self.F_inv)\\\n",
    "                    - np.einsum('..., ...iIaA -> ...iIaA', Parameters.lambd*np.log(self.J) - Parameters.mu,\\\n",
    "                                (np.einsum('...Ai, ...Ia -> ...iIaA', self.F_inv, self.F_inv)\\\n",
    "                                + np.einsum('...ai, ...AI -> ...iIaA', self.identity, self.C_inv)))\n",
    "\n",
    "    self.dPdF_voigt = np.zeros((8,9,9), dtype=Parameters.float_dtype)\n",
    "    for alpha in range(9):\n",
    "        if alpha == 0:\n",
    "            i = 0\n",
    "            I = 0\n",
    "        elif alpha == 1:\n",
    "            i = 0\n",
    "            I = 1\n",
    "        elif alpha == 2:\n",
    "            i = 0\n",
    "            I = 2\n",
    "        elif alpha == 3:\n",
    "            i = 1\n",
    "            I = 0\n",
    "        elif alpha == 4:\n",
    "            i = 1\n",
    "            I = 1\n",
    "        elif alpha == 5:\n",
    "            i = 1\n",
    "            I = 2\n",
    "        elif alpha == 6:\n",
    "            i = 2\n",
    "            I = 0\n",
    "        elif alpha == 7:\n",
    "            i = 2\n",
    "            I = 1\n",
    "        elif alpha == 8:\n",
    "            i = 2\n",
    "            I = 2\n",
    "        for beta in range(9):\n",
    "            if beta == 0:\n",
    "                a = 0\n",
    "                A = 0\n",
    "            elif beta == 1:\n",
    "                a = 0\n",
    "                A = 1\n",
    "            elif beta == 2:\n",
    "                a = 0\n",
    "                A = 2\n",
    "            elif beta == 3:\n",
    "                a = 1\n",
    "                A = 0\n",
    "            elif beta == 4:\n",
    "                a = 1\n",
    "                A = 1\n",
    "            elif beta == 5:\n",
    "                a = 1\n",
    "                A = 2\n",
    "            elif beta == 6:\n",
    "                a = 2\n",
    "                A = 0\n",
    "            elif beta == 7:\n",
    "                a = 2\n",
    "                A = 1\n",
    "            elif beta == 8:\n",
    "                a = 2\n",
    "                A = 2\n",
    "\n",
    "            self.dPdF_voigt[:,alpha,beta] = self.dPdF[:,i,I,a,A]\n",
    "\n",
    "    self.G_uu_1 = np.einsum('kiI, kij, kjJ, k -> IJ', self.Bu, self.dPdF_voigt, self.Bu, self.weights*self.j)\n",
    "    return\n",
    "```"
   ]
  },
  {
   "cell_type": "code",
   "execution_count": null,
   "metadata": {},
   "outputs": [],
   "source": []
  }
 ],
 "metadata": {
  "kernelspec": {
   "display_name": "Python 3",
   "language": "python",
   "name": "python3"
  },
  "language_info": {
   "codemirror_mode": {
    "name": "ipython",
    "version": 3
   },
   "file_extension": ".py",
   "mimetype": "text/x-python",
   "name": "python",
   "nbconvert_exporter": "python",
   "pygments_lexer": "ipython3",
   "version": "3.8.10"
  }
 },
 "nbformat": 4,
 "nbformat_minor": 4
}
