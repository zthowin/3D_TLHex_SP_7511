{
 "cells": [
  {
   "cell_type": "markdown",
   "metadata": {},
   "source": [
    "*This notebook was written by Zachariah Irwin (zachariah.irwin@colorado.edu) of University of Colorado Boulder on October 10, 2022 and last edited on October 11, 2022; please contact for questions on this Python code.*"
   ]
  },
  {
   "cell_type": "markdown",
   "metadata": {},
   "source": [
    "# Introduction\n",
    "The code below demonstrates a 3-D uniaxial strain problem using simple displacement or traction boundary conditions. The location matrix, or element connectivity matrix, is hard-coded for two trilinear hexahedral finite elements (FE), and the application of boundary conditions is similarly inflexible."
   ]
  },
  {
   "cell_type": "markdown",
   "metadata": {},
   "source": [
    "## A primer on `np.einsum`\n",
    "This code makes heavy use of NumPy's `einsum` function. The advantage to using this function is (i) readability (we can use index notation from our notes) and (ii) performance (the developers have used highly optimized C code that Python can call \"under the hood\"). Full documentation can be found at https://numpy.org/doc/stable/reference/generated/numpy.einsum.html.\n",
    "\n",
    "### What is `einsum`?\n",
    "\n",
    "> Using the Einstein summation convention, many common multi-dimensional, linear algebraic array operations can be represented in a simple fashion. In implicit mode einsum computes these values.\n",
    "> In explicit mode, einsum provides further flexibility to compute other array operations that might not be considered classical Einstein summation operations, by disabling, or forcing summation over specified subscript labels.\n",
    "\n",
    "\n",
    "We will use the *explicit* mode, denoted by the use of `->`, so that the operations are clear.\n",
    "\n",
    "### Why do we want to use it?\n",
    "\n",
    "In addition to performance and readability, we will see that the tensor algebra from our handwritten notes will translate very simply to the code.\n",
    "\n",
    "### Examples\n",
    "Below, we will look at how to compute various tensor algebra operations using a combination of for-loops (extremely slow in compile-time languages, such as Python, vs. pre-compiled languages, such as Fortran, C, etc.), built-in NumPy functions, and `einsum`. We will show that the various computations give the same result, and we will compare the performance of the different computations using the iPython `timeit` module."
   ]
  },
  {
   "cell_type": "code",
   "execution_count": 1,
   "metadata": {},
   "outputs": [],
   "source": [
    "import numpy as np"
   ]
  },
  {
   "cell_type": "code",
   "execution_count": 2,
   "metadata": {},
   "outputs": [],
   "source": [
    "np.set_printoptions(precision=5)"
   ]
  },
  {
   "cell_type": "code",
   "execution_count": 3,
   "metadata": {},
   "outputs": [],
   "source": [
    "array_1 = np.random.randn(3,3)"
   ]
  },
  {
   "cell_type": "code",
   "execution_count": 4,
   "metadata": {},
   "outputs": [
    {
     "name": "stdout",
     "output_type": "stream",
     "text": [
      "[[-0.3414  -0.98348  0.06343]\n",
      " [ 0.20545  0.8157  -0.32273]\n",
      " [ 0.31175  0.24297  0.4079 ]]\n"
     ]
    }
   ],
   "source": [
    "print(array_1)"
   ]
  },
  {
   "cell_type": "markdown",
   "metadata": {},
   "source": [
    "#### Trace\n",
    "First, take the trace of this array, i.e., $A_{ii}$:"
   ]
  },
  {
   "cell_type": "code",
   "execution_count": 5,
   "metadata": {},
   "outputs": [],
   "source": [
    "def loop_trace(arr):\n",
    "    trace = 0\n",
    "    for i in range(arr.shape[0]):\n",
    "        trace += arr[i,i]\n",
    "    return trace"
   ]
  },
  {
   "cell_type": "code",
   "execution_count": 6,
   "metadata": {},
   "outputs": [],
   "source": [
    "def numpy_trace(arr):\n",
    "    return np.trace(arr)"
   ]
  },
  {
   "cell_type": "code",
   "execution_count": 7,
   "metadata": {},
   "outputs": [],
   "source": [
    "def einsum_trace(arr):\n",
    "    return np.einsum('ii', arr)"
   ]
  },
  {
   "cell_type": "code",
   "execution_count": 8,
   "metadata": {},
   "outputs": [
    {
     "ename": "KeyboardInterrupt",
     "evalue": "",
     "output_type": "error",
     "traceback": [
      "\u001b[0;31m---------------------------------------------------------------------------\u001b[0m",
      "\u001b[0;31mKeyboardInterrupt\u001b[0m                         Traceback (most recent call last)",
      "\u001b[0;32m<ipython-input-8-8443133b7322>\u001b[0m in \u001b[0;36m<module>\u001b[0;34m\u001b[0m\n\u001b[0;32m----> 1\u001b[0;31m \u001b[0mget_ipython\u001b[0m\u001b[0;34m(\u001b[0m\u001b[0;34m)\u001b[0m\u001b[0;34m.\u001b[0m\u001b[0mrun_line_magic\u001b[0m\u001b[0;34m(\u001b[0m\u001b[0;34m'timeit'\u001b[0m\u001b[0;34m,\u001b[0m \u001b[0;34m'loop_trace(array_1)'\u001b[0m\u001b[0;34m)\u001b[0m\u001b[0;34m\u001b[0m\u001b[0;34m\u001b[0m\u001b[0m\n\u001b[0m\u001b[1;32m      2\u001b[0m \u001b[0mget_ipython\u001b[0m\u001b[0;34m(\u001b[0m\u001b[0;34m)\u001b[0m\u001b[0;34m.\u001b[0m\u001b[0mrun_line_magic\u001b[0m\u001b[0;34m(\u001b[0m\u001b[0;34m'timeit'\u001b[0m\u001b[0;34m,\u001b[0m \u001b[0;34m'numpy_trace(array_1)'\u001b[0m\u001b[0;34m)\u001b[0m\u001b[0;34m\u001b[0m\u001b[0;34m\u001b[0m\u001b[0m\n\u001b[1;32m      3\u001b[0m \u001b[0mget_ipython\u001b[0m\u001b[0;34m(\u001b[0m\u001b[0;34m)\u001b[0m\u001b[0;34m.\u001b[0m\u001b[0mrun_line_magic\u001b[0m\u001b[0;34m(\u001b[0m\u001b[0;34m'timeit'\u001b[0m\u001b[0;34m,\u001b[0m \u001b[0;34m'einsum_trace(array_1)'\u001b[0m\u001b[0;34m)\u001b[0m\u001b[0;34m\u001b[0m\u001b[0;34m\u001b[0m\u001b[0m\n",
      "\u001b[0;32m~/.local/lib/python3.8/site-packages/IPython/core/interactiveshell.py\u001b[0m in \u001b[0;36mrun_line_magic\u001b[0;34m(self, magic_name, line, _stack_depth)\u001b[0m\n\u001b[1;32m   2325\u001b[0m                 \u001b[0mkwargs\u001b[0m\u001b[0;34m[\u001b[0m\u001b[0;34m'local_ns'\u001b[0m\u001b[0;34m]\u001b[0m \u001b[0;34m=\u001b[0m \u001b[0mself\u001b[0m\u001b[0;34m.\u001b[0m\u001b[0mget_local_scope\u001b[0m\u001b[0;34m(\u001b[0m\u001b[0mstack_depth\u001b[0m\u001b[0;34m)\u001b[0m\u001b[0;34m\u001b[0m\u001b[0;34m\u001b[0m\u001b[0m\n\u001b[1;32m   2326\u001b[0m             \u001b[0;32mwith\u001b[0m \u001b[0mself\u001b[0m\u001b[0;34m.\u001b[0m\u001b[0mbuiltin_trap\u001b[0m\u001b[0;34m:\u001b[0m\u001b[0;34m\u001b[0m\u001b[0;34m\u001b[0m\u001b[0m\n\u001b[0;32m-> 2327\u001b[0;31m                 \u001b[0mresult\u001b[0m \u001b[0;34m=\u001b[0m \u001b[0mfn\u001b[0m\u001b[0;34m(\u001b[0m\u001b[0;34m*\u001b[0m\u001b[0margs\u001b[0m\u001b[0;34m,\u001b[0m \u001b[0;34m**\u001b[0m\u001b[0mkwargs\u001b[0m\u001b[0;34m)\u001b[0m\u001b[0;34m\u001b[0m\u001b[0;34m\u001b[0m\u001b[0m\n\u001b[0m\u001b[1;32m   2328\u001b[0m             \u001b[0;32mreturn\u001b[0m \u001b[0mresult\u001b[0m\u001b[0;34m\u001b[0m\u001b[0;34m\u001b[0m\u001b[0m\n\u001b[1;32m   2329\u001b[0m \u001b[0;34m\u001b[0m\u001b[0m\n",
      "\u001b[0;32m<decorator-gen-60>\u001b[0m in \u001b[0;36mtimeit\u001b[0;34m(self, line, cell, local_ns)\u001b[0m\n",
      "\u001b[0;32m~/.local/lib/python3.8/site-packages/IPython/core/magic.py\u001b[0m in \u001b[0;36m<lambda>\u001b[0;34m(f, *a, **k)\u001b[0m\n\u001b[1;32m    185\u001b[0m     \u001b[0;31m# but it's overkill for just that one bit of state.\u001b[0m\u001b[0;34m\u001b[0m\u001b[0;34m\u001b[0m\u001b[0;34m\u001b[0m\u001b[0m\n\u001b[1;32m    186\u001b[0m     \u001b[0;32mdef\u001b[0m \u001b[0mmagic_deco\u001b[0m\u001b[0;34m(\u001b[0m\u001b[0marg\u001b[0m\u001b[0;34m)\u001b[0m\u001b[0;34m:\u001b[0m\u001b[0;34m\u001b[0m\u001b[0;34m\u001b[0m\u001b[0m\n\u001b[0;32m--> 187\u001b[0;31m         \u001b[0mcall\u001b[0m \u001b[0;34m=\u001b[0m \u001b[0;32mlambda\u001b[0m \u001b[0mf\u001b[0m\u001b[0;34m,\u001b[0m \u001b[0;34m*\u001b[0m\u001b[0ma\u001b[0m\u001b[0;34m,\u001b[0m \u001b[0;34m**\u001b[0m\u001b[0mk\u001b[0m\u001b[0;34m:\u001b[0m \u001b[0mf\u001b[0m\u001b[0;34m(\u001b[0m\u001b[0;34m*\u001b[0m\u001b[0ma\u001b[0m\u001b[0;34m,\u001b[0m \u001b[0;34m**\u001b[0m\u001b[0mk\u001b[0m\u001b[0;34m)\u001b[0m\u001b[0;34m\u001b[0m\u001b[0;34m\u001b[0m\u001b[0m\n\u001b[0m\u001b[1;32m    188\u001b[0m \u001b[0;34m\u001b[0m\u001b[0m\n\u001b[1;32m    189\u001b[0m         \u001b[0;32mif\u001b[0m \u001b[0mcallable\u001b[0m\u001b[0;34m(\u001b[0m\u001b[0marg\u001b[0m\u001b[0;34m)\u001b[0m\u001b[0;34m:\u001b[0m\u001b[0;34m\u001b[0m\u001b[0;34m\u001b[0m\u001b[0m\n",
      "\u001b[0;32m~/.local/lib/python3.8/site-packages/IPython/core/magics/execution.py\u001b[0m in \u001b[0;36mtimeit\u001b[0;34m(self, line, cell, local_ns)\u001b[0m\n\u001b[1;32m   1171\u001b[0m                     \u001b[0;32mbreak\u001b[0m\u001b[0;34m\u001b[0m\u001b[0;34m\u001b[0m\u001b[0m\n\u001b[1;32m   1172\u001b[0m \u001b[0;34m\u001b[0m\u001b[0m\n\u001b[0;32m-> 1173\u001b[0;31m         \u001b[0mall_runs\u001b[0m \u001b[0;34m=\u001b[0m \u001b[0mtimer\u001b[0m\u001b[0;34m.\u001b[0m\u001b[0mrepeat\u001b[0m\u001b[0;34m(\u001b[0m\u001b[0mrepeat\u001b[0m\u001b[0;34m,\u001b[0m \u001b[0mnumber\u001b[0m\u001b[0;34m)\u001b[0m\u001b[0;34m\u001b[0m\u001b[0;34m\u001b[0m\u001b[0m\n\u001b[0m\u001b[1;32m   1174\u001b[0m         \u001b[0mbest\u001b[0m \u001b[0;34m=\u001b[0m \u001b[0mmin\u001b[0m\u001b[0;34m(\u001b[0m\u001b[0mall_runs\u001b[0m\u001b[0;34m)\u001b[0m \u001b[0;34m/\u001b[0m \u001b[0mnumber\u001b[0m\u001b[0;34m\u001b[0m\u001b[0;34m\u001b[0m\u001b[0m\n\u001b[1;32m   1175\u001b[0m         \u001b[0mworst\u001b[0m \u001b[0;34m=\u001b[0m \u001b[0mmax\u001b[0m\u001b[0;34m(\u001b[0m\u001b[0mall_runs\u001b[0m\u001b[0;34m)\u001b[0m \u001b[0;34m/\u001b[0m \u001b[0mnumber\u001b[0m\u001b[0;34m\u001b[0m\u001b[0;34m\u001b[0m\u001b[0m\n",
      "\u001b[0;32m/usr/lib/python3.8/timeit.py\u001b[0m in \u001b[0;36mrepeat\u001b[0;34m(self, repeat, number)\u001b[0m\n\u001b[1;32m    203\u001b[0m         \u001b[0mr\u001b[0m \u001b[0;34m=\u001b[0m \u001b[0;34m[\u001b[0m\u001b[0;34m]\u001b[0m\u001b[0;34m\u001b[0m\u001b[0;34m\u001b[0m\u001b[0m\n\u001b[1;32m    204\u001b[0m         \u001b[0;32mfor\u001b[0m \u001b[0mi\u001b[0m \u001b[0;32min\u001b[0m \u001b[0mrange\u001b[0m\u001b[0;34m(\u001b[0m\u001b[0mrepeat\u001b[0m\u001b[0;34m)\u001b[0m\u001b[0;34m:\u001b[0m\u001b[0;34m\u001b[0m\u001b[0;34m\u001b[0m\u001b[0m\n\u001b[0;32m--> 205\u001b[0;31m             \u001b[0mt\u001b[0m \u001b[0;34m=\u001b[0m \u001b[0mself\u001b[0m\u001b[0;34m.\u001b[0m\u001b[0mtimeit\u001b[0m\u001b[0;34m(\u001b[0m\u001b[0mnumber\u001b[0m\u001b[0;34m)\u001b[0m\u001b[0;34m\u001b[0m\u001b[0;34m\u001b[0m\u001b[0m\n\u001b[0m\u001b[1;32m    206\u001b[0m             \u001b[0mr\u001b[0m\u001b[0;34m.\u001b[0m\u001b[0mappend\u001b[0m\u001b[0;34m(\u001b[0m\u001b[0mt\u001b[0m\u001b[0;34m)\u001b[0m\u001b[0;34m\u001b[0m\u001b[0;34m\u001b[0m\u001b[0m\n\u001b[1;32m    207\u001b[0m         \u001b[0;32mreturn\u001b[0m \u001b[0mr\u001b[0m\u001b[0;34m\u001b[0m\u001b[0;34m\u001b[0m\u001b[0m\n",
      "\u001b[0;32m~/.local/lib/python3.8/site-packages/IPython/core/magics/execution.py\u001b[0m in \u001b[0;36mtimeit\u001b[0;34m(self, number)\u001b[0m\n\u001b[1;32m    167\u001b[0m         \u001b[0mgc\u001b[0m\u001b[0;34m.\u001b[0m\u001b[0mdisable\u001b[0m\u001b[0;34m(\u001b[0m\u001b[0;34m)\u001b[0m\u001b[0;34m\u001b[0m\u001b[0;34m\u001b[0m\u001b[0m\n\u001b[1;32m    168\u001b[0m         \u001b[0;32mtry\u001b[0m\u001b[0;34m:\u001b[0m\u001b[0;34m\u001b[0m\u001b[0;34m\u001b[0m\u001b[0m\n\u001b[0;32m--> 169\u001b[0;31m             \u001b[0mtiming\u001b[0m \u001b[0;34m=\u001b[0m \u001b[0mself\u001b[0m\u001b[0;34m.\u001b[0m\u001b[0minner\u001b[0m\u001b[0;34m(\u001b[0m\u001b[0mit\u001b[0m\u001b[0;34m,\u001b[0m \u001b[0mself\u001b[0m\u001b[0;34m.\u001b[0m\u001b[0mtimer\u001b[0m\u001b[0;34m)\u001b[0m\u001b[0;34m\u001b[0m\u001b[0;34m\u001b[0m\u001b[0m\n\u001b[0m\u001b[1;32m    170\u001b[0m         \u001b[0;32mfinally\u001b[0m\u001b[0;34m:\u001b[0m\u001b[0;34m\u001b[0m\u001b[0;34m\u001b[0m\u001b[0m\n\u001b[1;32m    171\u001b[0m             \u001b[0;32mif\u001b[0m \u001b[0mgcold\u001b[0m\u001b[0;34m:\u001b[0m\u001b[0;34m\u001b[0m\u001b[0;34m\u001b[0m\u001b[0m\n",
      "\u001b[0;32m<magic-timeit>\u001b[0m in \u001b[0;36minner\u001b[0;34m(_it, _timer)\u001b[0m\n",
      "\u001b[0;32m<ipython-input-5-69c58b4a3f41>\u001b[0m in \u001b[0;36mloop_trace\u001b[0;34m(arr)\u001b[0m\n\u001b[1;32m      2\u001b[0m     \u001b[0mtrace\u001b[0m \u001b[0;34m=\u001b[0m \u001b[0;36m0\u001b[0m\u001b[0;34m\u001b[0m\u001b[0;34m\u001b[0m\u001b[0m\n\u001b[1;32m      3\u001b[0m     \u001b[0;32mfor\u001b[0m \u001b[0mi\u001b[0m \u001b[0;32min\u001b[0m \u001b[0mrange\u001b[0m\u001b[0;34m(\u001b[0m\u001b[0marr\u001b[0m\u001b[0;34m.\u001b[0m\u001b[0mshape\u001b[0m\u001b[0;34m[\u001b[0m\u001b[0;36m0\u001b[0m\u001b[0;34m]\u001b[0m\u001b[0;34m)\u001b[0m\u001b[0;34m:\u001b[0m\u001b[0;34m\u001b[0m\u001b[0;34m\u001b[0m\u001b[0m\n\u001b[0;32m----> 4\u001b[0;31m         \u001b[0mtrace\u001b[0m \u001b[0;34m+=\u001b[0m \u001b[0marr\u001b[0m\u001b[0;34m[\u001b[0m\u001b[0mi\u001b[0m\u001b[0;34m,\u001b[0m\u001b[0mi\u001b[0m\u001b[0;34m]\u001b[0m\u001b[0;34m\u001b[0m\u001b[0;34m\u001b[0m\u001b[0m\n\u001b[0m\u001b[1;32m      5\u001b[0m     \u001b[0;32mreturn\u001b[0m \u001b[0mtrace\u001b[0m\u001b[0;34m\u001b[0m\u001b[0;34m\u001b[0m\u001b[0m\n",
      "\u001b[0;31mKeyboardInterrupt\u001b[0m: "
     ]
    }
   ],
   "source": [
    "%timeit loop_trace(array_1)\n",
    "%timeit numpy_trace(array_1)\n",
    "%timeit einsum_trace(array_1)"
   ]
  },
  {
   "cell_type": "code",
   "execution_count": null,
   "metadata": {},
   "outputs": [],
   "source": [
    "print(loop_trace(array_1) == numpy_trace(array_1))\n",
    "print(loop_trace(array_1) == einsum_trace(array_1))"
   ]
  },
  {
   "cell_type": "markdown",
   "metadata": {},
   "source": [
    "#### Outer product\n",
    "What about other operations, e.g., $\\mathbf{a}\\otimes\\mathbf{b} = \\mathbf{C}$ or $a_ib_j = C_{ij}$?"
   ]
  },
  {
   "cell_type": "code",
   "execution_count": null,
   "metadata": {},
   "outputs": [],
   "source": [
    "vec_1   = np.random.randn(3)\n",
    "vec_2   = np.random.randn(2)"
   ]
  },
  {
   "cell_type": "code",
   "execution_count": null,
   "metadata": {},
   "outputs": [],
   "source": [
    "def loop_outer(v1, v2):\n",
    "    outer = np.zeros((v1.shape[0], v2.shape[0]))\n",
    "    for i in range(v1.shape[0]):\n",
    "        for j in range(v2.shape[0]):\n",
    "            outer[i,j] = v1[i]*v2[j]\n",
    "    return outer"
   ]
  },
  {
   "cell_type": "code",
   "execution_count": null,
   "metadata": {},
   "outputs": [],
   "source": [
    "def numpy_outer(v1, v2):\n",
    "    return np.tensordot(v1, v2, axes=0)"
   ]
  },
  {
   "cell_type": "code",
   "execution_count": null,
   "metadata": {},
   "outputs": [],
   "source": [
    "def einsum_outer(v1, v2):\n",
    "    return np.einsum('i, j -> ij', v1, v2)"
   ]
  },
  {
   "cell_type": "code",
   "execution_count": null,
   "metadata": {},
   "outputs": [],
   "source": [
    "%timeit loop_outer(vec_1, vec_2)\n",
    "%timeit numpy_outer(vec_1, vec_2)\n",
    "%timeit einsum_outer(vec_1, vec_2)"
   ]
  },
  {
   "cell_type": "code",
   "execution_count": null,
   "metadata": {},
   "outputs": [],
   "source": [
    "print(loop_outer(vec_1, vec_2) == numpy_outer(vec_1, vec_2))\n",
    "print(loop_outer(vec_1, vec_2) == einsum_outer(vec_1, vec_2))"
   ]
  },
  {
   "cell_type": "markdown",
   "metadata": {},
   "source": [
    "#### Matrix-vector multiplication\n",
    "Next, do matrix-vector multiplication, e.g., $\\mathbf{A}\\mathbf{b} = \\mathbf{c}$ or $A_{ij}b_j = c_i$:"
   ]
  },
  {
   "cell_type": "code",
   "execution_count": null,
   "metadata": {},
   "outputs": [],
   "source": [
    "def loop_matvec(mat, vec):\n",
    "    vector = np.zeros((mat.shape[0]))\n",
    "    for i in range(mat.shape[0]):\n",
    "        for j in range(mat.shape[1]):\n",
    "            vector[i] += mat[i,j]*vec[j]\n",
    "    return vector"
   ]
  },
  {
   "cell_type": "code",
   "execution_count": null,
   "metadata": {},
   "outputs": [],
   "source": [
    "def numpy_matvec(mat, vec):\n",
    "    return mat@vec.T"
   ]
  },
  {
   "cell_type": "code",
   "execution_count": null,
   "metadata": {},
   "outputs": [],
   "source": [
    "def numpy_matvec_dot(mat, vec):\n",
    "    return np.dot(mat, vec)"
   ]
  },
  {
   "cell_type": "code",
   "execution_count": null,
   "metadata": {},
   "outputs": [],
   "source": [
    "def numpy_matvec_tensordot(mat, vec):\n",
    "    return np.tensordot(mat, vec, axes=1)"
   ]
  },
  {
   "cell_type": "code",
   "execution_count": null,
   "metadata": {},
   "outputs": [],
   "source": [
    "def einsum_matvec(mat, vec):\n",
    "    return np.einsum('ij, j -> i', mat, vec)"
   ]
  },
  {
   "cell_type": "code",
   "execution_count": null,
   "metadata": {},
   "outputs": [],
   "source": [
    "%timeit loop_matvec(array_1, vec_1)\n",
    "%timeit numpy_matvec(array_1, vec_1)\n",
    "%timeit numpy_matvec_dot(array_1, vec_1)\n",
    "%timeit numpy_matvec_tensordot(array_1, vec_1)\n",
    "%timeit einsum_matvec(array_1, vec_1)"
   ]
  },
  {
   "cell_type": "code",
   "execution_count": null,
   "metadata": {},
   "outputs": [],
   "source": [
    "print(loop_matvec(array_1, vec_1))\n",
    "print(numpy_matvec(array_1, vec_1))\n",
    "print(numpy_matvec_dot(array_1, vec_1))\n",
    "print(numpy_matvec_tensordot(array_1, vec_1))\n",
    "print(einsum_matvec(array_1, vec_1))"
   ]
  },
  {
   "cell_type": "markdown",
   "metadata": {},
   "source": [
    "#### Matrix-matrix multiplcation\n",
    "Next, do matrix-matrix multiplcation, e.g., $\\mathbf{A}\\mathbf{B} = \\mathbf{C}$ or $A_{ik}B_{kj} = C_{ij}$"
   ]
  },
  {
   "cell_type": "code",
   "execution_count": null,
   "metadata": {},
   "outputs": [],
   "source": [
    "def loop_matmat(mat1, mat2):\n",
    "    matrix = np.zeros((mat1.shape[0], mat2.shape[1]))\n",
    "    for i in range(mat1.shape[0]):\n",
    "        for j in range(mat2.shape[1]):\n",
    "            for k in range(mat1.shape[1]):\n",
    "                matrix[i,j] += mat1[i,k]*mat2[k,j]\n",
    "    return matrix"
   ]
  },
  {
   "cell_type": "code",
   "execution_count": null,
   "metadata": {},
   "outputs": [],
   "source": [
    "def numpy_matmat(mat1, mat2):\n",
    "    return mat1@mat2"
   ]
  },
  {
   "cell_type": "code",
   "execution_count": null,
   "metadata": {},
   "outputs": [],
   "source": [
    "def numpy_matmat_dot(mat1, mat2):\n",
    "    return np.dot(mat1, mat2)"
   ]
  },
  {
   "cell_type": "code",
   "execution_count": null,
   "metadata": {},
   "outputs": [],
   "source": [
    "def numpy_matmat_tensordot(mat1, mat2):\n",
    "    return np.tensordot(mat1, mat2, axes=1)"
   ]
  },
  {
   "cell_type": "code",
   "execution_count": null,
   "metadata": {},
   "outputs": [],
   "source": [
    "def einsum_matmat(mat1, mat2):\n",
    "    return np.einsum('ik, kj -> ij', mat1, mat2)"
   ]
  },
  {
   "cell_type": "code",
   "execution_count": null,
   "metadata": {},
   "outputs": [],
   "source": [
    "array_2 = np.random.randn(3,2)\n",
    "\n",
    "%timeit loop_matmat(array_1, array_2)\n",
    "%timeit numpy_matmat(array_1, array_2)\n",
    "%timeit numpy_matmat_dot(array_1, array_2)\n",
    "%timeit numpy_matmat_tensordot(array_1, array_2)\n",
    "%timeit einsum_matmat(array_1, array_2)"
   ]
  },
  {
   "cell_type": "code",
   "execution_count": null,
   "metadata": {},
   "outputs": [],
   "source": [
    "print(loop_matmat(array_1, array_2))\n",
    "print(numpy_matmat(array_1, array_2))\n",
    "print(numpy_matmat_dot(array_1, array_2))\n",
    "print(numpy_matmat_tensordot(array_1, array_2))\n",
    "print(einsum_matmat(array_1, array_2))"
   ]
  },
  {
   "cell_type": "markdown",
   "metadata": {},
   "source": [
    "#### Higher-order tensor algebra\n",
    "But what if we have much higher order tensors, e.g., 4th order? For example, Hooke's law states $\\mathbb{C}:\\boldsymbol{\\epsilon} = \\boldsymbol{\\sigma}$ or $C_{ijkl}\\epsilon_{kl} = \\sigma_{ij}$."
   ]
  },
  {
   "cell_type": "code",
   "execution_count": null,
   "metadata": {},
   "outputs": [],
   "source": [
    "fourth_order_tensor = np.random.randn(3,3,3,3)\n",
    "second_order_tensor = np.random.randn(3,3)"
   ]
  },
  {
   "cell_type": "code",
   "execution_count": null,
   "metadata": {},
   "outputs": [],
   "source": [
    "def loop_matmat_ho(mat1, mat2):\n",
    "    matrix = np.zeros((mat1.shape[0], mat1.shape[1]))\n",
    "    for i in range(mat1.shape[0]):\n",
    "        for j in range(mat1.shape[1]):\n",
    "            for k in range(mat1.shape[2]):\n",
    "                for l in range(mat1.shape[3]):\n",
    "                    matrix[i,j] += mat1[i,j,k,l]*mat2[k,l]\n",
    "    return matrix"
   ]
  },
  {
   "cell_type": "code",
   "execution_count": null,
   "metadata": {},
   "outputs": [],
   "source": [
    "def numpy_matmat_tensordot_ho(mat1, mat2):\n",
    "    return np.tensordot(mat1, mat2, axes=2)"
   ]
  },
  {
   "cell_type": "code",
   "execution_count": null,
   "metadata": {},
   "outputs": [],
   "source": [
    "def einsum_matmat_ho(mat1, mat2):\n",
    "    return np.einsum('ijkl, kl -> ij', mat1, mat2)"
   ]
  },
  {
   "cell_type": "code",
   "execution_count": null,
   "metadata": {
    "scrolled": true
   },
   "outputs": [],
   "source": [
    "%timeit loop_matmat_ho(fourth_order_tensor, second_order_tensor)\n",
    "%timeit numpy_matmat(fourth_order_tensor, second_order_tensor)\n",
    "%timeit numpy_matmat_dot(fourth_order_tensor, second_order_tensor)\n",
    "%timeit numpy_matmat_tensordot_ho(fourth_order_tensor, second_order_tensor)\n",
    "%timeit einsum_matmat_ho(fourth_order_tensor, second_order_tensor)"
   ]
  },
  {
   "cell_type": "code",
   "execution_count": null,
   "metadata": {},
   "outputs": [],
   "source": [
    "print(loop_matmat_ho(fourth_order_tensor, second_order_tensor))\n",
    "print(numpy_matmat(fourth_order_tensor, second_order_tensor))\n",
    "print(numpy_matmat_dot(fourth_order_tensor, second_order_tensor))\n",
    "print(numpy_matmat_tensordot_ho(fourth_order_tensor, second_order_tensor))\n",
    "print(einsum_matmat_ho(fourth_order_tensor, second_order_tensor))"
   ]
  },
  {
   "cell_type": "markdown",
   "metadata": {},
   "source": [
    "When we naively used the built-in functions and we got the wrong result. What if we try to catch this?"
   ]
  },
  {
   "cell_type": "code",
   "execution_count": null,
   "metadata": {},
   "outputs": [],
   "source": [
    "print(np.sum(numpy_matmat(fourth_order_tensor, second_order_tensor), axis=(2,3)))\n",
    "print(np.sum(numpy_matmat_dot(fourth_order_tensor, second_order_tensor), axis=(2,3)))"
   ]
  },
  {
   "cell_type": "markdown",
   "metadata": {},
   "source": [
    "Still wrong! This has to do with how those functions are programmed. From the documentation:\n",
    "    \n",
    "`@`: \"If either argument is N-D, N > 2, it is treated as a stack of matrices residing in the last two indexes and broadcast accordingly.\" https://numpy.org/doc/stable/reference/generated/numpy.matmul.html#numpy.matmul\n",
    "\n",
    "`dot`: \"If a is an N-D array and b is an M-D array (where M>=2), it is a sum product over the last axis of a and the second-to-last axis of b\" https://numpy.org/doc/stable/reference/generated/numpy.dot.html#numpy.dot\n",
    "\n",
    "This is why it is convenient to use `einsum`; not only is the notation clear and simple, but it is also faster than the brute-force for-loop and `tensordot`. (You could also do the re-shaping and broadcasting of arrays yourself using combinations of `.newaxis`, `.sum` and `@`, but this is not trivial to the average engineer!)"
   ]
  },
  {
   "cell_type": "markdown",
   "metadata": {},
   "source": [
    "# The 3-D hexahedral element\n",
    "The methodology of this Python code is to create an object that can be used to represent the finite element.\n",
    "\n",
    "For small problems, this won't really change the performance, but it does matter for larger problems. Defining the element as its own object also makes it easier for the user to parallelize computations on all of the elements (e.g., 100 element problem split up over 10 processors) since element computations are independent of one another.\n",
    "\n",
    "In addition, it makes readability (and debugging) a little easier.\n",
    "\n",
    "Note that there is no \"right\" way to construct an object-oriented code. It comes down to whatever you as the programmer think is the best design choice. What we will present is just an example of many different ways to write object-oriented finite element code!\n",
    "\n",
    "First, let us create the coordinates of one trilinear hexahedral element. Here we have a 0.01 x 0.01 x 0.05 meter column."
   ]
  },
  {
   "cell_type": "code",
   "execution_count": null,
   "metadata": {},
   "outputs": [],
   "source": [
    "numEl    = 1\n",
    "numGauss = 8\n",
    "numDim   = 3\n",
    "\n",
    "coordinates = np.zeros((numEl, numGauss, numDim))\n",
    "coordinates[0,:,:] = np.array([[0.0,  0.0,  0.0],\n",
    "                               [0.01, 0.0,  0.0],\n",
    "                               [0.01, 0.01, 0.0],\n",
    "                               [0.0,  0.01, 0.0],\n",
    "                               [0.0,  0.0,  0.05],\n",
    "                               [0.01, 0.0,  0.05],\n",
    "                               [0.01, 0.01, 0.05],\n",
    "                               [0.0,  0.01, 0.05]])"
   ]
  },
  {
   "cell_type": "markdown",
   "metadata": {},
   "source": [
    "With the coordinates, we can now initialize the element object. The `Parameters` class is created just to avoid having to index an array getting passed into functions (e.g., `Parameters.mu` instead of `mu = Parameters[0]`)."
   ]
  },
  {
   "cell_type": "code",
   "execution_count": null,
   "metadata": {},
   "outputs": [],
   "source": [
    "# We will populate our parameter class with more parameters for the examples, this is the necessary bare minimum.\n",
    "class Parameters:\n",
    "    \n",
    "    def __init__(self):\n",
    "        self.float_dtype = np.float64 # argument for precision of NumPy arrays used in element object"
   ]
  },
  {
   "cell_type": "markdown",
   "metadata": {},
   "source": [
    "Next, we import the element class and its methods from the file `classElement`.\n",
    "\n",
    "Note that in order for the import to be successful, `_ElementVariables`, `_ElementForces`, `_ElementTangents` and the helper file `Lib`.\n",
    "\n",
    "`Lib` allows us to define class-based methods in other .py files than the one that stores the class itself, i.e., there are methods in `_ElementVariables` that refer to the element object defined in `classElement`.\n",
    "\n",
    "This is accomplished by tagging methods outside of `classElement` with the wrapper `@register_method` followed by the function call:\n",
    "\n",
    "`@Lib.add_methods_from(_ElementVariables, _ElementForces, _ElementTangents)`"
   ]
  },
  {
   "cell_type": "code",
   "execution_count": null,
   "metadata": {},
   "outputs": [],
   "source": [
    "import classElement"
   ]
  },
  {
   "cell_type": "code",
   "execution_count": null,
   "metadata": {},
   "outputs": [],
   "source": [
    "params  = Parameters()\n",
    "element = classElement.Element(a_GaussOrder=2, a_ID=0)\n",
    "element.set_Gauss_Points(params)\n",
    "element.set_Gauss_Weights(params)\n",
    "element.set_Coordinates(coordinates[element.ID,:,:])"
   ]
  },
  {
   "cell_type": "code",
   "execution_count": null,
   "metadata": {},
   "outputs": [],
   "source": [
    "print(element.coordinates)"
   ]
  },
  {
   "cell_type": "markdown",
   "metadata": {},
   "source": [
    "## Shape functions"
   ]
  },
  {
   "cell_type": "markdown",
   "metadata": {},
   "source": [
    "Next, we can initialize the shape functions. The displacement shape functions are constant, i.e., we only need to define them once because the local coordinates are not changing. However, the strain-displacement shape functions are not constant because they depend on some deformation at time $t_n$.\n",
    "\n",
    "Herein we will introduce the concept of broadcasting.\n",
    "\n",
    "Broadcasting is an efficient method to perform calculations on large datasets. In this example, our \"large\" dataset is the 8 Gauss points. Even though that is relatively small, remember from the introduction that Python does not perform well when using for-loops. Thus, if we were to use higher-order interpolations, looping over the Gauss points to reinitialize the shape functions in memory would become prohibitively expensive.\n",
    "\n",
    "The leading dimension of all element-related quantities, whether they be interpolation functions or stress measures (e.g., $\\boldsymbol{\\sigma}^e$), represents the Gauss point, and trailing dimensions represent the quantities of interest at the Gauss point."
   ]
  },
  {
   "cell_type": "code",
   "execution_count": null,
   "metadata": {
    "scrolled": false
   },
   "outputs": [],
   "source": [
    "print(element.points)\n",
    "print(element.points.shape)"
   ]
  },
  {
   "cell_type": "markdown",
   "metadata": {},
   "source": [
    "$\\boldsymbol{\\xi}^e = [\\xi \\quad \\eta \\quad \\zeta]^e$ has shape 8x3 (8 Gauss points, 3 dimensions $XYZ$ in the global configuration, and $\\xi\\eta\\zeta$ in the local configuration (i.e., reference frame of the element)) "
   ]
  },
  {
   "cell_type": "code",
   "execution_count": null,
   "metadata": {},
   "outputs": [],
   "source": [
    "element.evaluate_Shape_Functions(params)"
   ]
  },
  {
   "cell_type": "code",
   "execution_count": null,
   "metadata": {},
   "outputs": [],
   "source": [
    "print(element.xi); print(element.xi.shape)\n",
    "print(element.eta); print(element.eta.shape)\n",
    "print(element.zeta); print(element.zeta.shape)"
   ]
  },
  {
   "cell_type": "markdown",
   "metadata": {},
   "source": [
    "Remember that for some generic variable $\\mathbf{y}(\\mathbf{X}(\\boldsymbol{\\xi}))$, we can use the shape functions to interpolate it as,\n",
    "\n",
    "$$\n",
    "\\mathbf{y}(\\mathbf{X}(\\boldsymbol{\\xi}))^{h^e} = \\sum_{a=1}^{n_{en}}N^y_a(\\boldsymbol{\\xi})\\mathbf{y}_a^e = \\underbrace{\\begin{bmatrix}\\mathbf{N}^{e,y}\\end{bmatrix}}_{n_{dim}\\times(n_{en}\\cdot n_{dim})}\\cdot\\underbrace{\\begin{Bmatrix}\\mathbf{y}^e\\end{Bmatrix}}_{(n_{en}\\cdot n_{dim})\\times 1}\n",
    "$$\n",
    "\n",
    "To construct $\\mathbf{N}^{e,y}$ assuming $n_{dim} = 3$, we begin by writing,\n",
    "\n",
    "$$\n",
    "\\mathbf{N}^y_a = \\begin{bmatrix}N^y_a & 0 & 0\\\\0 & N^y_a & 0\\\\0 & 0 & N^y_a\\end{bmatrix}\n",
    "$$\n",
    "\n",
    "and then put this in a vector,\n",
    "\n",
    "$$\n",
    "\\mathbf{N}^{e,y} = \\begin{bmatrix}\\mathbf{N}^y_1 & \\mathbf{N}^y_2 & ... & \\mathbf{N}^y_{n_{en}}\\end{bmatrix}\n",
    "$$\n",
    "\n",
    "For our 3-D trilinear hexahedral element $n_{en} = 8$ and thus $\\mathbf{N}^{e,u}$ has shape 3x24.\n",
    "\n",
    "Recall, though, that we want to use broadcasting over the Gauss points. Therefore in the Python code what we call $\\mathbf{N}^{e,u}$ has shape..."
   ]
  },
  {
   "cell_type": "code",
   "execution_count": null,
   "metadata": {},
   "outputs": [],
   "source": [
    "print(element.Nu.shape)"
   ]
  },
  {
   "cell_type": "markdown",
   "metadata": {},
   "source": [
    "Below we show how this matrix is constructed."
   ]
  },
  {
   "cell_type": "markdown",
   "metadata": {},
   "source": [
    "```python\n",
    "def evaluate_Shape_Functions(self, Parameters):\n",
    "        # Initialize the shape functions used for interpolation.        \n",
    "        #--------------------------------\n",
    "        # Grab local element coordinates.\n",
    "        #--------------------------------\n",
    "        self.xi   = self.points[:,0]\n",
    "        self.eta  = self.points[:,1]\n",
    "        self.zeta = self.points[:,2]\n",
    "        #---------\n",
    "        # Set N_a.\n",
    "        #---------\n",
    "        self.N1 = (1 - self.xi)*(1 - self.eta)*(1 - self.zeta)/8\n",
    "        self.N2 = (1 + self.xi)*(1 - self.eta)*(1 - self.zeta)/8\n",
    "        self.N3 = (1 + self.xi)*(1 + self.eta)*(1 - self.zeta)/8\n",
    "        self.N4 = (1 - self.xi)*(1 + self.eta)*(1 - self.zeta)/8\n",
    "        self.N5 = (1 - self.xi)*(1 - self.eta)*(1 + self.zeta)/8\n",
    "        self.N6 = (1 + self.xi)*(1 - self.eta)*(1 + self.zeta)/8\n",
    "        self.N7 = (1 + self.xi)*(1 + self.eta)*(1 + self.zeta)/8\n",
    "        self.N8 = (1 - self.xi)*(1 + self.eta)*(1 + self.zeta)/8\n",
    "        #-----------------------------\n",
    "        # Build shape function matrix.\n",
    "        #-----------------------------\n",
    "        self.Nu = np.zeros((8, 3, 24), dtype=Parameters.float_dtype)\n",
    "        for i in range(3):\n",
    "            self.Nu[:, i, 0 + i]  = self.N1\n",
    "            self.Nu[:, i, 3 + i]  = self.N2\n",
    "            self.Nu[:, i, 6 + i]  = self.N3\n",
    "            self.Nu[:, i, 9 + i]  = self.N4\n",
    "            self.Nu[:, i, 12 + i] = self.N5\n",
    "            self.Nu[:, i, 15 + i] = self.N6\n",
    "            self.Nu[:, i, 18 + i] = self.N7\n",
    "            self.Nu[:, i, 21 + i] = self.N8\n",
    "```"
   ]
  },
  {
   "cell_type": "markdown",
   "metadata": {},
   "source": [
    "(In the above `self` refers to the element object (i.e., referencing itself))"
   ]
  },
  {
   "cell_type": "code",
   "execution_count": null,
   "metadata": {},
   "outputs": [],
   "source": [
    "print(element.Nu[0,:,:])"
   ]
  },
  {
   "cell_type": "markdown",
   "metadata": {},
   "source": [
    "The strain-displacement matrix is defined similarly, where the goal now is to compute the gradient of $\\mathbf{y}(\\mathbf{X}(\\boldsymbol{\\xi}))$, i.e.,\n",
    "\n",
    "$$\n",
    "\\frac{\\partial\\mathbf{y}(\\mathbf{X}(\\boldsymbol{\\xi}))^{h^e}}{\\partial\\mathbf{X}(\\boldsymbol{\\xi})} = \\sum_{a=1}^{n_{en}}\\frac{\\partial\\mathbf{N}^y_a(\\boldsymbol{\\xi})}{\\partial\\mathbf{X}}\\mathbf{y}_a^e = \\sum_{a=1}^{n_{en}}B^y_a(\\boldsymbol{\\xi})\\mathbf{y}_a^e = \\underbrace{\\begin{bmatrix}\\mathbf{B}^{e,y}\\end{bmatrix}}_{(n_{dim}\\cdot n_{dim})\\times(n_{en}\\cdot n_{dim})}\\cdot\\underbrace{\\begin{Bmatrix}\\mathbf{y}^e\\end{Bmatrix}}_{(n_{en}\\cdot n_{dim})\\times 1}\n",
    "$$\n",
    "\n",
    "where\n",
    "\n",
    "$$\n",
    "\\frac{\\partial N^y_a}{\\partial\\mathbf{X}} = \\frac{\\partial N^y_a}{\\partial\\boldsymbol{\\xi}}\\frac{\\partial\\boldsymbol{\\xi}}{\\partial\\mathbf{X}}\n",
    "$$\n",
    "\n",
    "To construct $\\mathbf{B}^{e,y}$ assuming $n_{dim} = 3$, we begin by writing,\n",
    "\n",
    "$$\n",
    "\\mathbf{B}^y_a = \\begin{bmatrix}N^y_{a,X} & 0 & 0\\\\0 & N^y_{a,Y} & 0\\\\0 & 0 & N^y_{a,Z}\\\\N^y_{a,Y} & N^y_{a,X} & 0\\\\0 & N^y_{a,Z} & N^y_{a,Y}\\\\N^y_{a,Z} & 0 & N^y_{a,X}\\end{bmatrix}\n",
    "$$\n",
    "\n",
    "$$\n",
    "\\mathbf{B}^y_a = \\begin{bmatrix}N^y_{a,X} & 0 & 0\\\\N^y_{a,Y} & 0 & 0\\\\N^y_{a,Z} & 0 & 0\\\\0 & N^y_{a,X} & 0\\\\0 & N^y_{a,Y} & 0\\\\0 & N^y_{a,Z} & 0\\\\0 & 0 & N^y_{a,X}\\\\0 & 0 & N^y_{a,Y}\\\\0 & 0 & N^y_{a,Z}\\end{bmatrix}\n",
    "$$\n",
    "\n",
    "and then put this in a vector,\n",
    "\n",
    "$$\n",
    "\\mathbf{B}^{e,y} = \\begin{bmatrix}\\mathbf{B}^y_1 & \\mathbf{B}^y_2 & ... & \\mathbf{B}^y_{n_{en}}\\end{bmatrix}\n",
    "$$"
   ]
  },
  {
   "cell_type": "code",
   "execution_count": null,
   "metadata": {},
   "outputs": [],
   "source": [
    "print(element.Bu.shape)"
   ]
  },
  {
   "cell_type": "markdown",
   "metadata": {},
   "source": [
    "This next portion of the code calculates $\\dfrac{\\partial\\mathbf{N}_a^{u}}{\\partial\\boldsymbol{\\xi}}$"
   ]
  },
  {
   "cell_type": "markdown",
   "metadata": {},
   "source": [
    "```python\n",
    "#----------------------------------\n",
    "# Calculate derivatives w.r.t. \\xi.\n",
    "#----------------------------------\n",
    "self.dN1_dxi = -(1/8)*(1 - self.eta)*(1 - self.zeta)\n",
    "self.dN2_dxi = -self.dN1_dxi\n",
    "self.dN3_dxi = (1/8)*(1 + self.eta)*(1 - self.zeta)\n",
    "self.dN4_dxi = -self.dN3_dxi\n",
    "self.dN5_dxi = -(1/8)*(1 - self.eta)*(1 + self.zeta)\n",
    "self.dN6_dxi = -self.dN5_dxi\n",
    "self.dN7_dxi = (1/8)*(1 + self.eta)*(1 + self.zeta)\n",
    "self.dN8_dxi = -self.dN7_dxi\n",
    "\n",
    "self.dN_dxi      = np.zeros((8,8), dtype=Parameters.float_dtype)\n",
    "self.dN_dxi[:,0] = self.dN1_dxi\n",
    "self.dN_dxi[:,1] = self.dN2_dxi\n",
    "self.dN_dxi[:,2] = self.dN3_dxi\n",
    "self.dN_dxi[:,3] = self.dN4_dxi\n",
    "self.dN_dxi[:,4] = self.dN5_dxi\n",
    "self.dN_dxi[:,5] = self.dN6_dxi\n",
    "self.dN_dxi[:,6] = self.dN7_dxi\n",
    "self.dN_dxi[:,7] = self.dN8_dxi\n",
    "#-----------------------------------\n",
    "# Calculate derivatives w.r.t. \\eta.\n",
    "#-----------------------------------\n",
    "self.dN1_deta = -(1/8)*(1 - self.xi)*(1 - self.zeta)\n",
    "self.dN2_deta = -(1/8)*(1 + self.xi)*(1 - self.zeta)\n",
    "self.dN3_deta = -self.dN2_deta\n",
    "self.dN4_deta = -self.dN1_deta\n",
    "self.dN5_deta = -(1/8)*(1 - self.xi)*(1 + self.zeta)\n",
    "self.dN6_deta = -(1/8)*(1 + self.xi)*(1 + self.zeta)\n",
    "self.dN7_deta = -self.dN6_deta\n",
    "self.dN8_deta = -self.dN5_deta\n",
    "\n",
    "self.dN_deta      = np.zeros((8,8), dtype=Parameters.float_dtype)\n",
    "self.dN_deta[:,0] = self.dN1_deta\n",
    "self.dN_deta[:,1] = self.dN2_deta\n",
    "self.dN_deta[:,2] = self.dN3_deta\n",
    "self.dN_deta[:,3] = self.dN4_deta\n",
    "self.dN_deta[:,4] = self.dN5_deta\n",
    "self.dN_deta[:,5] = self.dN6_deta\n",
    "self.dN_deta[:,6] = self.dN7_deta\n",
    "self.dN_deta[:,7] = self.dN8_deta\n",
    "#------------------------------------\n",
    "# Calculate derivatives w.r.t. \\zeta.\n",
    "#------------------------------------\n",
    "self.dN1_dzeta = -(1/8)*(1 - self.xi)*(1 - self.eta)\n",
    "self.dN2_dzeta = -(1/8)*(1 + self.xi)*(1 - self.eta)\n",
    "self.dN3_dzeta = -(1/8)*(1 + self.xi)*(1 + self.eta)\n",
    "self.dN4_dzeta = -(1/8)*(1 - self.xi)*(1 + self.eta)\n",
    "self.dN5_dzeta = -self.dN1_dzeta\n",
    "self.dN6_dzeta = -self.dN2_dzeta\n",
    "self.dN7_dzeta = -self.dN3_dzeta\n",
    "self.dN8_dzeta = -self.dN4_dzeta\n",
    "\n",
    "self.dN_dzeta      = np.zeros((8,8), dtype=Parameters.float_dtype)\n",
    "self.dN_dzeta[:,0] = self.dN1_dzeta\n",
    "self.dN_dzeta[:,1] = self.dN2_dzeta\n",
    "self.dN_dzeta[:,2] = self.dN3_dzeta\n",
    "self.dN_dzeta[:,3] = self.dN4_dzeta\n",
    "self.dN_dzeta[:,4] = self.dN5_dzeta\n",
    "self.dN_dzeta[:,5] = self.dN6_dzeta\n",
    "self.dN_dzeta[:,6] = self.dN7_dzeta\n",
    "self.dN_dzeta[:,7] = self.dN8_dzeta\n",
    "#-------------------\n",
    "# Compute jacobians.\n",
    "#-------------------\n",
    "self.get_Jacobian(Parameters)\n",
    "```"
   ]
  },
  {
   "cell_type": "markdown",
   "metadata": {},
   "source": [
    "This section of the code calculates $\\dfrac{\\partial\\boldsymbol{X}}{\\partial\\boldsymbol{\\xi}} = J^e$ or $\\dfrac{\\partial X_I}{\\partial\\xi_b} = J^e_{Ib}$, $\\dfrac{\\partial\\boldsymbol{\\xi}}{\\partial\\mathbf{X}} = (J^e)^{-1}$ or $\\dfrac{\\partial\\xi_b}{\\partial X_I} = (J^e)^{-1}_{bI}$ (mapping of gradient) and $j^e = \\det{J^e}$ (deformation mapping of element volume).\n",
    "\n",
    "The ellipsis `...` is an indicator to `np.einsum` that we do not want it to perform a summation over that axes, which is the axes of the 8 Gauss points. The first line of the function below means compute $\\dfrac{\\partial x}{\\partial\\xi}$ using the interpolation function $\\mathbf{N}^{u,e}$ for all 8 Gauss points. And similarly the second line means compute $\\dfrac{\\partial x}{\\partial\\eta}$ using the interpolation function $\\mathbf{N}^{u,e}$ for all 8 Gauss points."
   ]
  },
  {
   "cell_type": "markdown",
   "metadata": {},
   "source": [
    "```python\n",
    "def get_Jacobian(self, Parameters):\n",
    "    # Compute the element Jacobian.\n",
    "    self.dx_dxi   = np.einsum('...i, i -> ...', self.dN_dxi,   self.coordinates[:,0])\n",
    "    self.dx_deta  = np.einsum('...i, i -> ...', self.dN_deta,  self.coordinates[:,0])\n",
    "    self.dx_dzeta = np.einsum('...i, i -> ...', self.dN_dzeta, self.coordinates[:,0])\n",
    "\n",
    "    self.dy_dxi   = np.einsum('...i, i -> ...', self.dN_dxi,   self.coordinates[:,1])\n",
    "    self.dy_deta  = np.einsum('...i, i -> ...', self.dN_deta,  self.coordinates[:,1])\n",
    "    self.dy_dzeta = np.einsum('...i, i -> ...', self.dN_dzeta, self.coordinates[:,1])\n",
    "\n",
    "    self.dz_dxi   = np.einsum('...i, i -> ...', self.dN_dxi,   self.coordinates[:,2])\n",
    "    self.dz_deta  = np.einsum('...i, i -> ...', self.dN_deta,  self.coordinates[:,2])\n",
    "    self.dz_dzeta = np.einsum('...i, i -> ...', self.dN_dzeta, self.coordinates[:,2])\n",
    "\n",
    "    self.Je        = np.zeros((8,3,3), dtype=Parameters.float_dtype)\n",
    "    self.Je[:,0,0] = self.dx_dxi\n",
    "    self.Je[:,0,1] = self.dx_deta\n",
    "    self.Je[:,0,2] = self.dx_dzeta\n",
    "    self.Je[:,1,0] = self.dy_dxi\n",
    "    self.Je[:,1,1] = self.dy_deta\n",
    "    self.Je[:,1,2] = self.dy_dzeta\n",
    "    self.Je[:,2,0] = self.dz_dxi\n",
    "    self.Je[:,2,1] = self.dz_deta\n",
    "    self.Je[:,2,2] = self.dz_dzeta\n",
    "\n",
    "    self.j     = np.zeros(8, dtype=Parameters.float_dtype)\n",
    "    self.Jeinv = np.zeros((8,3,3), dtype=Parameters.float_dtype)\n",
    "\n",
    "    for i in range(8):\n",
    "        self.j[i]          = np.linalg.det(self.Je[i,:,:])\n",
    "        self.Jeinv[i,:,:,] = np.linalg.inv(self.Je[i,:,:])\n",
    "\n",
    "    return\n",
    "```"
   ]
  },
  {
   "cell_type": "markdown",
   "metadata": {},
   "source": [
    "Now that we have the gradient mapping, we can construct the strain displacement matrix as follows, where the first few lines are the operation $\\dfrac{\\partial\\mathbf{N}_a^u}{\\partial\\boldsymbol{\\xi}}\\dfrac{\\partial\\boldsymbol{\\xi}}{\\partial\\mathbf{X}}$, or, $\\dfrac{\\partial N_a^u}{\\partial\\xi_b}\\dfrac{\\partial\\xi_b}{\\partial X_I} = \\dfrac{\\partial N_a^u}{\\partial X_I}$.\n",
    "\n",
    "Again, the ellipses tell `np.einsum` not to sum over the 8 Gauss points."
   ]
  },
  {
   "cell_type": "markdown",
   "metadata": {},
   "source": [
    "```python\n",
    "# Continued evaluate_Shape_Functions from above...\n",
    "#----------------------------------\n",
    "# Compute shape function gradients.\n",
    "#----------------------------------\n",
    "self.dN1_dx = np.einsum('...bI, ...b -> ...I', self.Jeinv, np.array([self.dN1_dxi, self.dN1_deta, self.dN1_dzeta]).T)\n",
    "self.dN2_dx = np.einsum('...bI, ...b -> ...I', self.Jeinv, np.array([self.dN2_dxi, self.dN2_deta, self.dN2_dzeta]).T)\n",
    "self.dN3_dx = np.einsum('...bI, ...b -> ...I', self.Jeinv, np.array([self.dN3_dxi, self.dN3_deta, self.dN3_dzeta]).T)\n",
    "self.dN4_dx = np.einsum('...bI, ...b -> ...I', self.Jeinv, np.array([self.dN4_dxi, self.dN4_deta, self.dN4_dzeta]).T)\n",
    "self.dN5_dx = np.einsum('...bI, ...b -> ...I', self.Jeinv, np.array([self.dN5_dxi, self.dN5_deta, self.dN5_dzeta]).T)\n",
    "self.dN6_dx = np.einsum('...bI, ...b -> ...I', self.Jeinv, np.array([self.dN6_dxi, self.dN6_deta, self.dN6_dzeta]).T)\n",
    "self.dN7_dx = np.einsum('...bI, ...b -> ...I', self.Jeinv, np.array([self.dN7_dxi, self.dN7_deta, self.dN7_dzeta]).T)\n",
    "self.dN8_dx = np.einsum('...bI, ...b -> ...I', self.Jeinv, np.array([self.dN8_dxi, self.dN8_deta, self.dN8_dzeta]).T)\n",
    "#--------------------------------------\n",
    "# Construct strain-displacement matrix.\n",
    "#--------------------------------------\n",
    "self.Bu = np.zeros((8, 9, 24), dtype=Parameters.float_dtype)\n",
    "# These for-loops just stagger where the gradients are put in the rows of Bu.\n",
    "# Refer to MATLAB code which allows array definition with better visualization\n",
    "# than Python.\n",
    "for i in range(3):\n",
    "    self.Bu[:, i, 0]  = self.dN1_dx[:,i]\n",
    "    self.Bu[:, i, 3]  = self.dN2_dx[:,i]\n",
    "    self.Bu[:, i, 6]  = self.dN3_dx[:,i]\n",
    "    self.Bu[:, i, 9]  = self.dN4_dx[:,i]\n",
    "    self.Bu[:, i, 12] = self.dN5_dx[:,i]\n",
    "    self.Bu[:, i, 15] = self.dN6_dx[:,i]\n",
    "    self.Bu[:, i, 18] = self.dN7_dx[:,i]\n",
    "    self.Bu[:, i, 21] = self.dN8_dx[:,i]\n",
    "\n",
    "for i in range(3,6):\n",
    "    self.Bu[:, i, 1]  = self.dN1_dx[:,i-3]\n",
    "    self.Bu[:, i, 4]  = self.dN2_dx[:,i-3]\n",
    "    self.Bu[:, i, 7]  = self.dN3_dx[:,i-3]\n",
    "    self.Bu[:, i, 10] = self.dN4_dx[:,i-3]\n",
    "    self.Bu[:, i, 13] = self.dN5_dx[:,i-3]\n",
    "    self.Bu[:, i, 16] = self.dN6_dx[:,i-3]\n",
    "    self.Bu[:, i, 19] = self.dN7_dx[:,i-3]\n",
    "    self.Bu[:, i, 22] = self.dN8_dx[:,i-3]\n",
    "\n",
    "for i in range(6,9):\n",
    "    self.Bu[:, i, 2]  = self.dN1_dx[:,i-6]\n",
    "    self.Bu[:, i, 5]  = self.dN2_dx[:,i-6]\n",
    "    self.Bu[:, i, 8]  = self.dN3_dx[:,i-6]\n",
    "    self.Bu[:, i, 11] = self.dN4_dx[:,i-6]\n",
    "    self.Bu[:, i, 14] = self.dN5_dx[:,i-6]\n",
    "    self.Bu[:, i, 17] = self.dN6_dx[:,i-6]\n",
    "    self.Bu[:, i, 20] = self.dN7_dx[:,i-6]\n",
    "    self.Bu[:, i, 23] = self.dN8_dx[:,i-6]\n",
    "\n",
    "return\n",
    "```"
   ]
  },
  {
   "cell_type": "markdown",
   "metadata": {},
   "source": [
    "## Strains and stress\n",
    "Now that we have our interpolation functions, we can compute the local strains and stresses."
   ]
  },
  {
   "cell_type": "markdown",
   "metadata": {},
   "source": [
    "```python\n",
    "@register_method\n",
    "def get_dudX(self, Parameters):\n",
    "    # Compute solid displacement gradient.\n",
    "    self.dudX = np.einsum('...ij, j -> ...i', self.Bu, self.u_global, dtype=Parameters.float_dtype)\n",
    "    return\n",
    "    \n",
    "@register_method\n",
    "def get_F(self, Parameters):\n",
    "    # Compute deformation gradient.\n",
    "    #----------------------------------------------------\n",
    "    # Reshape the identity matrix for all 8 Gauss points.\n",
    "    #----------------------------------------------------\n",
    "    self.identity = np.zeros((8,3,3), dtype=Parameters.float_dtype)\n",
    "    np.einsum('ijj -> ij', self.identity)[:] = 1\n",
    "    #-------------------------------------------------------\n",
    "    # Create the 3x3 deformation matrix from the 9x1 vector.\n",
    "    #-------------------------------------------------------\n",
    "    self.dudX_mat = np.zeros((8,3,3), dtype=Parameters.float_dtype)\n",
    "    for i in range(9):\n",
    "        if i == 0:\n",
    "            alpha = 0\n",
    "            beta  = 0\n",
    "        elif i == 1:\n",
    "            alpha = 0\n",
    "            beta  = 1\n",
    "        elif i == 2:\n",
    "            alpha = 0\n",
    "            beta  = 2\n",
    "        elif i == 3:\n",
    "            alpha = 1\n",
    "            beta  = 0\n",
    "        elif i == 4:\n",
    "            alpha = 1\n",
    "            beta  = 1\n",
    "        elif i == 5:\n",
    "            alpha = 1\n",
    "            beta  = 2\n",
    "        elif i == 6:\n",
    "            alpha = 2\n",
    "            beta  = 0\n",
    "        elif i == 7:\n",
    "            alpha = 2\n",
    "            beta  = 1\n",
    "        elif i == 8:\n",
    "            alpha = 2\n",
    "            beta  = 2\n",
    "        self.dudX_mat[:,alpha,beta] = self.dudX[:,i]\n",
    "\n",
    "    self.F = self.identity + self.dudX_mat\n",
    "    return\n",
    "\n",
    "@register_method\n",
    "def get_F_inv(self):\n",
    "    # Compute inverse of deformation gradient.\n",
    "    self.F_inv = np.linalg.inv(self.F)\n",
    "    return\n",
    "\n",
    "@register_method\n",
    "def get_J(self):\n",
    "    # Compute Jacobian of deformation.\n",
    "    self.J = np.linalg.det(self.F)\n",
    "    return\n",
    "\n",
    "@register_method\n",
    "def get_C(self, Parameters):\n",
    "    # Compute right Cauchy-Green tensor.\n",
    "    self.C = np.einsum('...iI, ...iJ -> ...IJ', self.F, self.F, dtype=Parameters.float_dtype)\n",
    "    return\n",
    "\n",
    "@register_method\n",
    "def get_C_inv(self):\n",
    "    # Compute inverse of right Cauchy-Green tensor.\n",
    "    self.C_inv = np.linalg.inv(self.C)\n",
    "    return\n",
    "\n",
    "@register_method\n",
    "def get_SPK(self, Parameters):\n",
    "    # Compute second Piola-Kirchoff stress tensor.\n",
    "    self.SPK = Parameters.mu*self.identity + np.einsum('..., ...IJ -> ...IJ',\\\n",
    "                                                        Parameters.lambd*np.log(self.J) - Parameters.mu,\\\n",
    "                                                        self.C_inv, dtype=Parameters.float_dtype)\n",
    "    return\n",
    "\n",
    "@register_method\n",
    "def get_FPK(self, Parameters):\n",
    "    # Compute first Piola-Kirchoff stress tensor.\n",
    "    self.FPK = np.einsum('...iI, ...IJ -> ...iI', self.F, self.SPK, dtype=Parameters.float_dtype)\n",
    "    return\n",
    "```"
   ]
  },
  {
   "cell_type": "markdown",
   "metadata": {},
   "source": [
    "## Force vectors\n",
    "\n",
    "Below are the internal and external force vectors $\\mathcal{G}_1^{\\text{INT},h^e}$, $\\mathcal{G}_2^{\\text{INT},h^e}$ and $\\mathcal{G}^{\\text{EXT},h^e}$. Here there is an explicit summation over the axis that represents the 8 Gauss points, i.e., a sum over the Gauss point index $k$ (to perform the Gauss integration over the element)."
   ]
  },
  {
   "cell_type": "markdown",
   "metadata": {},
   "source": [
    "$\\underbrace{\\mathbf{f}^{\\text{INT1},e}}_{24\\times 1} = \\int\\limits_{B_0^e}\\underbrace{\\begin{bmatrix}\\mathbf{B}^{u,e}\\end{bmatrix}^T}_{24\\times 9}\\underbrace{\\begin{Bmatrix}\\mathbf{P}^{h^e}\\end{Bmatrix}}_{9\\times 1}dV$\n",
    "\n",
    "where $\\mathbf{P}^{h^e}$ is expressed in Voigt notation $\\underbrace{P_\\alpha^{h^e}}_{9\\times 1}$ from $\\underbrace{P_{iI}^{h^e}}_{3\\times 3}$ (remember Python is 0-based indexing, so 00 means 11 if we were to translate to handwritten matrix notation, and similarly 02 means 13)."
   ]
  },
  {
   "cell_type": "markdown",
   "metadata": {},
   "source": [
    "```python\n",
    "@register_method\n",
    "def get_G1(self, Parameters):\n",
    "    # Compute G_1^INT.\n",
    "    self.FPK_voigt = np.zeros((8,9), dtype=Parameters.float_dtype)\n",
    "    for alpha in range(9):\n",
    "        if alpha == 0:\n",
    "            i = 0\n",
    "            I = 0\n",
    "        elif alpha == 1:\n",
    "            i = 0\n",
    "            I = 1\n",
    "        elif alpha == 2:\n",
    "            i = 0\n",
    "            I = 2\n",
    "        elif alpha == 3:\n",
    "            i = 1\n",
    "            I = 0\n",
    "        elif alpha == 4:\n",
    "            i = 1\n",
    "            I = 1\n",
    "        elif alpha == 5:\n",
    "            i = 1\n",
    "            I = 2\n",
    "        elif alpha == 6:\n",
    "            i = 2\n",
    "            I = 0\n",
    "        elif alpha == 7:\n",
    "            i = 2\n",
    "            I = 1\n",
    "        elif alpha == 8:\n",
    "            i = 2\n",
    "            I = 2\n",
    "        self.FPK_voigt[:,alpha] = self.FPK[:,i,I]\n",
    "\n",
    "    self.G_1 = np.einsum('kij, ki, k -> j', self.Bu, self.FPK_voigt, self.weights*self.j)\n",
    "    return\n",
    "```"
   ]
  },
  {
   "cell_type": "markdown",
   "metadata": {},
   "source": [
    "$\\underbrace{\\mathbf{f}^{\\text{INT2},e}}_{24\\times 1} = -\\int\\limits_{B_0^e}\\underbrace{\\begin{bmatrix}\\mathbf{N}^{u,e}\\end{bmatrix}^T}_{24\\times 3}\\underbrace{\\begin{Bmatrix}\\rho^{h^e}\\mathbf{g}\\end{Bmatrix}}_{3\\times 1}dV$"
   ]
  },
  {
   "cell_type": "markdown",
   "metadata": {},
   "source": [
    "```python\n",
    "@register_method\n",
    "def get_G2(self, Parameters):\n",
    "    # Compute G_2^INT.\n",
    "    self.grav_body       = np.zeros((8,3), dtype=Parameters.float_dtype)\n",
    "    self.grav_body[:,2]  = -Parameters.grav\n",
    "    \n",
    "    self.G_2 = np.einsum('kij, ki, k -> j', -self.Nu, self.rho_0*self.grav_body, self.weights*self.j)\n",
    "    return\n",
    "```"
   ]
  },
  {
   "cell_type": "markdown",
   "metadata": {},
   "source": [
    "$\\underbrace{\\mathbf{f}^{\\text{EXT},e}}_{24\\times 1} = \\int\\limits_{\\Gamma_0^e}\\underbrace{\\begin{bmatrix}\\mathbf{N}^{u,e}\\end{bmatrix}^T}_{24\\times 3}\\underbrace{\\begin{Bmatrix}\\mathbf{t}^\\sigma\\end{Bmatrix}}_{3\\times 1}dA$"
   ]
  },
  {
   "cell_type": "markdown",
   "metadata": {},
   "source": [
    "```python\n",
    "@register_method\n",
    "def get_GEXT(self, Parameters):\n",
    "    # Compute G^EXT (for topmost element only).\n",
    "    if self.ID == (Parameters.numEl - 1) and Parameters.tractionProblem:\n",
    "        self.traction      = np.zeros((4,3), dtype=Parameters.float_dtype)\n",
    "        self.traction[:,2] = -Parameters.traction\n",
    "    \n",
    "        self.evaluate_Shape_Functions_2D(Parameters)\n",
    "        self.G_EXT = np.einsum('kij, ki, k -> j', self.Nu_2D, self.traction, self.weights[4:8]*self.j_2D)\n",
    "    else:\n",
    "        self.G_EXT = np.zeros((24), dtype=Parameters.float_dtype)\n",
    "    return\n",
    "```"
   ]
  },
  {
   "cell_type": "markdown",
   "metadata": {},
   "source": [
    "Note in the last function that the traction can only be applied to the top element, and that we need to compute the interpolation related to the plane-element (the element boundary at the top surface). Thus in the below function, the shape functions are only evaluated for $\\zeta = 1$ and thus $N_1, N_2, N_3, N_4 = 0$."
   ]
  },
  {
   "cell_type": "markdown",
   "metadata": {},
   "source": [
    "```python\n",
    "def evaluate_Shape_Functions_2D(self, Parameters):\n",
    "    # Create a 2D planar element for traction boundary condition.\n",
    "    #---------\n",
    "    # Set N_a.\n",
    "    #---------\n",
    "    self.N5_2D = (1 - self.xi[4:8])*(1 - self.eta[4:8])/4\n",
    "    self.N6_2D = (1 + self.xi[4:8])*(1 - self.eta[4:8])/4\n",
    "    self.N7_2D = (1 + self.xi[4:8])*(1 + self.eta[4:8])/4\n",
    "    self.N8_2D = (1 - self.xi[4:8])*(1 + self.eta[4:8])/4\n",
    "    #-----------------------------\n",
    "    # Build shape function matrix.\n",
    "    #-----------------------------\n",
    "    self.Nu_2D = np.zeros((4, 3, 24), dtype=Parameters.float_dtype)\n",
    "    for i in range(3):\n",
    "        self.Nu_2D[:, i, 12 + i] = self.N5_2D\n",
    "        self.Nu_2D[:, i, 15 + i] = self.N6_2D\n",
    "        self.Nu_2D[:, i, 18 + i] = self.N7_2D\n",
    "        self.Nu_2D[:, i, 21 + i] = self.N8_2D\n",
    "    #----------------------------------\n",
    "    # Calculate derivatives w.r.t. \\xi.\n",
    "    #----------------------------------\n",
    "    self.dN5_dxi_2D = -(1/4)*(1 - self.eta[4:8])\n",
    "    self.dN6_dxi_2D = -self.dN5_dxi_2D\n",
    "    self.dN7_dxi_2D = (1/4)*(1 + self.eta[4:8])\n",
    "    self.dN8_dxi_2D = -self.dN7_dxi_2D\n",
    "\n",
    "    self.dN_dxi_2D      = np.zeros((4,4), dtype=Parameters.float_dtype)\n",
    "    self.dN_dxi_2D[:,0] = self.dN5_dxi_2D\n",
    "    self.dN_dxi_2D[:,1] = self.dN6_dxi_2D\n",
    "    self.dN_dxi_2D[:,2] = self.dN7_dxi_2D\n",
    "    self.dN_dxi_2D[:,3] = self.dN8_dxi_2D\n",
    "    #-----------------------------------\n",
    "    # Calculate derivatives w.r.t. \\eta.\n",
    "    #-----------------------------------\n",
    "    self.dN5_deta_2D = -(1/4)*(1 - self.xi[4:8])\n",
    "    self.dN6_deta_2D = -(1/4)*(1 + self.xi[4:8])\n",
    "    self.dN7_deta_2D = -self.dN6_deta_2D\n",
    "    self.dN8_deta_2D = -self.dN5_deta_2D\n",
    "\n",
    "    self.dN_deta_2D      = np.zeros((4,4), dtype=Parameters.float_dtype)\n",
    "    self.dN_deta_2D[:,0] = self.dN5_deta_2D\n",
    "    self.dN_deta_2D[:,1] = self.dN6_deta_2D\n",
    "    self.dN_deta_2D[:,2] = self.dN7_deta_2D\n",
    "    self.dN_deta_2D[:,3] = self.dN8_deta_2D\n",
    "    #------------------------\n",
    "    # Calculate the jacobian.\n",
    "    #------------------------\n",
    "    self.get_Jacobian_2D(Parameters)\n",
    "\n",
    "    return\n",
    "\n",
    "def get_Jacobian_2D(self, Parameters):\n",
    "    # Compute the 2D element Jacobian.\n",
    "    self.dx_dxi_2D  = np.einsum('...i, i -> ...', self.dN_dxi_2D,   self.coordinates[4:8,0])\n",
    "    self.dx_deta_2D = np.einsum('...i, i -> ...', self.dN_deta_2D,  self.coordinates[4:8,0])\n",
    "\n",
    "    self.dy_dxi_2D  = np.einsum('...i, i -> ...', self.dN_dxi_2D,   self.coordinates[4:8,1])\n",
    "    self.dy_deta_2D = np.einsum('...i, i -> ...', self.dN_deta_2D,  self.coordinates[4:8,1])\n",
    "\n",
    "    self.Je_2D        = np.zeros((4,2,2), dtype=Parameters.float_dtype)\n",
    "    self.Je_2D[:,0,0] = self.dx_dxi_2D\n",
    "    self.Je_2D[:,0,1] = self.dx_deta_2D\n",
    "    self.Je_2D[:,1,0] = self.dy_dxi_2D\n",
    "    self.Je_2D[:,1,1] = self.dy_deta_2D\n",
    "\n",
    "    self.j_2D = np.zeros(4, dtype=Parameters.float_dtype)\n",
    "\n",
    "    for i in range(4):\n",
    "        self.j_2D[i] = np.linalg.det(self.Je_2D[i,:,:])\n",
    "\n",
    "    return\n",
    "```"
   ]
  },
  {
   "cell_type": "markdown",
   "metadata": {},
   "source": [
    "## Tangents\n",
    "We also need the consistent tangent $\\mathcal{G}_{u,u}^{h^e}$, defined below. Recall,\n",
    "\n",
    "$$\n",
    "\\delta\\mathcal{G}^{h}_1 = \\mathop{\\lower 5.5pt \\hbox{A}}_{e}^{n_e}\\int\\limits_{B_0^e}\\underbrace{\\Bigg[\\frac{\\partial w_i^{h^e}}{\\partial X_I}\\Bigg]}_{\\underbrace{\\begin{Bmatrix}\\mathbf{c}^e\\end{Bmatrix}^T}_{1\\times 24}\\underbrace{\\begin{bmatrix}\\mathbf{B}^{u,e}\\end{bmatrix}^T}_{24\\times 9}}\\underbrace{\\Bigg[\\frac{\\partial P_{iI}}{\\partial F_{aA}}\\Bigg]^{h^e}}_{\\underbrace{\\begin{bmatrix}\\mathbf{D}^e\\end{bmatrix}}_{9\\times 9}}\\underbrace{\\Bigg[\\frac{\\partial(\\delta u_a^{h^e})}{\\partial X_A}\\Bigg]}_{\\underbrace{\\begin{bmatrix}\\mathbf{B}^{u,e}\\end{bmatrix}}_{9\\times 24}\\underbrace{\\begin{bmatrix}\\delta\\mathbf{d}^e\\end{bmatrix}}_{24\\times 1}}dV\n",
    "$$\n",
    "\n",
    "where,\n",
    "\n",
    "$$\n",
    "\\underbrace{\\begin{bmatrix}\\mathbf{G}_{u,u}^{1,e}\\end{bmatrix}}_{24\\times 24} = \\int\\limits_{B_0^e}\\underbrace{\\begin{bmatrix}\\mathbf{B}^{u,e}\\end{bmatrix}^T}_{24\\times 9}\\underbrace{\\begin{bmatrix}\\mathbf{D}^e\\end{bmatrix}}_{9\\times 9}\\underbrace{\\begin{bmatrix}\\mathbf{B}^{u,e}\\end{bmatrix}}_{9\\times 24}\n",
    "$$\n",
    "\n",
    "Note that,\n",
    "\n",
    "$$\n",
    "\\dfrac{\\partial P_{iI}}{\\partial F_{aA}} = \\delta_{ai}S_{AI} + \\lambda F_{Aa}^{-1}F_{Ii}^{-1} - (\\lambda\\log(J) - \\mu)(F_{Ai}^{-1}F_{Ia}^{-1} + \\delta_{ai}C_{AI}^{-1})\n",
    "$$\n",
    "\n",
    "which is a 3x3x3x3 (or 8x3x3x3x3 in the code, for the 8 Gauss points).\n",
    "\n",
    "In order to correctly compute the tangent, we must transform this to a 9x9 (or 8x9x9 in the code, for the 8 Gauss points) using Voigt notation, i.e.,\n",
    "\n",
    "$$\n",
    "\\dfrac{\\partial P_{iI}}{\\partial F_{aA}} \\rightarrow D_{\\alpha,\\beta}\n",
    "$$ "
   ]
  },
  {
   "cell_type": "markdown",
   "metadata": {},
   "source": [
    "```python\n",
    "@register_method\n",
    "def get_G_uu_1(self, Parameters):\n",
    "    # Compute G_uu_1.\n",
    "    self.dPdF = np.einsum('...ai, ...AI -> ...iIaA', self.identity, self.SPK)\\\n",
    "                    + Parameters.lambd*np.einsum('...Aa, ...Ii -> ...iIaA', self.F_inv, self.F_inv)\\\n",
    "                    - np.einsum('..., ...iIaA -> ...iIaA', Parameters.lambd*np.log(self.J) - Parameters.mu,\\\n",
    "                                (np.einsum('...Ai, ...Ia -> ...iIaA', self.F_inv, self.F_inv)\\\n",
    "                                + np.einsum('...ai, ...AI -> ...iIaA', self.identity, self.C_inv)))\n",
    "\n",
    "    self.dPdF_voigt = np.zeros((8,9,9), dtype=Parameters.float_dtype)\n",
    "    for alpha in range(9):\n",
    "        if alpha == 0:\n",
    "            i = 0\n",
    "            I = 0\n",
    "        elif alpha == 1:\n",
    "            i = 0\n",
    "            I = 1\n",
    "        elif alpha == 2:\n",
    "            i = 0\n",
    "            I = 2\n",
    "        elif alpha == 3:\n",
    "            i = 1\n",
    "            I = 0\n",
    "        elif alpha == 4:\n",
    "            i = 1\n",
    "            I = 1\n",
    "        elif alpha == 5:\n",
    "            i = 1\n",
    "            I = 2\n",
    "        elif alpha == 6:\n",
    "            i = 2\n",
    "            I = 0\n",
    "        elif alpha == 7:\n",
    "            i = 2\n",
    "            I = 1\n",
    "        elif alpha == 8:\n",
    "            i = 2\n",
    "            I = 2\n",
    "        for beta in range(9):\n",
    "            if beta == 0:\n",
    "                a = 0\n",
    "                A = 0\n",
    "            elif beta == 1:\n",
    "                a = 0\n",
    "                A = 1\n",
    "            elif beta == 2:\n",
    "                a = 0\n",
    "                A = 2\n",
    "            elif beta == 3:\n",
    "                a = 1\n",
    "                A = 0\n",
    "            elif beta == 4:\n",
    "                a = 1\n",
    "                A = 1\n",
    "            elif beta == 5:\n",
    "                a = 1\n",
    "                A = 2\n",
    "            elif beta == 6:\n",
    "                a = 2\n",
    "                A = 0\n",
    "            elif beta == 7:\n",
    "                a = 2\n",
    "                A = 1\n",
    "            elif beta == 8:\n",
    "                a = 2\n",
    "                A = 2\n",
    "\n",
    "            self.dPdF_voigt[:,alpha,beta] = self.dPdF[:,i,I,a,A]\n",
    "\n",
    "    self.G_uu_1 = np.einsum('kiI, kij, kjJ, k -> IJ', self.Bu, self.dPdF_voigt, self.Bu, self.weights*self.j)\n",
    "    return\n",
    "```"
   ]
  },
  {
   "cell_type": "markdown",
   "metadata": {},
   "source": [
    "# Assembling the finite element equations\n",
    "\n",
    "Next, we briefly show how the matrix forms of the finite element equations are assembled."
   ]
  },
  {
   "cell_type": "markdown",
   "metadata": {},
   "source": [
    "## Node numbering and location matrix\n",
    "First, we'll assume uniaxial strain for a 2-element mesh. Below is a schematic of our general problem."
   ]
  },
  {
   "cell_type": "markdown",
   "metadata": {},
   "source": [
    "<img src=\"./figures/3D_Hex_Problem.png\" alt=\"isolated\" width=\"400\"/>"
   ]
  },
  {
   "cell_type": "markdown",
   "metadata": {},
   "source": [
    "Note that we could also replace the applied traction $\\mathbf{t}^\\sigma$ with an applied displacement $\\mathbf{g}_u$.\n",
    "\n",
    "Here is how we will number the global nodes."
   ]
  },
  {
   "cell_type": "markdown",
   "metadata": {},
   "source": [
    "<img src=\"./figures/3D_Hex_Problem_Nodes.png\" alt=\"isolated\" width=\"400\"/>"
   ]
  },
  {
   "cell_type": "markdown",
   "metadata": {},
   "source": [
    "Let's examine how we will assign the global degrees of freedom for this problem. Starting with the first node..."
   ]
  },
  {
   "cell_type": "markdown",
   "metadata": {},
   "source": [
    "<img src=\"./figures/3D_Hex_Problem_LM0.png\" alt=\"isolated\" width=\"400\"/>"
   ]
  },
  {
   "cell_type": "markdown",
   "metadata": {},
   "source": [
    "It follows that for the bottom to remain fixed, we have no degrees of freedom there, i.e.,"
   ]
  },
  {
   "cell_type": "markdown",
   "metadata": {},
   "source": [
    "<img src=\"./figures/3D_Hex_Problem_LMBot.png\" alt=\"isolated\" width=\"400\"/>"
   ]
  },
  {
   "cell_type": "markdown",
   "metadata": {},
   "source": [
    "For the next set of nodes, we do have a degree of freedom (top of element 0, bottom of element 1 is allowed to move freely in the vertical direction)."
   ]
  },
  {
   "cell_type": "markdown",
   "metadata": {},
   "source": [
    "<img src=\"./figures/3D_Hex_Problem_LMMidA.png\" alt=\"isolated\" width=\"400\"/>"
   ]
  },
  {
   "cell_type": "markdown",
   "metadata": {},
   "source": [
    "<img src=\"./figures/3D_Hex_Problem_LMMid.png\" alt=\"isolated\" width=\"400\"/>"
   ]
  },
  {
   "cell_type": "markdown",
   "metadata": {},
   "source": [
    "Then, when we enter the values in the second column (corresponding to element 1) of the location matrix, the numbers of the first column reset. A more compact way to write this, assuming that we are applying a displacement boundary condition at the top, i.e., only four degrees of freedom, is shown next."
   ]
  },
  {
   "cell_type": "markdown",
   "metadata": {},
   "source": [
    "<img src=\"./figures/3D_Hex_Problem_LMD.png\" alt=\"isolated\" width=\"400\"/>"
   ]
  },
  {
   "cell_type": "markdown",
   "metadata": {},
   "source": [
    "For the traction problem, the displacements at the top become new degrees of freedom, i.e.,"
   ]
  },
  {
   "cell_type": "markdown",
   "metadata": {},
   "source": [
    "<img src=\"./figures/3D_Hex_Problem_LMT.png\" alt=\"isolated\" width=\"400\"/>"
   ]
  },
  {
   "cell_type": "markdown",
   "metadata": {},
   "source": [
    "## Translation to code"
   ]
  },
  {
   "cell_type": "markdown",
   "metadata": {},
   "source": [
    "```python\n",
    "#------------------------------\n",
    "# Create the 'location matrix'.\n",
    "#------------------------------\n",
    "LM       = np.ones((Parameters.numElDOF, Parameters.numEl), dtype=np.int32)\n",
    "LM      *= -1 # (this would be 0 in MATLAB)\n",
    "#----------------------------------------------\n",
    "# Set the free DOFs:\n",
    "#   - For the displacement problem, only the \n",
    "#     middle 4 nodes are unconstrained in the \n",
    "#     z-direction. For two elements, this \n",
    "#     amounts to 4 DOFs.\n",
    "#   - For the traction problem, the top 4 nodes\n",
    "#     are unconstrained in the z-direction. For\n",
    "#     two elements, this amounts to 8 DOFs.\n",
    "#----------------------------------------------\n",
    "LM[2,1]  = 3\n",
    "LM[5,1]  = 0\n",
    "LM[8,1]  = 1\n",
    "LM[11,1] = 2\n",
    "LM[14,0] = 3\n",
    "LM[17,0] = 0\n",
    "LM[20,0] = 1\n",
    "LM[23,0] = 2\n",
    "if Parameters.tractionProblem:\n",
    "    LM[14,1] = 7\n",
    "    LM[17,1] = 4\n",
    "    LM[20,1] = 5\n",
    "    LM[23,1] = 6\n",
    "```"
   ]
  },
  {
   "cell_type": "markdown",
   "metadata": {},
   "source": [
    "After setting the initial conditions, we begin the time-marching and Newton-Raphson loops. Therein, we initialize the element (similar to what has been shown so far).\n",
    "\n",
    "```python\n",
    "for element_ID in range(Parameters.numEl):\n",
    "    #------------------------\n",
    "    # Initialize the element.\n",
    "    #------------------------\n",
    "    element = classElement.Element(a_GaussOrder=Parameters.GaussOrder, a_ID=element_ID)\n",
    "    element.set_Gauss_Points(Parameters)\n",
    "    element.set_Gauss_Weights(Parameters)\n",
    "    element.set_Coordinates(coordinates[element.ID,:,:])\n",
    "    element.evaluate_Shape_Functions(Parameters)\n",
    "    element.get_Global_DOF(LM)\n",
    "    element.set_Global_Solutions(D)\n",
    "    element.apply_Local_BC(g)\n",
    "```\n",
    "The method `get_Global_DOF` gets the global degrees of freedom and applies them to the element,\n",
    "```python\n",
    "def get_Global_DOF(self, a_LM):\n",
    "    # Set the global degrees of freedom of this element.\n",
    "    self.DOF    = a_LM[:,self.ID]\n",
    "    self.numDOF = self.DOF.shape[0]\n",
    "    return\n",
    "```\n",
    "The method `set_Global_Solutions` gets the global displacement degrees of freedom and applies them to the element,\n",
    "```python\n",
    "def set_Global_Solutions(self, a_D):\n",
    "    # Set the local solution variables at the current time step.\n",
    "    self.set_u_global(a_D[self.DOF[0:self.numDOF]])\n",
    "    return\n",
    "def set_u_global(self, a_D):\n",
    "    # Initialize the global solid displacement (at element level).\n",
    "    self.u_global = a_D\n",
    "    return\n",
    "```\n",
    "The method `apply_Local_BC` applies displacement-type boundary conditions to the element,\n",
    "```python\n",
    "def apply_Local_BC(self, a_g):\n",
    "    # Apply boundary conditions at the element scale.\n",
    "    if np.any(self.DOF < 0):\n",
    "        idxs = np.where((self.DOF == -1))[0]\n",
    "        for idx in idxs:\n",
    "            self.u_global[idx] = a_g[idx, self.ID]\n",
    "    return\n",
    "```\n",
    "The first line checks to see where we have no degrees of freedom (i.e., a boundary condition); the second line finds the indices/locations in the list of the element's global degrees of freedom where we want to apply a boundary condition; and the third and fourth lines loop over these indices to apply the boundary conditions."
   ]
  },
  {
   "cell_type": "markdown",
   "metadata": {},
   "source": [
    "Next, we calculate strains, stresses, internal force vectors and tangents for the element.\n",
    "```python\n",
    "#------------------------------\n",
    "# Compute stresses and strains.\n",
    "#------------------------------\n",
    "element.compute_variables(Parameters)\n",
    "#---------------------------\n",
    "# Save stresses and strains.\n",
    "#---------------------------\n",
    "stress_solve[Parameters.n,element.ID,:,:,:,0] = element.SPK\n",
    "stress_solve[Parameters.n,element.ID,:,:,:,1] = element.FPK\n",
    "stress_solve[Parameters.n,element.ID,:,:,:,2] = element.sigma\n",
    "stress_solve[Parameters.n,element.ID,:,:,:,3] = element.E\n",
    "stress_solve[Parameters.n,element.ID,:,:,:,4] = element.e\n",
    "stress_solve[Parameters.n,element.ID,:,:,:,5] = element.Hencky\n",
    "\n",
    "isv_solve[Parameters.n,element.ID,:,0] = element.sigma_mean\n",
    "isv_solve[Parameters.n,element.ID,:,1] = element.von_mises\n",
    "#--------------------------------\n",
    "# Compute internal force vectors.\n",
    "#--------------------------------\n",
    "element.compute_forces(Parameters)\n",
    "#-----------------------------------\n",
    "# Compute the consistent tangent(s).\n",
    "#-----------------------------------\n",
    "element.compute_tangents(Parameters)\n",
    "```"
   ]
  },
  {
   "cell_type": "markdown",
   "metadata": {},
   "source": [
    "Afterwards the element's contributions are added to the global residual and tangent (the assembly step)\n",
    "```python\n",
    "#--------------------------\n",
    "# Perform element assembly.\n",
    "#--------------------------\n",
    "for i in range(element.numDOF):\n",
    "    I = element.DOF[i]\n",
    "\n",
    "    if I > -1:\n",
    "        R[I] += element.G_int[i]\n",
    "\n",
    "        for j in range(element.numDOF):\n",
    "            J = element.DOF[j]\n",
    "\n",
    "            if J > -1:\n",
    "                dR[I,J] += element.G_Mtx[i,j]\n",
    "```"
   ]
  },
  {
   "cell_type": "markdown",
   "metadata": {},
   "source": [
    "After we have assembled the equations, we check for convergence:\n",
    "```python\n",
    "if k == 1:\n",
    "    R0 = R\n",
    "\n",
    "Rtol  = np.linalg.norm(R)/np.linalg.norm(R0)\n",
    "normR = np.linalg.norm(R)\n",
    "\n",
    "if k > Parameters.kmax:\n",
    "    print(\"Relative tolerance = \", Rtol)\n",
    "    print(\"Norm of tolerance = \", normR)\n",
    "    sys.exit(\"ERROR. Reached max number of iterations.\")\n",
    "```"
   ]
  },
  {
   "cell_type": "markdown",
   "metadata": {},
   "source": [
    "(`np.linalg.norm` defaults to the 2-norm; other options can be found in the documentation here: https://numpy.org/doc/stable/reference/generated/numpy.linalg.norm.html)"
   ]
  },
  {
   "cell_type": "markdown",
   "metadata": {},
   "source": [
    "# Applied displacement example"
   ]
  },
  {
   "cell_type": "code",
   "execution_count": null,
   "metadata": {},
   "outputs": [],
   "source": [
    "%reset -f"
   ]
  },
  {
   "cell_type": "markdown",
   "metadata": {},
   "source": [
    "First, create our parameters."
   ]
  },
  {
   "cell_type": "code",
   "execution_count": null,
   "metadata": {},
   "outputs": [],
   "source": [
    "import numpy as np\n",
    "\n",
    "class Parameters:\n",
    "\n",
    "    def __init__(self):\n",
    "        self.float_dtype = np.float64 # single-precision float32 can lead to issues\n",
    "        #-------------------------\n",
    "        # Set material parameters.\n",
    "        #-------------------------\n",
    "        self.lambd = 2885\n",
    "        self.mu    = 1923\n",
    "\n",
    "        self.ns     = 0.01\n",
    "        self.rhoS_0 = 1000\n",
    "        self.rho_0  = self.ns*self.rhoS_0\n",
    "\n",
    "        self.grav = 9.81\n",
    "        #------------------------\n",
    "        # Set constitutive model.\n",
    "        #------------------------\n",
    "        # self.constitutive_model = 'Saint Venant-Kirchhoff'\n",
    "        self.constitutive_model = 'neo-Hookean'\n",
    "        #-----------------------------------\n",
    "        # Set boundary condition parameters.\n",
    "        #-----------------------------------\n",
    "        self.g_displ      = -0.05\n",
    "        self.tractionLoad = 0\n",
    "        self.t_ramp       = 1.0\n",
    "        #---------------------------------\n",
    "        # Set time integration parameters.\n",
    "        #---------------------------------\n",
    "        self.TStart   = 0.0\n",
    "        self.TStop    = 1.0\n",
    "        self.numSteps = 20 # set to low value for stability reasons\n",
    "        self.dt       = (self.TStop - self.TStart)/self.numSteps\n",
    "        self.t        = self.TStart\n",
    "        self.n        = 0\n",
    "        #-------------------------------\n",
    "        # Set Newton-Raphson parameters.\n",
    "        # - Note: loose tolerances gives\n",
    "        #         better performance.\n",
    "        #-------------------------------\n",
    "        self.tolr = 1e-6\n",
    "        self.tola = 1e-8\n",
    "        self.kmax = 5\n",
    "        #------------------------\n",
    "        # Set element properties.\n",
    "        #------------------------\n",
    "        self.GaussOrder = 2\n",
    "        self.numGauss   = 8\n",
    "        self.numDim     = 3\n",
    "        self.numElDOF   = 24"
   ]
  },
  {
   "cell_type": "code",
   "execution_count": null,
   "metadata": {},
   "outputs": [],
   "source": [
    "params = Parameters()\n",
    "\n",
    "params.displacementProblem = True\n",
    "params.tractionProblem     = False"
   ]
  },
  {
   "cell_type": "code",
   "execution_count": null,
   "metadata": {},
   "outputs": [],
   "source": [
    "import solver_u\n",
    "solver_u.main(params, printTol=False)\n",
    "%reset -f # wipes local variables from storage"
   ]
  },
  {
   "cell_type": "markdown",
   "metadata": {},
   "source": [
    "# Applied traction example"
   ]
  },
  {
   "cell_type": "code",
   "execution_count": null,
   "metadata": {},
   "outputs": [],
   "source": [
    "# Reinitiate problem; changed the following:\n",
    "# - g_displ = 0\n",
    "# - traction = 10e3 (kPa)\n",
    "# - tolr = 1e-6\n",
    "# - tola = 1e-6\n",
    "# - numSteps = 10\n",
    "import numpy as np\n",
    "\n",
    "class Parameters:\n",
    "\n",
    "    def __init__(self):\n",
    "        self.float_dtype = np.float64 # single-precision float32 can lead to issues\n",
    "        #-------------------------\n",
    "        # Set material parameters.\n",
    "        #-------------------------\n",
    "        self.lambd = 2885\n",
    "        self.mu    = 1923\n",
    "\n",
    "        self.ns     = 0.01\n",
    "        self.rhoS_0 = 1000\n",
    "        self.rho_0  = self.ns*self.rhoS_0\n",
    "\n",
    "        self.grav = 9.81\n",
    "        #------------------------\n",
    "        # Set constitutive model.\n",
    "        #------------------------\n",
    "        # self.constitutive_model = 'Saint Venant-Kirchhoff'\n",
    "        self.constitutive_model = 'neo-Hookean'\n",
    "        #-----------------------------------\n",
    "        # Set boundary condition parameters.\n",
    "        #-----------------------------------\n",
    "        self.g_displ      = 0\n",
    "        self.tractionLoad = 10e3\n",
    "        self.t_ramp       = 1.0\n",
    "        #---------------------------------\n",
    "        # Set time integration parameters.\n",
    "        #---------------------------------\n",
    "        self.TStart   = 0.0\n",
    "        self.TStop    = 1.0\n",
    "        self.numSteps = 10 # set to low value for stability reasons\n",
    "        self.dt       = (self.TStop - self.TStart)/self.numSteps\n",
    "        self.t        = self.TStart\n",
    "        self.n        = 0\n",
    "        #-------------------------------\n",
    "        # Set Newton-Raphson parameters.\n",
    "        # - Note: loose tolerances gives\n",
    "        #         better performance.\n",
    "        #-------------------------------\n",
    "        self.tolr = 1e-6\n",
    "        self.tola = 1e-6\n",
    "        self.kmax = 5\n",
    "        #------------------------\n",
    "        # Set element properties.\n",
    "        #------------------------\n",
    "        self.GaussOrder = 2\n",
    "        self.numGauss   = 8\n",
    "        self.numDim     = 3\n",
    "        self.numElDOF   = 24"
   ]
  },
  {
   "cell_type": "code",
   "execution_count": null,
   "metadata": {},
   "outputs": [],
   "source": [
    "params = Parameters()\n",
    "\n",
    "params.displacementProblem = False\n",
    "params.tractionProblem     = True"
   ]
  },
  {
   "cell_type": "code",
   "execution_count": null,
   "metadata": {},
   "outputs": [],
   "source": [
    "import solver_u\n",
    "solver_u.main(params, printTol=False)\n",
    "%reset -f"
   ]
  },
  {
   "cell_type": "code",
   "execution_count": null,
   "metadata": {},
   "outputs": [],
   "source": []
  }
 ],
 "metadata": {
  "kernelspec": {
   "display_name": "Python 3",
   "language": "python",
   "name": "python3"
  },
  "language_info": {
   "codemirror_mode": {
    "name": "ipython",
    "version": 3
   },
   "file_extension": ".py",
   "mimetype": "text/x-python",
   "name": "python",
   "nbconvert_exporter": "python",
   "pygments_lexer": "ipython3",
   "version": "3.8.10"
  }
 },
 "nbformat": 4,
 "nbformat_minor": 4
}
